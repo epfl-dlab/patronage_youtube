{
 "cells": [
  {
   "cell_type": "markdown",
   "metadata": {
    "tags": []
   },
   "source": [
    "# Characterizing Patronage on YouTube\n",
    "\n",
    "## 0. Files and brief explanation of those\n",
    "\n",
    "All data is located in `/dlabdata1/youtube_large/`"
   ]
  },
  {
   "cell_type": "code",
   "execution_count": 1,
   "metadata": {},
   "outputs": [],
   "source": [
    "DATA_FOLDER = \"/dlabdata1/youtube_large/\""
   ]
  },
  {
   "cell_type": "markdown",
   "metadata": {},
   "source": [
    "**YouNiverse dataset:**\n",
    "\n",
    "- `df_channels_en.tsv.gz`: channel metadata.\n",
    "- `df_timeseries_en.tsv.gz`: channel-level time-series.\n",
    "- `yt_metadata_en.jsonl.gz`: raw video metadata.\n",
    "- `youtube_comments.tsv.gz`: user-comment matrices.\n",
    "- `youtube_comments.ndjson.zst`: raw comments — this is a HUGE file.\n",
    "\n",
    "**Graphteon dataset:**\n",
    "- `creators.csv` list with all creator names.\n",
    "- `final_processed_file.jsonl.gz` all graphteon time-series.\n",
    "- `pages.zip` raw html of the pages in graphteon."
   ]
  },
  {
   "cell_type": "markdown",
   "metadata": {},
   "source": [
    "#### Libaries imports"
   ]
  },
  {
   "cell_type": "code",
   "execution_count": 2,
   "metadata": {},
   "outputs": [],
   "source": [
    "# !conda list"
   ]
  },
  {
   "cell_type": "code",
   "execution_count": 3,
   "metadata": {
    "tags": []
   },
   "outputs": [],
   "source": [
    "import os \n",
    "import io\n",
    "import pandas as pd\n",
    "import json\n",
    "import re\n",
    "import zstandard\n",
    "import matplotlib.pyplot as plt\n",
    "import matplotlib.dates as mdates\n",
    "import numpy as np\n",
    "import seaborn as sns\n",
    "import gzip\n",
    "from tqdm import tqdm\n",
    "import timeit\n",
    "import ast"
   ]
  },
  {
   "cell_type": "code",
   "execution_count": 4,
   "metadata": {},
   "outputs": [
    {
     "name": "stdout",
     "output_type": "stream",
     "text": [
      "total 1.1G\n",
      "-rw-r--r-- 1 fmurray IN-MA4_StudU 334M Mar 26 20:57 df_gt_timeseries_filtered.tsv.gz\n",
      "-rw-r--r-- 1 fmurray IN-MA4_StudU  68K Apr  1 16:29 patronage_youtube.ipynb\n",
      "-rw-r--r-- 1 fmurray IN-MA4_StudU  818 Feb 28 15:34 README.md\n",
      "drwxr-xr-x 3 fmurray IN-MA4_StudU 4.0K Mar 26 21:00 scripts\n",
      "-rw-r--r-- 1 fmurray IN-MA4_StudU 241K Mar 25 19:22 yt_metadata_en_pt_TEST.tsv.gz\n",
      "-rw-r--r-- 1 fmurray IN-MA4_StudU 740M Mar 26 17:19 yt_metadata_en_pt.tsv.gz\n"
     ]
    }
   ],
   "source": [
    "# list all files in current directory\n",
    "!ls -lh"
   ]
  },
  {
   "cell_type": "code",
   "execution_count": 5,
   "metadata": {
    "scrolled": true
   },
   "outputs": [
    {
     "name": "stdout",
     "output_type": "stream",
     "text": [
      "total 836G\n",
      "-rw-r--r--  1 horta   dlab_AppGrpU  13M Feb 21 09:22 creators.csv\n",
      "-rw-r--r--  1 horta   dlab_AppGrpU 5.7M Dec 18  2020 df_channels_en.tsv.gz\n",
      "-rw-r--r--  1 horta   dlab_AppGrpU 545M Dec 16  2020 df_timeseries_en.tsv.gz\n",
      "-rw-r--r--  1 horta   dlab_AppGrpU 2.7G Feb 21 09:29 final_processed_file.jsonl.gz\n",
      "-rw-r--r--  1 horta   dlab_AppGrpU 605K Dec 16  2020 invalid.csv\n",
      "drwxr-sr-x 10 jouven  dlab_AppGrpU 4.0K Jan 15  2021 jouven\n",
      "-rw-r--r--  1 horta   dlab_AppGrpU 1.3G Mar 30  2021 num_comments_authors.tsv.gz\n",
      "-rw-r--r--  1 horta   dlab_AppGrpU 720M Mar 30  2021 num_comments.tsv.gz\n",
      "drwxr-sr-x  4 olam    dlab_AppGrpU 4.0K Nov  1  2020 olam\n",
      "-rw-r--r--  1 horta   dlab_AppGrpU 4.4G Feb 21 09:41 pages.zip\n",
      "-rw-r--r--  1 horta   dlab_AppGrpU 6.2M Dec 16  2020 _raw_df_channels.tsv.gz\n",
      "-rw-r--r--  1 horta   dlab_AppGrpU 623M Dec 16  2020 _raw_df_timeseries.tsv.gz\n",
      "-rwxrwxrwx  1 horta   dlab_AppGrpU  14G Jul 21  2020 _raw_yt_metadata.jsonl.zst\n",
      "-rw-r--r--  1 horta   dlab_AppGrpU 7.9K Dec 18  2020 test.jsonl\n",
      "drwxrwsrwx  5 horta   dlab_AppGrpU 4.0K Dec 17  2020 _tmp\n",
      "-rwxrwxrwx  1 horta   dlab_AppGrpU 721G Dec  1  2019 youtube_comments.ndjson.zst\n",
      "-rw-r--r--  1 horta   dlab_AppGrpU  72G Mar 26  2021 youtube_comments.tsv.gz\n",
      "-rw-r--r--  1 horta   dlab_AppGrpU  13G Dec 18  2020 yt_metadata_en.jsonl.gz\n",
      "drwxr-sr-x  3 olam    dlab_AppGrpU 4.0K Jan  2  2021 yt_metadata_en.jsonl.gzmodel\n",
      "-rw-r--r--  1 fmurray dlab_AppGrpU 2.2M Mar 12 14:27 yt_metadata_en_pt.feather\n",
      "-rw-r--r--  1 fmurray dlab_AppGrpU 764M Mar 12 18:35 yt_metadata_en_pt.tsv.gz\n",
      "-rwxrwxrwx  1 horta   dlab_AppGrpU 2.7G Dec 18  2020 yt_metadata_helper.feather\n"
     ]
    }
   ],
   "source": [
    "# list all files in DATA_FOLDER\n",
    "!ls -lh /dlabdata1/youtube_large"
   ]
  },
  {
   "cell_type": "markdown",
   "metadata": {},
   "source": [
    "## 1. Exploratory Data Analysis (EDA)"
   ]
  },
  {
   "cell_type": "markdown",
   "metadata": {},
   "source": [
    "### 1.1. YouNiverse dataset"
   ]
  },
  {
   "cell_type": "markdown",
   "metadata": {},
   "source": [
    "#### 1.1.1 Channel metadata\n",
    "Metadata associated with the 136,470 channels: **channel ID**, **join date**, **country**, **number of subscribers**, **most frequent category**, and the **channel’s position** in socialblade.com’s subscriber ranking. \\\n",
    "The number of subscribers is provided both as obtained from channelcrawler.com (between 2019-09-12 and 2019-09-17) and as crawled from socialblade.com (2019-09-27). Additionally, we also provide a set of **weights** (derived from socialblade.com’s subscriber rankings) that can be used to partially correct sample biases in our dataset.\n",
    "\n",
    "- `category_cc`: category of the channel (majority based)\n",
    "- `join_date`: join date of the channel\n",
    "- `channel`: channel id\n",
    "- `name_cc`: name of the channel.\n",
    "- `subscribers_cc`: number of subscribers\n",
    "- `videos_cc`: number of videos\n",
    "- `subscriber_rank_sb`: rank in terms of number of subscribers (channel’s position in socialblade.com’s subscriber ranking)\n",
    "- `weights`: weights cal (Set of weights derived from socialblade.com’s subscriber rankings. Can be used to partially correct sample biases in our dataset. -> correction for representation)"
   ]
  },
  {
   "cell_type": "code",
   "execution_count": null,
   "metadata": {},
   "outputs": [],
   "source": [
    "# !ls -lh /dlabdata1/youtube_large/df_channels_en.tsv.gz"
   ]
  },
  {
   "cell_type": "code",
   "execution_count": null,
   "metadata": {},
   "outputs": [],
   "source": [
    "# channel metadata\n",
    "df_yt_channels = pd.read_csv(DATA_FOLDER+'df_channels_en.tsv.gz', sep=\"\\t\", compression='gzip')\n",
    "df_yt_channels"
   ]
  },
  {
   "cell_type": "markdown",
   "metadata": {},
   "source": [
    "Facts about this data (taken from [YouNiverse github page](https://github.com/epfl-dlab/YouNiverse)) \n",
    "\n",
    "- This dataframe has 136,470 rows, where each one corresponds to a different channel.\n",
    "- We obtained all channels with >10k subscribers and >10 videos from channelcrawler.com in the 27 October 2019.\n",
    "- Additionally we filtered all channels that were not in english given their video metadata (see `Raw Channels')."
   ]
  },
  {
   "cell_type": "markdown",
   "metadata": {
    "tags": []
   },
   "source": [
    "##### Summary statistics"
   ]
  },
  {
   "cell_type": "code",
   "execution_count": null,
   "metadata": {
    "tags": []
   },
   "outputs": [],
   "source": [
    "print('Number of unique categories:         {:,}'.format(df_yt_channels['category_cc'].nunique()))\n",
    "print('Number of unique channels:      {:,}'.format(df_yt_channels['channel'].nunique()))\n",
    "print('Number of unique channel names: {:,}'.format(df_yt_channels['name_cc'].nunique()))\n",
    "\n",
    "print('\\nNote: there are more unique channels than unique names, so some channels might have the same name!')"
   ]
  },
  {
   "cell_type": "markdown",
   "metadata": {},
   "source": [
    "##### Distribution of videos and subscribers per channel"
   ]
  },
  {
   "cell_type": "code",
   "execution_count": null,
   "metadata": {},
   "outputs": [],
   "source": [
    "selected_cols = ['videos_cc', 'subscribers_cc']\n",
    "\n",
    "# plot with linear scale for x axis and log scale for y axis\n",
    "fig, axs = plt.subplots(nrows=1, ncols=2, figsize=(10,5))\n",
    "\n",
    "for i,(col,ax) in enumerate(zip(selected_cols, axs.flatten())):\n",
    "    sns.histplot(data=df_yt_channels[col], ax=ax, bins=50, kde=False, color=f'C{i}')\n",
    "    ax.set(title=f'Distribution of {col}')\n",
    "    ax.set_ylabel(\"Count - number of channels (log scale)\")\n",
    "    ax.set(yscale=\"log\")\n",
    "    # ax.set(xscale=\"log\")\n",
    "plt.tight_layout()\n",
    "plt.show()\n",
    "\n",
    "\n",
    "# plot with log scale for x axis \n",
    "fig, axs = plt.subplots(nrows=1, ncols=2, figsize=(10,5))\n",
    "\n",
    "xlabels = [r'$\\log_{10}(videos)$', r'$\\log_{10}(subscribers)$']\n",
    "\n",
    "for i,(col,ax) in enumerate(zip(selected_cols, axs.flatten())):\n",
    "    sns.histplot(data=np.log10(df_yt_channels[col]), ax=ax, bins=50, kde=False, cumulative=False, color=f'C{i}')\n",
    "\n",
    "    ax.set(title=f'Distribution of {col} (log-log scale)')\n",
    "    ax.set_xlabel(xlabels[i])\n",
    "    ax.set_ylabel(\"Count - number of channels\")\n",
    "\n",
    "    # ax.set(yscale=\"log\")\n",
    "    # ax.set(xscale=\"log\")\n",
    "plt.tight_layout()\n",
    "plt.show()\n",
    "\n",
    "\n",
    "# plot with linear scale for both axes \n",
    "# fig, axs = plt.subplots(nrows=1, ncols=2, figsize=(10,5))\n",
    "\n",
    "# for i,(col,ax) in enumerate(zip(selected_cols, axs.flatten())):\n",
    "#     sns.histplot(data=df_yt_channels[col], ax=ax, bins=50, kde=False, color=f'C{i}')\n",
    "#     ax.set(title=f'Distribution of {col}')\n",
    "#     ax.set_ylabel(\"Count - number of channels\")\n",
    "#     # ax.set(yscale=\"log\")\n",
    "#     ax.set(xscale=\"log\")\n",
    "# plt.tight_layout()\n",
    "# plt.show()\n",
    "\n",
    "# # plot with log scale for x axis (distplot)\n",
    "# fig, axs = plt.subplots(nrows=1, ncols=2, figsize=(10,5))\n",
    "\n",
    "# for i,(col,ax) in enumerate(zip(selected_cols, axs.flatten())):\n",
    "#     sns.distplot(np.log10(df_yt_channels[col]), hist_kws=kwargs, kde=False, kde_kws=kwargs, ax=ax, norm_hist=True)\n",
    "\n",
    "#     ax.set(title=f'Distribution of {col} (log-log scale)')\n",
    "#     ax.set_ylabel(\"Count - number of channels\")\n",
    "#     # ax.set(yscale=\"log\")\n",
    "#     # ax.set(xscale=\"log\")\n",
    "# plt.tight_layout()\n",
    "# plt.show()\n",
    "\n",
    "\n",
    "# descriptive statistics table\n",
    "df_yt_channels[selected_cols].describe().T"
   ]
  },
  {
   "cell_type": "markdown",
   "metadata": {},
   "source": [
    "**Discussion:** \\\n",
    "From the above graphs and table, we can see that _videos_ and _subscribers_ distributions among YouTube channels follow a **power law**, meaning that most channels have a only a few videos and a few subscribers, but a few of them have a lot of videos and a lot of subscribers.\n",
    "\n",
    "More specifically:\n",
    "- 50% of the YouTube channels have less than 175 videos\n",
    "- 50% of the YouTube channels have less than 42,400 subscribers\n",
    "\n",
    "_Note: only channels with at least 10 videos and 10,000 subscribers were considered for this study._"
   ]
  },
  {
   "cell_type": "markdown",
   "metadata": {},
   "source": [
    "##### Group by categories"
   ]
  },
  {
   "cell_type": "code",
   "execution_count": null,
   "metadata": {},
   "outputs": [],
   "source": [
    "data_per_cat_chan = df_yt_channels.groupby(['category_cc', 'channel'])[['videos_cc', 'subscribers_cc']].agg(['max'])\n",
    "\n",
    "# set the columns to the top level of the multi-index\n",
    "data_per_cat_chan.columns = data_per_cat_chan.columns.get_level_values(0)\n",
    "data_per_cat_chan"
   ]
  },
  {
   "cell_type": "code",
   "execution_count": null,
   "metadata": {},
   "outputs": [],
   "source": [
    "data_per_cat_chan.reset_index(inplace=True)\n",
    "data_per_cat_chan"
   ]
  },
  {
   "cell_type": "markdown",
   "metadata": {},
   "source": [
    "##### Number of channels per category"
   ]
  },
  {
   "cell_type": "code",
   "execution_count": null,
   "metadata": {},
   "outputs": [],
   "source": [
    "chan_per_cat = data_per_cat_chan.groupby('category_cc')[['channel']].count().sort_values('channel', ascending=False)"
   ]
  },
  {
   "cell_type": "code",
   "execution_count": null,
   "metadata": {},
   "outputs": [],
   "source": [
    "chan_per_cat.plot(kind='bar')\n",
    "plt.title(\"Number of channels per category\")\n",
    "plt.xlabel(\"Categories\")\n",
    "plt.ylabel(\"Number of channels\")\n",
    "plt.show()\n",
    "chan_per_cat['channel']"
   ]
  },
  {
   "cell_type": "code",
   "execution_count": null,
   "metadata": {},
   "outputs": [],
   "source": [
    "# data_per_cat = data_per_cat_chan.groupby('category')['videos_cc','subscribers_cc'].agg(['min', 'max', 'count', 'sum'])\n",
    "data_per_cat = data_per_cat_chan.groupby('category_cc')[['videos_cc','subscribers_cc']].agg(['sum'])\n",
    "data_per_cat.columns = data_per_cat.columns.get_level_values(0)\n",
    "data_per_cat = data_per_cat.add_suffix('_sum')\n",
    "data_per_cat"
   ]
  },
  {
   "cell_type": "markdown",
   "metadata": {},
   "source": [
    "##### Number of videos per category"
   ]
  },
  {
   "cell_type": "code",
   "execution_count": null,
   "metadata": {},
   "outputs": [],
   "source": [
    "data_per_cat['videos_cc_sum'].sort_values(ascending=False).plot(kind='bar')\n",
    "plt.title(\"Number of videos per category\")\n",
    "plt.xlabel(\"Categories\")\n",
    "plt.ylabel(\"Number of videos\")\n",
    "plt.show()\n",
    "\n",
    "data_per_cat['videos_cc_sum'].sort_values(ascending=False)"
   ]
  },
  {
   "cell_type": "markdown",
   "metadata": {},
   "source": [
    "##### Number of subscribers per category"
   ]
  },
  {
   "cell_type": "code",
   "execution_count": null,
   "metadata": {},
   "outputs": [],
   "source": [
    "data_per_cat['subscribers_cc_sum'].sort_values(ascending=False).plot(kind='bar')\n",
    "plt.title(\"Number of subscribers per category\")\n",
    "plt.xlabel(\"Categories\")\n",
    "plt.ylabel(\"Number of videos\")\n",
    "plt.show()\n",
    "\n",
    "data_per_cat['subscribers_cc_sum'].sort_values(ascending=False)"
   ]
  },
  {
   "cell_type": "markdown",
   "metadata": {
    "tags": []
   },
   "source": [
    "#### 1.1.2 Channel time-series data\n",
    "Weekly number of viewers and subscribers. We have a data point for each channel and each week.\n",
    "\n",
    "Time series of channel activity at **weekly granularity**. The span of time series varies by channel depending on when socialblade.com started tracking the channel. On average, it contains **2.8 years of data per channel** for **133k channels** (notice that this means there are roughly 4k channels for which there is no time-series data). \\\n",
    "Each data point includes the **number of views** (`views`) and **subscribers** (`subs`) obtained in the given week, as well as the **number of videos** (`videos`) posted by the **channel** (`channel`). The number of videos is calculated using the video upload dates in our video metadata, such that videos that were unavailable at crawl time are not accounted for. \n",
    "\n",
    "---\n",
    "\n",
    "Time series related to each channel.\\\n",
    "These come from a mix of YouTube data and time series crawled from [socialblade.com](https://socialblade.com/):\n",
    "- From the former (YouTube data): derived weekly time series indicating **how many videos each channel had posted per week**. \n",
    "- From the latter (socialblade.com): crawled weekly statistics on the **number of viewers** `views` and **subscribers** `subs` per channel `channel`. This data was available for around 153k channels.\n",
    "\n",
    "    - `channel`: unique channel ID, which is the numbers and letters at the end of the URL.\n",
    "    - `category`: category of the channel as assigned by [socialblade.com](https://socialblade.com/) according to the last 10 videos at time of crawl (categories organize channels and videos on YouTube and help creators, advertisers, and channel managers identify with content and audiences they wish to associate with).\n",
    "    - `datetime`: First day of the week related to the data point\n",
    "    - `views`: Total number of views the channel had this week.\n",
    "    - `delta_views`: Delta views obtained this week (difference of nb of views between current and former week). (Interpolation)\n",
    "    - `subs`: Total number of subscribers the channel had this week.\n",
    "    - `delta_subs`: Delta subscribers obtained this week (difference of nb of subscribers between current and former week)\n",
    "    - `videos`: Number of videos posted by the channel up to date\n",
    "    - `delta_videos`:  Delta videos obtained this week (difference of number of videos posted by the channel between current and former week).\n",
    "    - `activity`: Number of videos published in the last 15 days.\n",
    "    \n",
    "    \n",
    "Note: Can view the channel by appending the channel id to the url, e.g.  https://www.youtube.com/channel/UCBJuEqXfXTdcPSbGO9qqn1g\n"
   ]
  },
  {
   "cell_type": "code",
   "execution_count": 6,
   "metadata": {},
   "outputs": [
    {
     "name": "stdout",
     "output_type": "stream",
     "text": [
      "-rw-r--r-- 1 horta dlab_AppGrpU 545M Dec 16  2020 /dlabdata1/youtube_large/df_timeseries_en.tsv.gz\n"
     ]
    }
   ],
   "source": [
    "!ls -lh /dlabdata1/youtube_large/df_timeseries_en.tsv.gz"
   ]
  },
  {
   "cell_type": "code",
   "execution_count": 7,
   "metadata": {},
   "outputs": [
    {
     "data": {
      "text/html": [
       "<div>\n",
       "<style scoped>\n",
       "    .dataframe tbody tr th:only-of-type {\n",
       "        vertical-align: middle;\n",
       "    }\n",
       "\n",
       "    .dataframe tbody tr th {\n",
       "        vertical-align: top;\n",
       "    }\n",
       "\n",
       "    .dataframe thead th {\n",
       "        text-align: right;\n",
       "    }\n",
       "</style>\n",
       "<table border=\"1\" class=\"dataframe\">\n",
       "  <thead>\n",
       "    <tr style=\"text-align: right;\">\n",
       "      <th></th>\n",
       "      <th>channel</th>\n",
       "      <th>category</th>\n",
       "      <th>datetime</th>\n",
       "      <th>views</th>\n",
       "      <th>delta_views</th>\n",
       "      <th>subs</th>\n",
       "      <th>delta_subs</th>\n",
       "      <th>videos</th>\n",
       "      <th>delta_videos</th>\n",
       "      <th>activity</th>\n",
       "    </tr>\n",
       "  </thead>\n",
       "  <tbody>\n",
       "    <tr>\n",
       "      <th>0</th>\n",
       "      <td>UCBJuEqXfXTdcPSbGO9qqn1g</td>\n",
       "      <td>Film and Animation</td>\n",
       "      <td>2017-07-03</td>\n",
       "      <td>2.024946e+05</td>\n",
       "      <td>0.000000</td>\n",
       "      <td>650.222222</td>\n",
       "      <td>0.000000</td>\n",
       "      <td>5</td>\n",
       "      <td>0</td>\n",
       "      <td>3</td>\n",
       "    </tr>\n",
       "    <tr>\n",
       "      <th>1</th>\n",
       "      <td>UCBJuEqXfXTdcPSbGO9qqn1g</td>\n",
       "      <td>Film and Animation</td>\n",
       "      <td>2017-07-10</td>\n",
       "      <td>3.940857e+05</td>\n",
       "      <td>191591.111111</td>\n",
       "      <td>1046.000000</td>\n",
       "      <td>395.777778</td>\n",
       "      <td>6</td>\n",
       "      <td>1</td>\n",
       "      <td>1</td>\n",
       "    </tr>\n",
       "    <tr>\n",
       "      <th>2</th>\n",
       "      <td>UCBJuEqXfXTdcPSbGO9qqn1g</td>\n",
       "      <td>Film and Animation</td>\n",
       "      <td>2017-07-17</td>\n",
       "      <td>8.353938e+05</td>\n",
       "      <td>441308.083333</td>\n",
       "      <td>1501.500000</td>\n",
       "      <td>455.500000</td>\n",
       "      <td>6</td>\n",
       "      <td>0</td>\n",
       "      <td>1</td>\n",
       "    </tr>\n",
       "    <tr>\n",
       "      <th>3</th>\n",
       "      <td>UCBJuEqXfXTdcPSbGO9qqn1g</td>\n",
       "      <td>Film and Animation</td>\n",
       "      <td>2017-07-24</td>\n",
       "      <td>1.104577e+06</td>\n",
       "      <td>269183.250000</td>\n",
       "      <td>1750.000000</td>\n",
       "      <td>248.500000</td>\n",
       "      <td>6</td>\n",
       "      <td>0</td>\n",
       "      <td>0</td>\n",
       "    </tr>\n",
       "    <tr>\n",
       "      <th>4</th>\n",
       "      <td>UCBJuEqXfXTdcPSbGO9qqn1g</td>\n",
       "      <td>Film and Animation</td>\n",
       "      <td>2017-07-31</td>\n",
       "      <td>1.284406e+06</td>\n",
       "      <td>179828.600000</td>\n",
       "      <td>2008.300000</td>\n",
       "      <td>258.300000</td>\n",
       "      <td>6</td>\n",
       "      <td>0</td>\n",
       "      <td>0</td>\n",
       "    </tr>\n",
       "    <tr>\n",
       "      <th>...</th>\n",
       "      <td>...</td>\n",
       "      <td>...</td>\n",
       "      <td>...</td>\n",
       "      <td>...</td>\n",
       "      <td>...</td>\n",
       "      <td>...</td>\n",
       "      <td>...</td>\n",
       "      <td>...</td>\n",
       "      <td>...</td>\n",
       "      <td>...</td>\n",
       "    </tr>\n",
       "    <tr>\n",
       "      <th>18872494</th>\n",
       "      <td>UC0UeVA9YHpOEr_Ng442xiRw</td>\n",
       "      <td>Gaming</td>\n",
       "      <td>2019-09-02</td>\n",
       "      <td>6.012938e+06</td>\n",
       "      <td>232418.277778</td>\n",
       "      <td>61268.611111</td>\n",
       "      <td>1305.611111</td>\n",
       "      <td>278</td>\n",
       "      <td>2</td>\n",
       "      <td>10</td>\n",
       "    </tr>\n",
       "    <tr>\n",
       "      <th>18872495</th>\n",
       "      <td>UC0UeVA9YHpOEr_Ng442xiRw</td>\n",
       "      <td>Gaming</td>\n",
       "      <td>2019-09-09</td>\n",
       "      <td>6.244579e+06</td>\n",
       "      <td>231640.888889</td>\n",
       "      <td>62631.666667</td>\n",
       "      <td>1363.055556</td>\n",
       "      <td>287</td>\n",
       "      <td>9</td>\n",
       "      <td>13</td>\n",
       "    </tr>\n",
       "    <tr>\n",
       "      <th>18872496</th>\n",
       "      <td>UC0UeVA9YHpOEr_Ng442xiRw</td>\n",
       "      <td>Gaming</td>\n",
       "      <td>2019-09-16</td>\n",
       "      <td>6.480902e+06</td>\n",
       "      <td>236322.933333</td>\n",
       "      <td>64010.000000</td>\n",
       "      <td>1378.333333</td>\n",
       "      <td>294</td>\n",
       "      <td>7</td>\n",
       "      <td>16</td>\n",
       "    </tr>\n",
       "    <tr>\n",
       "      <th>18872497</th>\n",
       "      <td>UC0UeVA9YHpOEr_Ng442xiRw</td>\n",
       "      <td>Gaming</td>\n",
       "      <td>2019-09-23</td>\n",
       "      <td>6.745317e+06</td>\n",
       "      <td>264415.200000</td>\n",
       "      <td>65480.000000</td>\n",
       "      <td>1470.000000</td>\n",
       "      <td>301</td>\n",
       "      <td>7</td>\n",
       "      <td>15</td>\n",
       "    </tr>\n",
       "    <tr>\n",
       "      <th>18872498</th>\n",
       "      <td>UC0UeVA9YHpOEr_Ng442xiRw</td>\n",
       "      <td>Gaming</td>\n",
       "      <td>2019-09-30</td>\n",
       "      <td>6.987738e+06</td>\n",
       "      <td>242420.771429</td>\n",
       "      <td>66542.857143</td>\n",
       "      <td>1062.857143</td>\n",
       "      <td>308</td>\n",
       "      <td>7</td>\n",
       "      <td>16</td>\n",
       "    </tr>\n",
       "  </tbody>\n",
       "</table>\n",
       "<p>18872499 rows × 10 columns</p>\n",
       "</div>"
      ],
      "text/plain": [
       "                           channel            category   datetime  \\\n",
       "0         UCBJuEqXfXTdcPSbGO9qqn1g  Film and Animation 2017-07-03   \n",
       "1         UCBJuEqXfXTdcPSbGO9qqn1g  Film and Animation 2017-07-10   \n",
       "2         UCBJuEqXfXTdcPSbGO9qqn1g  Film and Animation 2017-07-17   \n",
       "3         UCBJuEqXfXTdcPSbGO9qqn1g  Film and Animation 2017-07-24   \n",
       "4         UCBJuEqXfXTdcPSbGO9qqn1g  Film and Animation 2017-07-31   \n",
       "...                            ...                 ...        ...   \n",
       "18872494  UC0UeVA9YHpOEr_Ng442xiRw              Gaming 2019-09-02   \n",
       "18872495  UC0UeVA9YHpOEr_Ng442xiRw              Gaming 2019-09-09   \n",
       "18872496  UC0UeVA9YHpOEr_Ng442xiRw              Gaming 2019-09-16   \n",
       "18872497  UC0UeVA9YHpOEr_Ng442xiRw              Gaming 2019-09-23   \n",
       "18872498  UC0UeVA9YHpOEr_Ng442xiRw              Gaming 2019-09-30   \n",
       "\n",
       "                 views    delta_views          subs   delta_subs  videos  \\\n",
       "0         2.024946e+05       0.000000    650.222222     0.000000       5   \n",
       "1         3.940857e+05  191591.111111   1046.000000   395.777778       6   \n",
       "2         8.353938e+05  441308.083333   1501.500000   455.500000       6   \n",
       "3         1.104577e+06  269183.250000   1750.000000   248.500000       6   \n",
       "4         1.284406e+06  179828.600000   2008.300000   258.300000       6   \n",
       "...                ...            ...           ...          ...     ...   \n",
       "18872494  6.012938e+06  232418.277778  61268.611111  1305.611111     278   \n",
       "18872495  6.244579e+06  231640.888889  62631.666667  1363.055556     287   \n",
       "18872496  6.480902e+06  236322.933333  64010.000000  1378.333333     294   \n",
       "18872497  6.745317e+06  264415.200000  65480.000000  1470.000000     301   \n",
       "18872498  6.987738e+06  242420.771429  66542.857143  1062.857143     308   \n",
       "\n",
       "          delta_videos  activity  \n",
       "0                    0         3  \n",
       "1                    1         1  \n",
       "2                    0         1  \n",
       "3                    0         0  \n",
       "4                    0         0  \n",
       "...                ...       ...  \n",
       "18872494             2        10  \n",
       "18872495             9        13  \n",
       "18872496             7        16  \n",
       "18872497             7        15  \n",
       "18872498             7        16  \n",
       "\n",
       "[18872499 rows x 10 columns]"
      ]
     },
     "execution_count": 7,
     "metadata": {},
     "output_type": "execute_result"
    }
   ],
   "source": [
    "# channel-level time-series.\n",
    "df_yt_timeseries = pd.read_csv(DATA_FOLDER+'df_timeseries_en.tsv.gz', sep=\"\\t\", compression='gzip', parse_dates=['datetime'])\n",
    "df_yt_timeseries"
   ]
  },
  {
   "cell_type": "markdown",
   "metadata": {},
   "source": [
    "##### Summary statistics"
   ]
  },
  {
   "cell_type": "code",
   "execution_count": 8,
   "metadata": {},
   "outputs": [],
   "source": [
    "# df_yt_timeseries.describe().T"
   ]
  },
  {
   "cell_type": "code",
   "execution_count": 9,
   "metadata": {},
   "outputs": [
    {
     "name": "stdout",
     "output_type": "stream",
     "text": [
      "Timeseries data was gathered between January 05, 2015 and September 30, 2019\n",
      "Total number of datapoints accross all channels:   18,872,499\n",
      "Average number of datapoints per channel:                141 weeks (≈2.7 years)\n",
      "Number of unique categories:                               15\n",
      "Number of unique channels:                            133,516\n"
     ]
    }
   ],
   "source": [
    "yt_ts_uniq_chan_cnt = df_yt_timeseries['channel'].nunique()\n",
    "\n",
    "print('Timeseries data was gathered between {} and {}'.format(df_yt_timeseries['datetime'].min().strftime('%B %d, %Y'),\n",
    "                                                         df_yt_timeseries['datetime'].max().strftime('%B %d, %Y')))\n",
    "print('Total number of datapoints accross all channels: {:>12,}'.format(len(df_yt_timeseries)))\n",
    "data_points_dist = df_yt_timeseries['channel'].value_counts()\n",
    "print('Average number of datapoints per channel:       {:>12.0f} weeks (≈{:,.1f} years)'.format(data_points_dist.mean(), data_points_dist.mean()/52))\n",
    "print('Number of unique categories:                     {:>12,}'.format(df_yt_timeseries['category'].nunique()))\n",
    "print('Number of unique channels:                       {:>12,}'.format(yt_ts_uniq_chan_cnt))"
   ]
  },
  {
   "cell_type": "markdown",
   "metadata": {},
   "source": [
    "##### Datetime points per channel"
   ]
  },
  {
   "cell_type": "markdown",
   "metadata": {},
   "source": [
    "Not all channels timeseries start and end at the same time, therefore we have a different amount of datapoints for each channel"
   ]
  },
  {
   "cell_type": "code",
   "execution_count": 10,
   "metadata": {},
   "outputs": [
    {
     "data": {
      "text/html": [
       "<div>\n",
       "<style scoped>\n",
       "    .dataframe tbody tr th:only-of-type {\n",
       "        vertical-align: middle;\n",
       "    }\n",
       "\n",
       "    .dataframe tbody tr th {\n",
       "        vertical-align: top;\n",
       "    }\n",
       "\n",
       "    .dataframe thead th {\n",
       "        text-align: right;\n",
       "    }\n",
       "</style>\n",
       "<table border=\"1\" class=\"dataframe\">\n",
       "  <thead>\n",
       "    <tr style=\"text-align: right;\">\n",
       "      <th></th>\n",
       "      <th>min</th>\n",
       "      <th>max</th>\n",
       "    </tr>\n",
       "    <tr>\n",
       "      <th>channel</th>\n",
       "      <th></th>\n",
       "      <th></th>\n",
       "    </tr>\n",
       "  </thead>\n",
       "  <tbody>\n",
       "    <tr>\n",
       "      <th>UC--24Q3_ZQeFmgJE-Um5QZQ</th>\n",
       "      <td>2016-08-01</td>\n",
       "      <td>2019-09-23 00:00:00</td>\n",
       "    </tr>\n",
       "    <tr>\n",
       "      <th>UC--2EbuIuBOGgGqPiJxi3rg</th>\n",
       "      <td>2016-06-27</td>\n",
       "      <td>2019-09-30 00:00:00</td>\n",
       "    </tr>\n",
       "    <tr>\n",
       "      <th>UC--3c8RqSfAqYBdDjIG3UNA</th>\n",
       "      <td>2019-02-25</td>\n",
       "      <td>2019-09-30 01:00:00</td>\n",
       "    </tr>\n",
       "    <tr>\n",
       "      <th>UC--3ozenTzry39-xMqAPQlw</th>\n",
       "      <td>2016-10-03</td>\n",
       "      <td>2019-09-30 00:00:00</td>\n",
       "    </tr>\n",
       "    <tr>\n",
       "      <th>UC--6E6EpybocdaNlPhvK_9A</th>\n",
       "      <td>2016-08-08</td>\n",
       "      <td>2019-09-30 00:00:00</td>\n",
       "    </tr>\n",
       "  </tbody>\n",
       "</table>\n",
       "</div>"
      ],
      "text/plain": [
       "                                min                 max\n",
       "channel                                                \n",
       "UC--24Q3_ZQeFmgJE-Um5QZQ 2016-08-01 2019-09-23 00:00:00\n",
       "UC--2EbuIuBOGgGqPiJxi3rg 2016-06-27 2019-09-30 00:00:00\n",
       "UC--3c8RqSfAqYBdDjIG3UNA 2019-02-25 2019-09-30 01:00:00\n",
       "UC--3ozenTzry39-xMqAPQlw 2016-10-03 2019-09-30 00:00:00\n",
       "UC--6E6EpybocdaNlPhvK_9A 2016-08-08 2019-09-30 00:00:00"
      ]
     },
     "execution_count": 10,
     "metadata": {},
     "output_type": "execute_result"
    }
   ],
   "source": [
    "datetime_data = df_yt_timeseries.groupby('channel')['datetime'].agg(['min', 'max'])\n",
    "datetime_data.head()"
   ]
  },
  {
   "cell_type": "code",
   "execution_count": 11,
   "metadata": {},
   "outputs": [],
   "source": [
    "# datetime_data.describe().T"
   ]
  },
  {
   "cell_type": "markdown",
   "metadata": {},
   "source": [
    "##### Datetime points per year"
   ]
  },
  {
   "cell_type": "code",
   "execution_count": 12,
   "metadata": {},
   "outputs": [],
   "source": [
    "yt_ts_year_cnt = df_yt_timeseries.groupby(df_yt_timeseries.datetime.dt.year).size()"
   ]
  },
  {
   "cell_type": "code",
   "execution_count": 13,
   "metadata": {},
   "outputs": [
    {
     "name": "stdout",
     "output_type": "stream",
     "text": [
      "Timeseries data was gathered between January 05, 2015 and September 30, 2019\n"
     ]
    },
    {
     "data": {
      "image/png": "[encoded data removed]",
      "text/plain": [
       "<Figure size 432x288 with 1 Axes>"
      ]
     },
     "metadata": {
      "needs_background": "light"
     },
     "output_type": "display_data"
    },
    {
     "data": {
      "text/plain": [
       "datetime\n",
       "2015       2164\n",
       "2016    2137720\n",
       "2017    5434045\n",
       "2018    6306258\n",
       "2019    4992312\n",
       "dtype: int64"
      ]
     },
     "execution_count": 13,
     "metadata": {},
     "output_type": "execute_result"
    }
   ],
   "source": [
    "print('Timeseries data was gathered between {} and {}'.format(df_yt_timeseries['datetime'].min().strftime('%B %d, %Y'),\n",
    "                                                         df_yt_timeseries['datetime'].max().strftime('%B %d, %Y')))\n",
    "yt_ts_year_cnt.plot(kind='bar')\n",
    "plt.title(\"Nb of datapoints per year accross all channels\")\n",
    "plt.xlabel(\"Year\")\n",
    "plt.ylabel(\"Count (datapoints)\")\n",
    "plt.show()\n",
    "\n",
    "yt_ts_year_cnt"
   ]
  },
  {
   "cell_type": "markdown",
   "metadata": {},
   "source": [
    "##### Datetime points per month"
   ]
  },
  {
   "cell_type": "code",
   "execution_count": 14,
   "metadata": {},
   "outputs": [
    {
     "data": {
      "text/plain": [
       "datetime  datetime\n",
       "2015      1           22\n",
       "          2           32\n",
       "          3           58\n",
       "          4           69\n",
       "          5           77\n",
       "dtype: int64"
      ]
     },
     "execution_count": 14,
     "metadata": {},
     "output_type": "execute_result"
    }
   ],
   "source": [
    "yt_ts_month_cnt = df_yt_timeseries.groupby([df_yt_timeseries.datetime.dt.year, df_yt_timeseries.datetime.dt.month]).size()\n",
    "yt_ts_month_cnt.head()"
   ]
  },
  {
   "cell_type": "code",
   "execution_count": 15,
   "metadata": {},
   "outputs": [
    {
     "data": {
      "text/plain": [
       "datetime\n",
       "2015-01-31    22\n",
       "2015-02-28    32\n",
       "2015-03-31    58\n",
       "2015-04-30    69\n",
       "2015-05-31    77\n",
       "Freq: M, Name: channel, dtype: int64"
      ]
     },
     "execution_count": 15,
     "metadata": {},
     "output_type": "execute_result"
    }
   ],
   "source": [
    "# using pandas.Grouper\n",
    "yt_ts_month_cnt_grouper = df_yt_timeseries.groupby(pd.Grouper(key='datetime', freq='M')).count().channel\n",
    "yt_ts_month_cnt_grouper.head()"
   ]
  },
  {
   "cell_type": "code",
   "execution_count": null,
   "metadata": {},
   "outputs": [],
   "source": [
    "# plot number of datapoints per month\n",
    "plt.figure(figsize=(15,2))\n",
    "yt_ts_month_cnt.plot(kind='bar')\n",
    "plt.title(\"Number of datapoints per month accross all channels (using regular group by method)\")\n",
    "plt.xlabel(\"Month\")\n",
    "plt.ylabel(\"Count (datapoints)\")\n",
    "plt.show()\n",
    "\n",
    "# plot number of datapoints per month using grouper\n",
    "plt.figure(figsize=(15,2))\n",
    "yt_ts_month_cnt_grouper.plot(kind='bar')\n",
    "plt.title(\"Number of datapoints per month accross all channels (using grouper)\")\n",
    "plt.xlabel(\"Month\")\n",
    "plt.ylabel(\"Count (datapoints)\")\n",
    "plt.show()"
   ]
  },
  {
   "cell_type": "code",
   "execution_count": null,
   "metadata": {},
   "outputs": [],
   "source": [
    "# only consider unique values per channel\n",
    "yt_ts_month_unique_cnt = df_yt_timeseries.groupby(pd.Grouper(key='datetime', freq='M')).agg({\"channel\": pd.Series.nunique})\n",
    "yt_ts_month_unique_cnt.head()"
   ]
  },
  {
   "cell_type": "code",
   "execution_count": null,
   "metadata": {},
   "outputs": [],
   "source": [
    "(df_yt_timeseries.groupby(['datetime', 'channel']).count() > 1).sum()"
   ]
  },
  {
   "cell_type": "code",
   "execution_count": null,
   "metadata": {},
   "outputs": [],
   "source": [
    "# Number of channels with timeseries (only consider unique values per channel) --> see https://stackoverflow.com/questions/38309729/count-unique-values-per-groups-with-pandas\n",
    "\n",
    "years = mdates.YearLocator()   # every year\n",
    "months = mdates.MonthLocator()  # every month\n",
    "\n",
    "fig, ax = plt.subplots(1, figsize=(7,3), sharey=True, sharex=True,\n",
    "                       gridspec_kw={\"wspace\": 0.05})\n",
    "\n",
    "ax.plot(yt_ts_month_unique_cnt)\n",
    "\n",
    "ax.set(title='Number of channels with timeseries')\n",
    "ax.set_xlabel(\"Month\")\n",
    "ax.set_ylabel(\"# channels\")\n",
    "ax.xaxis.set_major_locator(years)\n",
    "ax.xaxis.set_minor_locator(months)"
   ]
  },
  {
   "cell_type": "markdown",
   "metadata": {},
   "source": [
    "##### Datetime points accross channels"
   ]
  },
  {
   "cell_type": "code",
   "execution_count": 34,
   "metadata": {},
   "outputs": [
    {
     "name": "stdout",
     "output_type": "stream",
     "text": [
      "Total number of datapoints accross all channels:   18,872,499\n",
      "Average number of datapoints per channel:                 141 weeks (≈2.7 years)\n"
     ]
    },
    {
     "data": {
      "image/png": "[encoded data removed]",
      "text/plain": [
       "<Figure size 432x288 with 1 Axes>"
      ]
     },
     "metadata": {
      "needs_background": "light"
     },
     "output_type": "display_data"
    }
   ],
   "source": [
    "# Distribution of datapoints accross channels\n",
    "\n",
    "print('Total number of datapoints accross all channels: {:>12,}'.format(len(df_yt_timeseries)))\n",
    "data_points_dist = df_yt_timeseries['channel'].value_counts()\n",
    "print('Average number of datapoints per channel:        {:>12,.0f} weeks (≈{:,.1f} years)'.format(data_points_dist.mean(), data_points_dist.mean()/52))\n",
    "\n",
    "ax = sns.histplot(data=data_points_dist, bins=50, kde=False, color=f'C{1}')\n",
    "\n",
    "ax.set(title=f'Distribution of datapoints (weeks) accross channels')\n",
    "ax.set_xlabel('number of data points (weeks)')\n",
    "ax.set_ylabel('number of channels')\n",
    "\n",
    "# ax.set(yscale=\"log\")\n",
    "# plt.tight_layout()\n",
    "plt.show()"
   ]
  },
  {
   "cell_type": "code",
   "execution_count": 35,
   "metadata": {},
   "outputs": [
    {
     "data": {
      "text/html": [
       "<div>\n",
       "<style scoped>\n",
       "    .dataframe tbody tr th:only-of-type {\n",
       "        vertical-align: middle;\n",
       "    }\n",
       "\n",
       "    .dataframe tbody tr th {\n",
       "        vertical-align: top;\n",
       "    }\n",
       "\n",
       "    .dataframe thead tr th {\n",
       "        text-align: left;\n",
       "    }\n",
       "\n",
       "    .dataframe thead tr:last-of-type th {\n",
       "        text-align: right;\n",
       "    }\n",
       "</style>\n",
       "<table border=\"1\" class=\"dataframe\">\n",
       "  <thead>\n",
       "    <tr>\n",
       "      <th></th>\n",
       "      <th colspan=\"4\" halign=\"left\">datetime</th>\n",
       "      <th colspan=\"4\" halign=\"left\">views</th>\n",
       "      <th colspan=\"2\" halign=\"left\">delta_views</th>\n",
       "      <th>...</th>\n",
       "      <th colspan=\"2\" halign=\"left\">videos</th>\n",
       "      <th colspan=\"4\" halign=\"left\">delta_videos</th>\n",
       "      <th colspan=\"4\" halign=\"left\">activity</th>\n",
       "    </tr>\n",
       "    <tr>\n",
       "      <th></th>\n",
       "      <th>min</th>\n",
       "      <th>max</th>\n",
       "      <th>count</th>\n",
       "      <th>mean</th>\n",
       "      <th>min</th>\n",
       "      <th>max</th>\n",
       "      <th>count</th>\n",
       "      <th>mean</th>\n",
       "      <th>min</th>\n",
       "      <th>max</th>\n",
       "      <th>...</th>\n",
       "      <th>count</th>\n",
       "      <th>mean</th>\n",
       "      <th>min</th>\n",
       "      <th>max</th>\n",
       "      <th>count</th>\n",
       "      <th>mean</th>\n",
       "      <th>min</th>\n",
       "      <th>max</th>\n",
       "      <th>count</th>\n",
       "      <th>mean</th>\n",
       "    </tr>\n",
       "    <tr>\n",
       "      <th>channel</th>\n",
       "      <th></th>\n",
       "      <th></th>\n",
       "      <th></th>\n",
       "      <th></th>\n",
       "      <th></th>\n",
       "      <th></th>\n",
       "      <th></th>\n",
       "      <th></th>\n",
       "      <th></th>\n",
       "      <th></th>\n",
       "      <th></th>\n",
       "      <th></th>\n",
       "      <th></th>\n",
       "      <th></th>\n",
       "      <th></th>\n",
       "      <th></th>\n",
       "      <th></th>\n",
       "      <th></th>\n",
       "      <th></th>\n",
       "      <th></th>\n",
       "      <th></th>\n",
       "    </tr>\n",
       "  </thead>\n",
       "  <tbody>\n",
       "    <tr>\n",
       "      <th>UC--24Q3_ZQeFmgJE-Um5QZQ</th>\n",
       "      <td>2016-08-01</td>\n",
       "      <td>2019-09-23 00:00:00</td>\n",
       "      <td>165</td>\n",
       "      <td>2018-02-25 23:36:43.636363520</td>\n",
       "      <td>6.252450e+04</td>\n",
       "      <td>4.356804e+06</td>\n",
       "      <td>165</td>\n",
       "      <td>1.365816e+06</td>\n",
       "      <td>0.0</td>\n",
       "      <td>7.568855e+05</td>\n",
       "      <td>...</td>\n",
       "      <td>165</td>\n",
       "      <td>108.236364</td>\n",
       "      <td>0</td>\n",
       "      <td>2</td>\n",
       "      <td>165</td>\n",
       "      <td>0.963636</td>\n",
       "      <td>1</td>\n",
       "      <td>3</td>\n",
       "      <td>165</td>\n",
       "      <td>1.957576</td>\n",
       "    </tr>\n",
       "    <tr>\n",
       "      <th>UC--2EbuIuBOGgGqPiJxi3rg</th>\n",
       "      <td>2016-06-27</td>\n",
       "      <td>2019-09-30 00:00:00</td>\n",
       "      <td>171</td>\n",
       "      <td>2018-02-11 23:37:32.631578880</td>\n",
       "      <td>2.984862e+06</td>\n",
       "      <td>7.951972e+06</td>\n",
       "      <td>171</td>\n",
       "      <td>5.559505e+06</td>\n",
       "      <td>0.0</td>\n",
       "      <td>6.411512e+04</td>\n",
       "      <td>...</td>\n",
       "      <td>171</td>\n",
       "      <td>56.269006</td>\n",
       "      <td>0</td>\n",
       "      <td>1</td>\n",
       "      <td>171</td>\n",
       "      <td>0.070175</td>\n",
       "      <td>0</td>\n",
       "      <td>2</td>\n",
       "      <td>171</td>\n",
       "      <td>0.157895</td>\n",
       "    </tr>\n",
       "    <tr>\n",
       "      <th>UC--3c8RqSfAqYBdDjIG3UNA</th>\n",
       "      <td>2019-02-25</td>\n",
       "      <td>2019-09-30 01:00:00</td>\n",
       "      <td>32</td>\n",
       "      <td>2019-06-13 12:50:37.500000000</td>\n",
       "      <td>3.703988e+07</td>\n",
       "      <td>5.798712e+07</td>\n",
       "      <td>32</td>\n",
       "      <td>4.707118e+07</td>\n",
       "      <td>0.0</td>\n",
       "      <td>1.952233e+06</td>\n",
       "      <td>...</td>\n",
       "      <td>32</td>\n",
       "      <td>302.968750</td>\n",
       "      <td>0</td>\n",
       "      <td>5</td>\n",
       "      <td>32</td>\n",
       "      <td>1.937500</td>\n",
       "      <td>0</td>\n",
       "      <td>8</td>\n",
       "      <td>32</td>\n",
       "      <td>3.875000</td>\n",
       "    </tr>\n",
       "    <tr>\n",
       "      <th>UC--3ozenTzry39-xMqAPQlw</th>\n",
       "      <td>2016-10-03</td>\n",
       "      <td>2019-09-30 00:00:00</td>\n",
       "      <td>157</td>\n",
       "      <td>2018-04-01 23:35:32.484076544</td>\n",
       "      <td>7.669280e+06</td>\n",
       "      <td>1.455123e+07</td>\n",
       "      <td>157</td>\n",
       "      <td>1.223360e+07</td>\n",
       "      <td>0.0</td>\n",
       "      <td>1.761543e+05</td>\n",
       "      <td>...</td>\n",
       "      <td>157</td>\n",
       "      <td>38.159236</td>\n",
       "      <td>0</td>\n",
       "      <td>2</td>\n",
       "      <td>157</td>\n",
       "      <td>0.101911</td>\n",
       "      <td>0</td>\n",
       "      <td>3</td>\n",
       "      <td>157</td>\n",
       "      <td>0.235669</td>\n",
       "    </tr>\n",
       "    <tr>\n",
       "      <th>UC--6E6EpybocdaNlPhvK_9A</th>\n",
       "      <td>2016-08-08</td>\n",
       "      <td>2019-09-30 00:00:00</td>\n",
       "      <td>165</td>\n",
       "      <td>2018-03-04 23:36:43.636363520</td>\n",
       "      <td>1.900056e+06</td>\n",
       "      <td>9.166274e+06</td>\n",
       "      <td>165</td>\n",
       "      <td>5.950502e+06</td>\n",
       "      <td>0.0</td>\n",
       "      <td>1.181485e+05</td>\n",
       "      <td>...</td>\n",
       "      <td>165</td>\n",
       "      <td>26.569697</td>\n",
       "      <td>0</td>\n",
       "      <td>1</td>\n",
       "      <td>165</td>\n",
       "      <td>0.060606</td>\n",
       "      <td>0</td>\n",
       "      <td>2</td>\n",
       "      <td>165</td>\n",
       "      <td>0.133333</td>\n",
       "    </tr>\n",
       "  </tbody>\n",
       "</table>\n",
       "<p>5 rows × 32 columns</p>\n",
       "</div>"
      ],
      "text/plain": [
       "                           datetime                            \\\n",
       "                                min                 max count   \n",
       "channel                                                         \n",
       "UC--24Q3_ZQeFmgJE-Um5QZQ 2016-08-01 2019-09-23 00:00:00   165   \n",
       "UC--2EbuIuBOGgGqPiJxi3rg 2016-06-27 2019-09-30 00:00:00   171   \n",
       "UC--3c8RqSfAqYBdDjIG3UNA 2019-02-25 2019-09-30 01:00:00    32   \n",
       "UC--3ozenTzry39-xMqAPQlw 2016-10-03 2019-09-30 00:00:00   157   \n",
       "UC--6E6EpybocdaNlPhvK_9A 2016-08-08 2019-09-30 00:00:00   165   \n",
       "\n",
       "                                                               views  \\\n",
       "                                                  mean           min   \n",
       "channel                                                                \n",
       "UC--24Q3_ZQeFmgJE-Um5QZQ 2018-02-25 23:36:43.636363520  6.252450e+04   \n",
       "UC--2EbuIuBOGgGqPiJxi3rg 2018-02-11 23:37:32.631578880  2.984862e+06   \n",
       "UC--3c8RqSfAqYBdDjIG3UNA 2019-06-13 12:50:37.500000000  3.703988e+07   \n",
       "UC--3ozenTzry39-xMqAPQlw 2018-04-01 23:35:32.484076544  7.669280e+06   \n",
       "UC--6E6EpybocdaNlPhvK_9A 2018-03-04 23:36:43.636363520  1.900056e+06   \n",
       "\n",
       "                                                           delta_views  \\\n",
       "                                   max count          mean         min   \n",
       "channel                                                                  \n",
       "UC--24Q3_ZQeFmgJE-Um5QZQ  4.356804e+06   165  1.365816e+06         0.0   \n",
       "UC--2EbuIuBOGgGqPiJxi3rg  7.951972e+06   171  5.559505e+06         0.0   \n",
       "UC--3c8RqSfAqYBdDjIG3UNA  5.798712e+07    32  4.707118e+07         0.0   \n",
       "UC--3ozenTzry39-xMqAPQlw  1.455123e+07   157  1.223360e+07         0.0   \n",
       "UC--6E6EpybocdaNlPhvK_9A  9.166274e+06   165  5.950502e+06         0.0   \n",
       "\n",
       "                                        ... videos             delta_videos  \\\n",
       "                                   max  ...  count        mean          min   \n",
       "channel                                 ...                                   \n",
       "UC--24Q3_ZQeFmgJE-Um5QZQ  7.568855e+05  ...    165  108.236364            0   \n",
       "UC--2EbuIuBOGgGqPiJxi3rg  6.411512e+04  ...    171   56.269006            0   \n",
       "UC--3c8RqSfAqYBdDjIG3UNA  1.952233e+06  ...     32  302.968750            0   \n",
       "UC--3ozenTzry39-xMqAPQlw  1.761543e+05  ...    157   38.159236            0   \n",
       "UC--6E6EpybocdaNlPhvK_9A  1.181485e+05  ...    165   26.569697            0   \n",
       "\n",
       "                                             activity                      \n",
       "                         max count      mean      min max count      mean  \n",
       "channel                                                                    \n",
       "UC--24Q3_ZQeFmgJE-Um5QZQ   2   165  0.963636        1   3   165  1.957576  \n",
       "UC--2EbuIuBOGgGqPiJxi3rg   1   171  0.070175        0   2   171  0.157895  \n",
       "UC--3c8RqSfAqYBdDjIG3UNA   5    32  1.937500        0   8    32  3.875000  \n",
       "UC--3ozenTzry39-xMqAPQlw   2   157  0.101911        0   3   157  0.235669  \n",
       "UC--6E6EpybocdaNlPhvK_9A   1   165  0.060606        0   2   165  0.133333  \n",
       "\n",
       "[5 rows x 32 columns]"
      ]
     },
     "execution_count": 35,
     "metadata": {},
     "output_type": "execute_result"
    }
   ],
   "source": [
    "# Aggregates per channel\n",
    "sel_cols = ['datetime', 'views', 'delta_views', 'subs', 'delta_subs', 'videos', 'delta_videos', 'activity']\n",
    "data_per_channel = df_yt_timeseries.groupby('channel')[sel_cols].agg(['min', 'max', 'count', 'mean'])\n",
    "data_per_channel.head()"
   ]
  },
  {
   "cell_type": "markdown",
   "metadata": {},
   "source": [
    "#####  Views per channel"
   ]
  },
  {
   "cell_type": "code",
   "execution_count": null,
   "metadata": {},
   "outputs": [],
   "source": [
    "data_per_channel['views'].head()"
   ]
  },
  {
   "cell_type": "code",
   "execution_count": null,
   "metadata": {},
   "outputs": [],
   "source": [
    "# Distribution of total views per channel\n",
    "fig, axs = plt.subplots(nrows=2, ncols=1, figsize=(6,8))\n",
    "\n",
    "sns.histplot(data=data_per_channel['views']['max'], ax=axs[0], bins=20, kde=False, color=f'C{1}')\n",
    "axs[0].set(title=f'Distribution of total views per channel')\n",
    "axs[0].set_xlabel('number of views (in billions)')\n",
    "axs[0].set_ylabel('number of channels')\n",
    "axs[0].set(yscale=\"log\")\n",
    "xlabels1 = ['{:,.0f}'.format(x) + 'bn' for x in axs[0].get_xticks()/1_000_000_000]\n",
    "axs[0].set_xticklabels(xlabels1)\n",
    "\n",
    "# Distribution of total views per channel (log scale)\n",
    "sns.histplot(data=data_per_channel['views']['max'], ax=axs[1], bins=1000, kde=False, color=f'C{1}')\n",
    "axs[1].set(title=f'Distribution of total views per channel (log-log scale)')\n",
    "axs[1].set_xlabel('number of views (in millions)')\n",
    "axs[1].set_ylabel('number of channels')\n",
    "axs[1].set(yscale=\"log\")\n",
    "axs[1].set(xscale=\"log\")\n",
    "xlabels2 = ['{:,.0f}'.format(x) + 'M' for x in axs[1].get_xticks()/1_000_000]\n",
    "axs[1].set_xticklabels(xlabels2)\n",
    "\n",
    "plt.tight_layout()\n",
    "plt.show()\n",
    "\n",
    "data_per_channel['views'][['max']].describe().T"
   ]
  },
  {
   "cell_type": "code",
   "execution_count": null,
   "metadata": {},
   "outputs": [],
   "source": [
    "print(\"Top 10 channels with the most total views (in billions):\")\n",
    "\n",
    "for index, value in data_per_channel['views']['max'].sort_values(ascending=False)[:10].items():\n",
    "    print('https://www.youtube.com/channel/{} : {:,.1f} bn views'.format(index, value/1_000_000_000))"
   ]
  },
  {
   "cell_type": "markdown",
   "metadata": {},
   "source": [
    "##### Videos per channel"
   ]
  },
  {
   "cell_type": "code",
   "execution_count": null,
   "metadata": {},
   "outputs": [],
   "source": [
    "data_per_channel['videos'].head()"
   ]
  },
  {
   "cell_type": "code",
   "execution_count": null,
   "metadata": {},
   "outputs": [],
   "source": [
    "# Distribution of total videos per channel\n",
    "fig, axs = plt.subplots(nrows=2, ncols=1, figsize=(6,8))\n",
    "sns.histplot(data=data_per_channel['videos']['max'], ax=axs[0], bins=20, kde=False, color=f'C{1}')\n",
    "\n",
    "axs[0].set(title=f'Distribution of total videos per channel')\n",
    "axs[0].set_xlabel('number of videos')\n",
    "axs[0].set_ylabel('number of channels')\n",
    "axs[0].set(yscale=\"log\")\n",
    "\n",
    "# # Distribution of total views per channel (log scale)\n",
    "sns.histplot(data=data_per_channel['videos']['max'], ax=axs[1], bins=100, kde=False, color=f'C{1}')\n",
    "\n",
    "axs[1].set(title=f'Distribution of total videos per channel (log-log scale)')\n",
    "axs[1].set_xlabel('number of videos')\n",
    "axs[1].set_ylabel('number of channels')\n",
    "axs[1].set(yscale=\"log\")\n",
    "axs[1].set(xscale=\"log\")\n",
    "\n",
    "plt.tight_layout()\n",
    "plt.show()\n",
    "\n",
    "data_per_channel['videos'][['max']].describe().T"
   ]
  },
  {
   "cell_type": "code",
   "execution_count": null,
   "metadata": {},
   "outputs": [],
   "source": [
    "print(\"Top 10 channels with the most total videos:\")\n",
    "\n",
    "for index, value in data_per_channel['videos']['max'].sort_values(ascending=False)[:10].items():\n",
    "    print('https://www.youtube.com/channel/{} : {:,.0f} videos'.format(index, value))"
   ]
  },
  {
   "cell_type": "markdown",
   "metadata": {},
   "source": [
    "##### Subscribers per channel"
   ]
  },
  {
   "cell_type": "code",
   "execution_count": null,
   "metadata": {},
   "outputs": [],
   "source": [
    "data_per_channel['subs'].head()"
   ]
  },
  {
   "cell_type": "code",
   "execution_count": null,
   "metadata": {},
   "outputs": [],
   "source": [
    "# Distribution of total subscribers per channel\n",
    "fig, axs = plt.subplots(nrows=2, ncols=1, figsize=(6,8))\n",
    "sns.histplot(data=data_per_channel['subs']['max'], ax=axs[0], bins=20, kde=False, color=f'C{1}')\n",
    "\n",
    "axs[0].set(title=f'Distribution of total subscribers per channel')\n",
    "axs[0].set_xlabel('number of subscribers (in millions)')\n",
    "axs[0].set_ylabel('number of channels')\n",
    "axs[0].set(yscale=\"log\")\n",
    "xlabels0 = ['{:,.0f}'.format(x) + 'M' for x in axs[0].get_xticks()/1_000_000]\n",
    "axs[0].set_xticklabels(xlabels0)\n",
    "\n",
    "# # Distribution of total views per channel (log scale)\n",
    "sns.histplot(data=data_per_channel['subs']['max'], ax=axs[1], bins=500, kde=False, color=f'C{1}')\n",
    "\n",
    "axs[1].set(title=f'Distribution of total subscribers per channel (log-log scale)')\n",
    "axs[1].set_xlabel('number of subscribers')\n",
    "axs[1].set_ylabel('number of channels')\n",
    "axs[1].set(yscale=\"log\")\n",
    "axs[1].set(xscale=\"log\")\n",
    "\n",
    "plt.tight_layout()\n",
    "plt.show()\n",
    "\n",
    "data_per_channel['videos'][['max']].describe().T"
   ]
  },
  {
   "cell_type": "code",
   "execution_count": null,
   "metadata": {
    "tags": []
   },
   "outputs": [],
   "source": [
    "data_per_channel['subs']['max'].sort_values(ascending=False)[:10]"
   ]
  },
  {
   "cell_type": "code",
   "execution_count": null,
   "metadata": {},
   "outputs": [],
   "source": [
    "print(\"Top 10 channels with the most total subscribers:\")\n",
    "\n",
    "for index, value in data_per_channel['subs']['max'].sort_values(ascending=False)[:10].items():\n",
    "    print('https://www.youtube.com/channel/{} : {:,.1f}M subscribers'.format(index, value/1_000_000))"
   ]
  },
  {
   "cell_type": "code",
   "execution_count": null,
   "metadata": {},
   "outputs": [],
   "source": [
    "# set the columns to the top level of the multi-index\n",
    "# data_per_channel.columns = data_per_channel.columns.get_level_values(0)\n",
    "# data_per_channel"
   ]
  },
  {
   "cell_type": "markdown",
   "metadata": {},
   "source": [
    "#### 1.1.3 Raw video metadata\n",
    "The file `df_videos_raw.jsonl.gz` contains metadata data related to ~73M videos from ~137k channels. Below we show the data recorded for each of the video"
   ]
  },
  {
   "cell_type": "code",
   "execution_count": null,
   "metadata": {},
   "outputs": [],
   "source": [
    "!ls -lh /dlabdata1/youtube_large/yt_metadata_en.jsonl.gz"
   ]
  },
  {
   "cell_type": "code",
   "execution_count": null,
   "metadata": {},
   "outputs": [],
   "source": [
    "# ! zcat /dlabdata1/youtube_large/yt_metadata_en.jsonl.gz | head"
   ]
  },
  {
   "cell_type": "code",
   "execution_count": null,
   "metadata": {},
   "outputs": [],
   "source": [
    "df_yt_metadata = pd.read_json(DATA_FOLDER+'yt_metadata_en.jsonl.gz', compression='gzip', lines=True, nrows=2000)\n",
    "df_yt_metadata.head(2)"
   ]
  },
  {
   "cell_type": "markdown",
   "metadata": {},
   "source": [
    "#### 1.1.4 user-comment matrices"
   ]
  },
  {
   "cell_type": "code",
   "execution_count": null,
   "metadata": {},
   "outputs": [],
   "source": [
    "# !ls -lh /dlabdata1/youtube_large/youtube_comments.tsv.gz"
   ]
  },
  {
   "cell_type": "code",
   "execution_count": null,
   "metadata": {},
   "outputs": [],
   "source": [
    "# user-comment matrices\n",
    "df_yt_comments = pd.read_csv(DATA_FOLDER+'youtube_comments.tsv.gz', sep=\"\\t\", compression='gzip', nrows=100)\n",
    "df_yt_comments.head()"
   ]
  },
  {
   "cell_type": "markdown",
   "metadata": {},
   "source": [
    "#### 1.1.5 raw comments"
   ]
  },
  {
   "cell_type": "code",
   "execution_count": null,
   "metadata": {},
   "outputs": [],
   "source": [
    "# !ls -lh /dlabdata1/youtube_large/youtube_comments.ndjson.zst"
   ]
  },
  {
   "cell_type": "code",
   "execution_count": null,
   "metadata": {},
   "outputs": [],
   "source": [
    "def line_jsonify(line): \n",
    "    \"\"\"\n",
    "\n",
    "    :param line: string to parse and jsonify\n",
    "    :return: \n",
    "    \"\"\"    \n",
    "    \n",
    "    # add square brackets around line\n",
    "    line = \"[\" + line + \"]\"\n",
    "\n",
    "    # remove quotes before and after square brackets   \n",
    "    line = line.replace(\"\\\"[{\", \"[{\")\n",
    "    line = line.replace(\"}]\\\"\", \"}]\")    \n",
    "    \n",
    "    # replace double double-quotes with single double-quotes\n",
    "    line = line.replace(\"{\\\"\\\"\", \"{\\\"\")\n",
    "    line = line.replace(\"\\\"\\\"}\", \"\\\"}\")\n",
    "    line = line.replace(\"\\\"\\\":\\\"\\\"\", \"\\\":\\\"\")\n",
    "    line = line.replace(\":\\\"\\\"\", \":\\\"\")\n",
    "    line = line.replace(\"\\\"\\\":\", \"\\\":\")\n",
    "    \n",
    "    # line = line.replace(\"\\\"\\\":\", \"\\\":\")\n",
    "    line = line.replace(\"\\\"\\\",\\\"\\\"\", \"\\\",\\\"\")\n",
    "    line = line.replace(\"\\\"\\\",\\\"\\\"\", \"\\\",\\\"\")\n",
    "    line = line.replace(\"\\\\\\\"\\\"\", \"\\\\\\\"\")\n",
    "    line = line.replace(\"\\\\\\\",[\", \"\\\\\\\\ \\\",[\")\n",
    "    \n",
    "    line = re.sub(r',\\\"\\\"(?!\\,)', ',\\\"', line)\n",
    "\n",
    "    line = line.replace(\"true,\\\"\\\"\", \"true,\\\"\")\n",
    "    line = line.replace(\"false,\\\"\\\"\", \"false,\\\"\")\n",
    "    \n",
    "    return line"
   ]
  },
  {
   "cell_type": "code",
   "execution_count": null,
   "metadata": {},
   "outputs": [],
   "source": [
    "class Zreader:\n",
    "\n",
    "    def __init__(self, file, chunk_size=16384):\n",
    "        '''Init method'''\n",
    "        import codecs\n",
    "        self.fh = open(file,'rb')\n",
    "        print(f\"reading {file} in chunks ...\")\n",
    "        self.chunk_size = chunk_size\n",
    "        self.dctx = zstandard.ZstdDecompressor(max_window_size=2147483648)\n",
    "        self.reader = self.dctx.stream_reader(self.fh)\n",
    "        self.buffer = ''\n",
    "\n",
    "    def readlines(self):\n",
    "        '''Generator method that creates an iterator for each line of JSON'''\n",
    "        nb_chunk = 0\n",
    "        while True:\n",
    "            nb_chunk = nb_chunk + 1\n",
    "            if nb_chunk % 5000 == 0:\n",
    "                print(\"number of chunks read: \", nb_chunk)\n",
    "                \n",
    "            chunk = self.reader.read(self.chunk_size).decode(\"utf-8\", \"replace\")\n",
    "\n",
    "            if not chunk:\n",
    "                break\n",
    "            lines = (self.buffer + chunk).split(\"\\n\")\n",
    "\n",
    "            # print(\"lines per chunk: \", len(lines))\n",
    "            # print(lines)\n",
    "            \n",
    "            for line in lines[:-1]:\n",
    "                # print(line)\n",
    "                yield line\n",
    "\n",
    "            self.buffer = lines[-1]"
   ]
  },
  {
   "cell_type": "code",
   "execution_count": null,
   "metadata": {},
   "outputs": [],
   "source": [
    "NB_OF_LINES = 350000\n",
    "lines_json = []\n",
    "inp_file = DATA_FOLDER+\"youtube_comments.ndjson.zst\"\n",
    "reader = Zreader(inp_file, chunk_size=4092)\n",
    "\n",
    "for i, line in enumerate(reader.readlines()):\n",
    "    if i > NB_OF_LINES:\n",
    "        # print(line)\n",
    "        break\n",
    "    line_json = json.loads(line_jsonify(line))\n",
    "    lines_json.append(line_json)\n",
    "\n",
    "print(\"==> number of lines read:\", len(lines_json))\n",
    "\n",
    "df_yt_comments_raw = pd.DataFrame(data=lines_json[1:], columns=lines_json[0])\n",
    "df_yt_comments_raw.head()"
   ]
  },
  {
   "cell_type": "code",
   "execution_count": null,
   "metadata": {},
   "outputs": [],
   "source": []
  },
  {
   "cell_type": "markdown",
   "metadata": {},
   "source": [
    "### 1.2. Graphtreon dataset"
   ]
  },
  {
   "cell_type": "markdown",
   "metadata": {},
   "source": [
    "#### 1.2.1 List with all creator names."
   ]
  },
  {
   "cell_type": "code",
   "execution_count": null,
   "metadata": {},
   "outputs": [],
   "source": [
    "# !ls -lh /dlabdata1/youtube_large/creators.csv"
   ]
  },
  {
   "cell_type": "code",
   "execution_count": null,
   "metadata": {},
   "outputs": [],
   "source": [
    "# list with all creator names.\n",
    "df_gt_creators = pd.read_csv(DATA_FOLDER+'creators.csv')\n",
    "df_gt_creators.head()"
   ]
  },
  {
   "cell_type": "markdown",
   "metadata": {},
   "source": [
    "#### 1.2.2 All graphtreon time-series"
   ]
  },
  {
   "cell_type": "code",
   "execution_count": null,
   "metadata": {},
   "outputs": [],
   "source": [
    "!ls -lh /dlabdata1/youtube_large/final_processed_file.jsonl.gz"
   ]
  },
  {
   "cell_type": "code",
   "execution_count": null,
   "metadata": {},
   "outputs": [],
   "source": [
    "# final_processed_file.jsonl.gz all graphteon time-series.\n",
    "df_gt_timeseries = pd.read_json(DATA_FOLDER+'final_processed_file.jsonl.gz', compression='gzip', lines=True, nrows=500)\n",
    "# df_gt_timeseries = pd.read_json(DATA_FOLDER+'final_processed_file.jsonl.gz', compression='gzip', lines=True)\n",
    "df_gt_timeseries.head()\n",
    "\n",
    "# get only id and match them first\n",
    "# "
   ]
  },
  {
   "cell_type": "code",
   "execution_count": null,
   "metadata": {},
   "outputs": [],
   "source": []
  },
  {
   "cell_type": "markdown",
   "metadata": {
    "tags": []
   },
   "source": [
    "##### Summary statistics"
   ]
  },
  {
   "cell_type": "code",
   "execution_count": null,
   "metadata": {},
   "outputs": [],
   "source": [
    "df_gt_timeseries['startDate'] = pd.to_datetime(df_gt_timeseries['startDate'])\n",
    "df_gt_timeseries.head()"
   ]
  },
  {
   "cell_type": "code",
   "execution_count": null,
   "metadata": {
    "tags": []
   },
   "outputs": [],
   "source": [
    "print('Number of unique creators:         {:,}'.format(df_gt_timeseries['creatorName'].nunique()))\n",
    "print('Number of unique patreon ids:         {:,}'.format(df_gt_timeseries['patreon'].nunique()))\n",
    "\n",
    "print('Timeseries data was gathered between {} and {}'.format(df_gt_timeseries['startDate'].min().strftime('%B %d, %Y'),\n",
    "                                                         df_gt_timeseries['startDate'].max().strftime('%B %d, %Y')))\n",
    "print('Total number of datapoints accross all channels: {:>12,}'.format(len(df_gt_timeseries)))"
   ]
  },
  {
   "cell_type": "markdown",
   "metadata": {},
   "source": [
    "#### 1.2.3 Raw html of the pages in graphteon."
   ]
  },
  {
   "cell_type": "code",
   "execution_count": null,
   "metadata": {},
   "outputs": [],
   "source": [
    "!ls -lh /dlabdata1/youtube_large/pages.zip"
   ]
  },
  {
   "cell_type": "code",
   "execution_count": null,
   "metadata": {},
   "outputs": [],
   "source": [
    "# pages.zip raw html of the pages in graphteon."
   ]
  },
  {
   "cell_type": "markdown",
   "metadata": {},
   "source": [
    "## 2. Match data"
   ]
  },
  {
   "cell_type": "markdown",
   "metadata": {},
   "source": [
    "### 2.1. Merge channels data with YouTube timeseries"
   ]
  },
  {
   "cell_type": "code",
   "execution_count": null,
   "metadata": {},
   "outputs": [],
   "source": [
    "display(df_yt_timeseries.head(1))\n",
    "display(df_yt_channels.head(1))"
   ]
  },
  {
   "cell_type": "code",
   "execution_count": null,
   "metadata": {},
   "outputs": [],
   "source": []
  },
  {
   "cell_type": "code",
   "execution_count": null,
   "metadata": {},
   "outputs": [],
   "source": [
    "df_yt_timeseries_merged = df_yt_timeseries.merge(df_yt_channels, how='inner', on='channel')\n",
    "\n",
    "# remove duplicate columns\n",
    "# df_yt_timeseries_merged.drop('category_cc', axis='columns', inplace=True)\n",
    "\n",
    "df_yt_timeseries_merged"
   ]
  },
  {
   "cell_type": "markdown",
   "metadata": {},
   "source": [
    "### 2.2. Match YouTube timeseries and Graphtreon timeseries"
   ]
  },
  {
   "cell_type": "markdown",
   "metadata": {},
   "source": [
    "#### 2.2.1. Filter YouTube metadata containing patreon id\n",
    "_(externalized filter function to scripts.ipynb)_"
   ]
  },
  {
   "cell_type": "code",
   "execution_count": 19,
   "metadata": {},
   "outputs": [
    {
     "name": "stdout",
     "output_type": "stream",
     "text": [
      "-rw-r--r-- 1 fmurray IN-MA4_StudU 740M Mar 26 17:19 yt_metadata_en_pt.tsv.gz\n"
     ]
    }
   ],
   "source": [
    "!ls -lh \"yt_metadata_en_pt.tsv.gz\""
   ]
  },
  {
   "cell_type": "code",
   "execution_count": 20,
   "metadata": {},
   "outputs": [
    {
     "data": {
      "text/html": [
       "<div>\n",
       "<style scoped>\n",
       "    .dataframe tbody tr th:only-of-type {\n",
       "        vertical-align: middle;\n",
       "    }\n",
       "\n",
       "    .dataframe tbody tr th {\n",
       "        vertical-align: top;\n",
       "    }\n",
       "\n",
       "    .dataframe thead th {\n",
       "        text-align: right;\n",
       "    }\n",
       "</style>\n",
       "<table border=\"1\" class=\"dataframe\">\n",
       "  <thead>\n",
       "    <tr style=\"text-align: right;\">\n",
       "      <th></th>\n",
       "      <th>categories</th>\n",
       "      <th>channel_id</th>\n",
       "      <th>crawl_date</th>\n",
       "      <th>description</th>\n",
       "      <th>dislike_count</th>\n",
       "      <th>display_id</th>\n",
       "      <th>duration</th>\n",
       "      <th>like_count</th>\n",
       "      <th>tags</th>\n",
       "      <th>title</th>\n",
       "      <th>upload_date</th>\n",
       "      <th>view_count</th>\n",
       "      <th>patreon_id</th>\n",
       "    </tr>\n",
       "  </thead>\n",
       "  <tbody>\n",
       "    <tr>\n",
       "      <th>0</th>\n",
       "      <td>Film &amp; Animation</td>\n",
       "      <td>UCzWrhkg9eK5I8Bm3HfV-unA</td>\n",
       "      <td>2019-10-31 20:18:36.935269</td>\n",
       "      <td>Best Jeffy Funny Moments in SML of 2017 in thi...</td>\n",
       "      <td>1.0</td>\n",
       "      <td>2CQiKfLzu7o</td>\n",
       "      <td>1752</td>\n",
       "      <td>234.0</td>\n",
       "      <td>best moments sml,sml funniest moments,sml comp...</td>\n",
       "      <td>Best Jeffy Funny Moments in SML of 2017 Best C...</td>\n",
       "      <td>2017-12-22 00:00:00</td>\n",
       "      <td>4629.0</td>\n",
       "      <td>patreon.com/supermariologan</td>\n",
       "    </tr>\n",
       "    <tr>\n",
       "      <th>1</th>\n",
       "      <td>Music</td>\n",
       "      <td>UCzWdpFOflXTOk5Gsi2aJ67g</td>\n",
       "      <td>2019-11-13 21:46:32.451046</td>\n",
       "      <td>Subscribe for more horror music: https://www.y...</td>\n",
       "      <td>0.0</td>\n",
       "      <td>Dk5FOxR2_zw</td>\n",
       "      <td>381</td>\n",
       "      <td>85.0</td>\n",
       "      <td>horror music,best horror music,scary music,cre...</td>\n",
       "      <td>Sean Crone - Night | Creepy Dark Ambient Sound...</td>\n",
       "      <td>2019-09-10 00:00:00</td>\n",
       "      <td>1566.0</td>\n",
       "      <td>patreon.com/finalimpactstudios</td>\n",
       "    </tr>\n",
       "    <tr>\n",
       "      <th>2</th>\n",
       "      <td>Music</td>\n",
       "      <td>UCzWdpFOflXTOk5Gsi2aJ67g</td>\n",
       "      <td>2019-11-13 21:47:02.492293</td>\n",
       "      <td>Subscribe for more horror music: https://www.y...</td>\n",
       "      <td>2.0</td>\n",
       "      <td>PIdHX_Ptrvk</td>\n",
       "      <td>437</td>\n",
       "      <td>65.0</td>\n",
       "      <td>Vociferous Music,Mystic Valley,creepy music,sc...</td>\n",
       "      <td>Vociferous Music - Mystic Valley | Creepy Dark...</td>\n",
       "      <td>2017-08-21 00:00:00</td>\n",
       "      <td>2751.0</td>\n",
       "      <td>patreon.com/Vociferous</td>\n",
       "    </tr>\n",
       "  </tbody>\n",
       "</table>\n",
       "</div>"
      ],
      "text/plain": [
       "         categories                channel_id                  crawl_date  \\\n",
       "0  Film & Animation  UCzWrhkg9eK5I8Bm3HfV-unA  2019-10-31 20:18:36.935269   \n",
       "1             Music  UCzWdpFOflXTOk5Gsi2aJ67g  2019-11-13 21:46:32.451046   \n",
       "2             Music  UCzWdpFOflXTOk5Gsi2aJ67g  2019-11-13 21:47:02.492293   \n",
       "\n",
       "                                         description  dislike_count  \\\n",
       "0  Best Jeffy Funny Moments in SML of 2017 in thi...            1.0   \n",
       "1  Subscribe for more horror music: https://www.y...            0.0   \n",
       "2  Subscribe for more horror music: https://www.y...            2.0   \n",
       "\n",
       "    display_id  duration  like_count  \\\n",
       "0  2CQiKfLzu7o      1752       234.0   \n",
       "1  Dk5FOxR2_zw       381        85.0   \n",
       "2  PIdHX_Ptrvk       437        65.0   \n",
       "\n",
       "                                                tags  \\\n",
       "0  best moments sml,sml funniest moments,sml comp...   \n",
       "1  horror music,best horror music,scary music,cre...   \n",
       "2  Vociferous Music,Mystic Valley,creepy music,sc...   \n",
       "\n",
       "                                               title          upload_date  \\\n",
       "0  Best Jeffy Funny Moments in SML of 2017 Best C...  2017-12-22 00:00:00   \n",
       "1  Sean Crone - Night | Creepy Dark Ambient Sound...  2019-09-10 00:00:00   \n",
       "2  Vociferous Music - Mystic Valley | Creepy Dark...  2017-08-21 00:00:00   \n",
       "\n",
       "   view_count                      patreon_id  \n",
       "0      4629.0     patreon.com/supermariologan  \n",
       "1      1566.0  patreon.com/finalimpactstudios  \n",
       "2      2751.0          patreon.com/Vociferous  "
      ]
     },
     "execution_count": 20,
     "metadata": {},
     "output_type": "execute_result"
    }
   ],
   "source": [
    "# read filtered youtube metadata file (takes about 2 mins)\n",
    "df_yt_metadata_pt = pd.read_csv(\"yt_metadata_en_pt.tsv.gz\", sep=\"\\t\", lineterminator='\\n', compression='gzip') \n",
    "df_yt_metadata_pt.head(3)"
   ]
  },
  {
   "cell_type": "code",
   "execution_count": 21,
   "metadata": {},
   "outputs": [
    {
     "name": "stdout",
     "output_type": "stream",
     "text": [
      "[YouTube metadata] Total number of videos:                                           72,924,794\n",
      "[YouTube metadata] number of videos that contain a patreon link in description:       3,619,699 (5.0% of total dataset)\n"
     ]
    }
   ],
   "source": [
    "DF_YT_METADATA_ROWS = 72_924_794\n",
    "print(\"[YouTube metadata] Total number of videos:                                           {:>10,}\".format(DF_YT_METADATA_ROWS))\n",
    "print(\"[YouTube metadata] number of videos that contain a patreon link in description:      {:>10,} ({:.1%} of total dataset)\".format(len(df_yt_metadata_pt), len(df_yt_metadata_pt)/DF_YT_METADATA_ROWS))"
   ]
  },
  {
   "cell_type": "code",
   "execution_count": 22,
   "metadata": {},
   "outputs": [
    {
     "name": "stdout",
     "output_type": "stream",
     "text": [
      "[Filtered YouTube metadata] total number of unique patreon ids:                          40,216\n",
      "[Filtered YouTube metadata] number of unique channels that contain a patreon account:    22,223\n"
     ]
    }
   ],
   "source": [
    "# get list of all unique patreon ids in df_yt_metadata_pt\n",
    "yt_patreon_list = df_yt_metadata_pt.patreon_id.unique()\n",
    "yt_pt_channel_list = df_yt_metadata_pt['channel_id'].unique()\n",
    "print(\"[Filtered YouTube metadata] total number of unique patreon ids:                       {:>9,}\".format(len(yt_patreon_list)))\n",
    "print(\"[Filtered YouTube metadata] number of unique channels that contain a patreon account: {:>9,}\".format(len(yt_pt_channel_list)))"
   ]
  },
  {
   "cell_type": "markdown",
   "metadata": {},
   "source": [
    "**Observation:** \\\n",
    "We can see that we have _**more patreon ids than channels**_ (almost twice). Let's investigate further:"
   ]
  },
  {
   "cell_type": "markdown",
   "metadata": {},
   "source": [
    "##### Number of patreon ids per youtube channel"
   ]
  },
  {
   "cell_type": "code",
   "execution_count": 29,
   "metadata": {},
   "outputs": [
    {
     "data": {
      "text/html": [
       "<div>\n",
       "<style scoped>\n",
       "    .dataframe tbody tr th:only-of-type {\n",
       "        vertical-align: middle;\n",
       "    }\n",
       "\n",
       "    .dataframe tbody tr th {\n",
       "        vertical-align: top;\n",
       "    }\n",
       "\n",
       "    .dataframe thead th {\n",
       "        text-align: right;\n",
       "    }\n",
       "</style>\n",
       "<table border=\"1\" class=\"dataframe\">\n",
       "  <thead>\n",
       "    <tr style=\"text-align: right;\">\n",
       "      <th></th>\n",
       "      <th></th>\n",
       "      <th>display_id_cnt</th>\n",
       "    </tr>\n",
       "    <tr>\n",
       "      <th>channel_id</th>\n",
       "      <th>patreon_id</th>\n",
       "      <th></th>\n",
       "    </tr>\n",
       "  </thead>\n",
       "  <tbody>\n",
       "    <tr>\n",
       "      <th rowspan=\"2\" valign=\"top\">UC--24Q3_ZQeFmgJE-Um5QZQ</th>\n",
       "      <th>patreon.com/SailorAlex</th>\n",
       "      <td>9</td>\n",
       "    </tr>\n",
       "    <tr>\n",
       "      <th>patreon.com/SailorAlex?</th>\n",
       "      <td>165</td>\n",
       "    </tr>\n",
       "    <tr>\n",
       "      <th rowspan=\"2\" valign=\"top\">UC--70ql_IxJmhmqXqrkJrWQ</th>\n",
       "      <th>patreon.com/dakotawint</th>\n",
       "      <td>108</td>\n",
       "    </tr>\n",
       "    <tr>\n",
       "      <th>patreon.com/mr</th>\n",
       "      <td>1</td>\n",
       "    </tr>\n",
       "  </tbody>\n",
       "</table>\n",
       "</div>"
      ],
      "text/plain": [
       "                                                  display_id_cnt\n",
       "channel_id               patreon_id                             \n",
       "UC--24Q3_ZQeFmgJE-Um5QZQ patreon.com/SailorAlex                9\n",
       "                         patreon.com/SailorAlex?             165\n",
       "UC--70ql_IxJmhmqXqrkJrWQ patreon.com/dakotawint              108\n",
       "                         patreon.com/mr                        1"
      ]
     },
     "execution_count": 29,
     "metadata": {},
     "output_type": "execute_result"
    }
   ],
   "source": [
    "# group by channel_id AND patreon_id and count the number of unique vieos (display_ids)\n",
    "df_yt_metadata_pt_grp_chan = df_yt_metadata_pt.groupby(['channel_id','patreon_id']).agg(display_id_cnt=(\"display_id\", pd.Series.nunique))\n",
    "df_yt_metadata_pt_grp_chan.head(4)"
   ]
  },
  {
   "cell_type": "code",
   "execution_count": 30,
   "metadata": {},
   "outputs": [
    {
     "data": {
      "text/html": [
       "<div>\n",
       "<style scoped>\n",
       "    .dataframe tbody tr th:only-of-type {\n",
       "        vertical-align: middle;\n",
       "    }\n",
       "\n",
       "    .dataframe tbody tr th {\n",
       "        vertical-align: top;\n",
       "    }\n",
       "\n",
       "    .dataframe thead th {\n",
       "        text-align: right;\n",
       "    }\n",
       "</style>\n",
       "<table border=\"1\" class=\"dataframe\">\n",
       "  <thead>\n",
       "    <tr style=\"text-align: right;\">\n",
       "      <th></th>\n",
       "      <th>channel_id</th>\n",
       "      <th>patreon_id</th>\n",
       "      <th>display_id_cnt</th>\n",
       "    </tr>\n",
       "  </thead>\n",
       "  <tbody>\n",
       "    <tr>\n",
       "      <th>0</th>\n",
       "      <td>UC--24Q3_ZQeFmgJE-Um5QZQ</td>\n",
       "      <td>patreon.com/SailorAlex</td>\n",
       "      <td>9</td>\n",
       "    </tr>\n",
       "    <tr>\n",
       "      <th>1</th>\n",
       "      <td>UC--24Q3_ZQeFmgJE-Um5QZQ</td>\n",
       "      <td>patreon.com/SailorAlex?</td>\n",
       "      <td>165</td>\n",
       "    </tr>\n",
       "    <tr>\n",
       "      <th>2</th>\n",
       "      <td>UC--70ql_IxJmhmqXqrkJrWQ</td>\n",
       "      <td>patreon.com/dakotawint</td>\n",
       "      <td>108</td>\n",
       "    </tr>\n",
       "    <tr>\n",
       "      <th>3</th>\n",
       "      <td>UC--70ql_IxJmhmqXqrkJrWQ</td>\n",
       "      <td>patreon.com/mr</td>\n",
       "      <td>1</td>\n",
       "    </tr>\n",
       "  </tbody>\n",
       "</table>\n",
       "</div>"
      ],
      "text/plain": [
       "                 channel_id               patreon_id  display_id_cnt\n",
       "0  UC--24Q3_ZQeFmgJE-Um5QZQ   patreon.com/SailorAlex               9\n",
       "1  UC--24Q3_ZQeFmgJE-Um5QZQ  patreon.com/SailorAlex?             165\n",
       "2  UC--70ql_IxJmhmqXqrkJrWQ   patreon.com/dakotawint             108\n",
       "3  UC--70ql_IxJmhmqXqrkJrWQ           patreon.com/mr               1"
      ]
     },
     "execution_count": 30,
     "metadata": {},
     "output_type": "execute_result"
    }
   ],
   "source": [
    "# reset index\n",
    "df_yt_metadata_pt_grp_chan = df_yt_metadata_pt_grp_chan.reset_index()\n",
    "df_yt_metadata_pt_grp_chan.head(4)"
   ]
  },
  {
   "cell_type": "code",
   "execution_count": null,
   "metadata": {},
   "outputs": [],
   "source": [
    "# count the number of patreon_ids per channel\n",
    "pt_id_cnt_pr_chan = df_yt_metadata_pt_grp_chan.groupby('channel_id').count()['patreon_id'].sort_values(ascending=False)\n",
    "pt_id_cnt_pr_chan = pt_id_cnt_pr_chan.to_frame(name='patreon_id_cnt')\n",
    "pt_id_cnt_pr_chan"
   ]
  },
  {
   "cell_type": "code",
   "execution_count": null,
   "metadata": {},
   "outputs": [],
   "source": [
    "# plot with linear scale for both axes\n",
    "fig, axs = plt.subplots(nrows=2, ncols=1, figsize=(6,8))\n",
    "\n",
    "sns.histplot(data=pt_id_cnt_pr_chan, ax=axs[0], bins=50, kde=False, legend=False, color=f'C{0}')\n",
    "axs[0].set(title=f'Distribution of patreon ids per channel')\n",
    "axs[0].set_xlabel(\"Number of patreon ids\")\n",
    "axs[0].set_ylabel(\"Count of channels\")\n",
    "\n",
    "# plot with linear scale for x axis and log scale for y axis\n",
    "sns.histplot(data=pt_id_cnt_pr_chan, ax=axs[1], bins=50, kde=False, legend=False, color=f'C{0}')\n",
    "axs[1].set(title=f'Distribution of patreon ids per channel (log scale)')\n",
    "axs[1].set_xlabel(\"Number of patreon ids\")\n",
    "axs[1].set_ylabel(\"Count of channels (log scale)\")\n",
    "axs[1].set(yscale=\"log\")\n",
    "\n",
    "plt.tight_layout()\n",
    "plt.show()\n",
    "\n",
    "# descriptive statistics table\n",
    "pt_id_cnt_pr_chan.describe().T"
   ]
  },
  {
   "cell_type": "markdown",
   "metadata": {},
   "source": [
    "**Discussion:** \\\n",
    "As we observed earlier, some channels use more than 1 patreon id, and use different patreon urls (typically of the form _patreon.com/posts/postid_) for different videos. For example:\n",
    "- [JuliDG](https://www.youtube.com/channel/UCqQbeJvP8rsrJYF83PDPkWQ) uses 689 different patreon ids.\n",
    "- [Marco Cirillo](https://www.youtube.com/channel/UC4T9oHvffAyPsBUDmqE3HYA) uses 299 different patreon ids."
   ]
  },
  {
   "cell_type": "code",
   "execution_count": null,
   "metadata": {},
   "outputs": [],
   "source": [
    "df_yt_metadata_pt_grp_chan[df_yt_metadata_pt_grp_chan['channel_id'] == 'UCqQbeJvP8rsrJYF83PDPkWQ'].head()"
   ]
  },
  {
   "cell_type": "code",
   "execution_count": null,
   "metadata": {},
   "outputs": [],
   "source": [
    "df_yt_metadata_pt_grp_chan[df_yt_metadata_pt_grp_chan['channel_id'] == 'UC4T9oHvffAyPsBUDmqE3HYA'].head()"
   ]
  },
  {
   "cell_type": "markdown",
   "metadata": {},
   "source": [
    "_Optional: Keep only most used patreon_id per channel (patreon_id with most videos for each channel)_"
   ]
  },
  {
   "cell_type": "code",
   "execution_count": null,
   "metadata": {},
   "outputs": [],
   "source": [
    "# # sort metadata df by diplay_id_cnt within each channel_id group\n",
    "# df_yt_metadata_pt_grp_chan = df_yt_metadata_pt_grp_chan.sort_values(['channel_id','display_id_cnt'], ascending=[True, False])\n",
    "# df_yt_metadata_pt_grp_chan.head(5)"
   ]
  },
  {
   "cell_type": "code",
   "execution_count": null,
   "metadata": {},
   "outputs": [],
   "source": [
    "# # calculate the number of duplicate of rows with same channel id but different patreon ids\n",
    "# dup_chan_id = df_yt_metadata_pt_grp_chan[df_yt_metadata_pt_grp_chan.duplicated(subset=['channel_id'], keep='first')]\n",
    "# print(\"Number of duplicate rows (same channel id with multiple patreon_ids): {:,}\".format(len(dup_chan_id)))"
   ]
  },
  {
   "cell_type": "code",
   "execution_count": null,
   "metadata": {},
   "outputs": [],
   "source": [
    "# # drop duplicate rows, keep the patreon ids with the most videos\n",
    "# df_yt_metadata_unique_pt = df_yt_metadata_pt_grp_chan.drop_duplicates(subset='channel_id', keep='first')\n",
    "# print('Removed {:,} rows'.format(len(df_yt_metadata_pt_grp_chan) - len(df_yt_metadata_unique_pt)))\n",
    "# df_yt_metadata_unique_pt"
   ]
  },
  {
   "cell_type": "markdown",
   "metadata": {},
   "source": [
    "**Further Observation:** \\\n",
    "When grouping YouTube metadata by `channel_id` and `patreon_id`, we also notice that we have more rows (44,859) than the total number of unique patreon ids (40,216). \\\n",
    "This is because some `patreon_id` are used on multiple channels. "
   ]
  },
  {
   "cell_type": "code",
   "execution_count": null,
   "metadata": {},
   "outputs": [],
   "source": [
    "print(\"total rows:                        {:,}\".format(len(df_yt_metadata_pt_grp_chan)))\n",
    "print(\"total number of unique patreon ids {:,}\".format(df_yt_metadata_pt.patreon_id.nunique()))"
   ]
  },
  {
   "cell_type": "code",
   "execution_count": null,
   "metadata": {},
   "outputs": [],
   "source": [
    "# show patreon_id that are used on multiple channels.\n",
    "df_yt_metadata_pt_grp_chan[df_yt_metadata_pt_grp_chan.duplicated(subset=['patreon_id'], keep=False)].sort_values(by='patreon_id')"
   ]
  },
  {
   "cell_type": "code",
   "execution_count": null,
   "metadata": {},
   "outputs": [],
   "source": [
    "print(\"[Filtered YouTube metadata] number of channels per patreon id:\")\n",
    "\n",
    "chan_cnt_per_patreon_id = df_yt_metadata_pt.groupby('patreon_id')\\\n",
    "                                            .agg(channel_id_count=('channel_id', 'count'))\\\n",
    "                                            .sort_values(by=['channel_id_count'], ascending=False)\n",
    "chan_cnt_per_patreon_id\n",
    "# chan_cnt_per_patreon_id.reset_index()"
   ]
  },
  {
   "cell_type": "markdown",
   "metadata": {},
   "source": [
    "##### Number of videos per patreon id"
   ]
  },
  {
   "cell_type": "code",
   "execution_count": null,
   "metadata": {},
   "outputs": [],
   "source": [
    "# group by patreon_id and count the number of unique display_ids\n",
    "vids_cnt_per_patreon_id = df_yt_metadata_pt.groupby('patreon_id').agg({\"display_id\": pd.Series.nunique}).sort_values(by='display_id', ascending=False)\n",
    "vids_cnt_per_patreon_id.rename(columns={'display_id':'display_id_cnt'}, inplace=True)\n",
    "\n",
    "print(\"[Filtered YouTube metadata] number of videos per patreon id:\")\n",
    "vids_cnt_per_patreon_id"
   ]
  },
  {
   "cell_type": "code",
   "execution_count": null,
   "metadata": {},
   "outputs": [],
   "source": [
    "# plot with linear scale for both axes\n",
    "fig, axs = plt.subplots(nrows=2, ncols=1, figsize=(6,8))\n",
    "\n",
    "sns.histplot(data=vids_cnt_per_patreon_id, ax=axs[0], bins=50, kde=False, color=f'C{0}')\n",
    "axs[0].set(title=f'Distribution of videos per patreon id')\n",
    "axs[0].set_xlabel(\"Number of videos\")\n",
    "axs[0].set_ylabel(\"# patreon ids\")\n",
    "\n",
    "# plot with linear scale for x axis and log scale for y axis\n",
    "sns.histplot(data=vids_cnt_per_patreon_id, ax=axs[1], bins=50, kde=False, color=f'C{0}')\n",
    "axs[1].set(title=f'Distribution of videos per patreon id (log scale)')\n",
    "axs[1].set_xlabel(\"Number of videos\")\n",
    "axs[1].set_ylabel(\"# patreon ids (log scale)\")\n",
    "axs[1].set(yscale=\"log\")\n",
    "\n",
    "plt.tight_layout()\n",
    "plt.show()\n",
    "\n",
    "# descriptive statistics table\n",
    "vids_cnt_per_patreon_id.describe().T"
   ]
  },
  {
   "cell_type": "markdown",
   "metadata": {},
   "source": [
    "**Discussion:** \\\n",
    "From the above graphs and table, we can see that the _videos_ distributions among patreon ids follows a **power law**, meaning that most patreon accounts have a only a few videos, but a few of them have a lot of videos.\n",
    "\n",
    "More specifically:\n",
    "- 25% of the Patreon accounts have 1 video\n",
    "- 50% of the Patreon accounts have less than 4 videos"
   ]
  },
  {
   "cell_type": "markdown",
   "metadata": {},
   "source": [
    "___"
   ]
  },
  {
   "cell_type": "markdown",
   "metadata": {},
   "source": [
    "#### Restrict YouTube channels (more filters)\n",
    "Restrict YouTube channels according to the following criteria (filters are applied sequentially):\n",
    "- Filter 1: Keep only YouTube channels linked to a patreon account \n",
    "- Filter 2: At least 2 year between first and last video\n",
    "- Filter 3: At least 20 videos with patreon ids\n",
    "- Filter 4: At least 250k subscribers at data crawling time"
   ]
  },
  {
   "cell_type": "code",
   "execution_count": 16,
   "metadata": {},
   "outputs": [],
   "source": [
    "# Define global values for filters\n",
    "MIN_DAYS_DELTA = \"730 day\"    # filter 2\n",
    "NB_PATREON_VIDS = 20          # filter 3\n",
    "NB_SUBS = 250_000             # filter 4"
   ]
  },
  {
   "cell_type": "code",
   "execution_count": 25,
   "metadata": {},
   "outputs": [],
   "source": [
    "# Nb of channels of original YT timeseries dataset (need to first load df_yt_timeseries in 1.1.2)\n",
    "yt_ts_uniq_chan_cnt = df_yt_timeseries['channel'].nunique()"
   ]
  },
  {
   "cell_type": "markdown",
   "metadata": {},
   "source": [
    "---\n",
    "**• Filter 1:** Keep only YouTube channels linked to a patron account "
   ]
  },
  {
   "cell_type": "code",
   "execution_count": 26,
   "metadata": {},
   "outputs": [],
   "source": [
    "# Apply filter 1: retain only the YT channels that exist in the filtered YT metadata dataset (need to first load df_yt_metadata_pt and yt_pt_channel_list in 2.2.1)\n",
    "df_yt_timeseries_filt1 = df_yt_timeseries[df_yt_timeseries['channel'].isin(yt_pt_channel_list)]\n",
    "yt_ts_uniq_chan_filt1_cnt = df_yt_timeseries_filt1['channel'].nunique()\n",
    "\n",
    "# df_yt_timeseries_filt1.head()"
   ]
  },
  {
   "cell_type": "markdown",
   "metadata": {},
   "source": [
    "---\n",
    "**• Filter 2:** At least 2 year between first and last video"
   ]
  },
  {
   "cell_type": "code",
   "execution_count": 27,
   "metadata": {},
   "outputs": [],
   "source": [
    "# among filter1 channels, calculate time difference between the first and the last video for each channel\n",
    "datetime_data = df_yt_timeseries_filt1.groupby('channel').agg(datetime_min=('datetime', 'min'),\n",
    "                                                              datetime_max=('datetime', 'max'))\n",
    "datetime_data['delta_datetime'] = datetime_data['datetime_max'] - datetime_data['datetime_min']\n",
    "\n",
    "# filter channels that we have data for at least MIN_TIME_DELTA days\n",
    "datetime_data_filt2 = datetime_data[datetime_data['delta_datetime'] > pd.Timedelta(MIN_DAYS_DELTA)]\n",
    "\n",
    "# Apply filter on YT Timeseries dataset: retain only those channels that have data for at least MIN_TIME_DELTA days\n",
    "df_yt_timeseries_filt2 = df_yt_timeseries_filt1[df_yt_timeseries_filt1['channel'].isin(datetime_data_filt2.index)]\n",
    "yt_ts_uniq_chan_filt2_cnt = df_yt_timeseries_filt2['channel'].nunique()\n",
    "\n",
    "# df_yt_timeseries_filt2.head()"
   ]
  },
  {
   "cell_type": "markdown",
   "metadata": {},
   "source": [
    "___"
   ]
  },
  {
   "cell_type": "markdown",
   "metadata": {},
   "source": [
    "**• Filter 3:** At least 20 videos with patreon ids per channel "
   ]
  },
  {
   "cell_type": "code",
   "execution_count": 32,
   "metadata": {},
   "outputs": [],
   "source": [
    "# group by channel_id AND patreon_id and count the number of unique videos (=display_ids). (need to load df_yt_metadata_pt_grp_chan from point 2.2.1)\n",
    "# Then filter rows that have at least 20 videos (display_ids) \n",
    "df_yt_metadata_pt_grp_chan_filt3 = df_yt_metadata_pt_grp_chan[df_yt_metadata_pt_grp_chan['display_id_cnt'] > NB_PATREON_VIDS]\n",
    "df_yt_metadata_pt_grp_chan_filt3\n",
    "\n",
    "# get list of unique channels satisfying filter 3\n",
    "chan_list_filt_3 = df_yt_metadata_pt_grp_chan_filt3['channel_id'].unique()\n",
    "\n",
    "# Apply filter on YT Timeseries dataset: retain only those channels from filt 2 that are in the chan_list_filt_3\n",
    "df_yt_timeseries_filt3 = df_yt_timeseries_filt2[df_yt_timeseries_filt2['channel'].isin(chan_list_filt_3)]\n",
    "yt_ts_uniq_chan_filt3_cnt = df_yt_timeseries_filt3['channel'].nunique()\n",
    "\n",
    "# df_yt_timeseries_filt3.head()"
   ]
  },
  {
   "cell_type": "markdown",
   "metadata": {},
   "source": [
    "---\n",
    "- **Filter 4:** At least 250k subscribers at data crawling time"
   ]
  },
  {
   "cell_type": "code",
   "execution_count": 36,
   "metadata": {},
   "outputs": [],
   "source": [
    "# Need to first load data_per_channel (aggregates per channel in 1.1.2 'Datetime points accross channels' section)\n",
    "subs_per_channel = data_per_channel['subs'][['min', 'max']].reset_index()\n",
    "\n",
    "subs_per_channel_filt4 = subs_per_channel[subs_per_channel['max'] > NB_SUBS]\n",
    "\n",
    "# get list of unique channels satisfying filter 4\n",
    "chan_list_filt_4 = subs_per_channel_filt4['channel'].unique()\n",
    "\n",
    "# # Apply filter on YT Timeseries dataset: retain only those channels from filt_3 that are in the chan_list_filt_4\n",
    "df_yt_timeseries_filt4 = df_yt_timeseries_filt3[df_yt_timeseries_filt3['channel'].isin(chan_list_filt_4)]\n",
    "yt_ts_uniq_chan_filt4_cnt = df_yt_timeseries_filt4['channel'].nunique()\n",
    "\n",
    "# df_yt_timeseries_filt4.head()"
   ]
  },
  {
   "cell_type": "markdown",
   "metadata": {},
   "source": [
    "___\n",
    "___\n",
    "**• Filters summary**"
   ]
  },
  {
   "cell_type": "code",
   "execution_count": 40,
   "metadata": {},
   "outputs": [
    {
     "name": "stdout",
     "output_type": "stream",
     "text": [
      "[YouTube Timeseries] Stats before and after filters:\n",
      "\n",
      "Filter 1 = \"keep only YouTube channels linked to a patron account\"\n",
      "Filter 2 = \"at least 2.0 years (730 days) between first and last video\"\n",
      "Filter 3 = \"at least 20 videos with patreon ids per channel\"\n",
      "Filter 4 = \"at least 250,000 subscribers at data crawling time\"\n",
      "\n",
      "Nb of channels of original dataset:                 133,516\n",
      "Nb of channels after applying filter 1:              21,764 (16.3% of original dataset)\n",
      "Nb of channels after applying filter 1+2:            19,066 (14.3% of original dataset, 87.6% of filter 1 channels)\n",
      "Nb of channels after applying filter 1+2+3:          11,744 ( 8.8% of original dataset, 61.6% of filter 2 channels)\n",
      "Nb of channels after applying filter 1+2+3+4:         2,094 ( 1.6% of original dataset, 17.8% of filter 3 channels)\n",
      "\n",
      "Nb of rows of original dataset:                  18,872,499\n",
      "Nb of rows of after applying filter 1:            3,248,172 (17.2% of original dataset)\n",
      "Nb of rows of after applying filter 1+2:          3,054,158 (16.2% of original dataset, 94.0% of filter 1 dataset)\n",
      "Nb of rows of after applying filter 1+2+3:        1,880,294 (10.0% of original dataset, 61.6% of filter 2 dataset)\n",
      "Nb of rows of after applying filter 1+2+3+4:        322,424 ( 1.7% of original dataset, 17.1% of filter 3 dataset)\n"
     ]
    },
    {
     "data": {
      "text/html": [
       "<div>\n",
       "<style scoped>\n",
       "    .dataframe tbody tr th:only-of-type {\n",
       "        vertical-align: middle;\n",
       "    }\n",
       "\n",
       "    .dataframe tbody tr th {\n",
       "        vertical-align: top;\n",
       "    }\n",
       "\n",
       "    .dataframe thead th {\n",
       "        text-align: right;\n",
       "    }\n",
       "</style>\n",
       "<table border=\"1\" class=\"dataframe\">\n",
       "  <thead>\n",
       "    <tr style=\"text-align: right;\">\n",
       "      <th></th>\n",
       "      <th>channel</th>\n",
       "      <th>category</th>\n",
       "      <th>datetime</th>\n",
       "      <th>views</th>\n",
       "      <th>delta_views</th>\n",
       "      <th>subs</th>\n",
       "      <th>delta_subs</th>\n",
       "      <th>videos</th>\n",
       "      <th>delta_videos</th>\n",
       "      <th>activity</th>\n",
       "    </tr>\n",
       "  </thead>\n",
       "  <tbody>\n",
       "    <tr>\n",
       "      <th>2490</th>\n",
       "      <td>UCltVEZ6GecWntoZ19FvaWhQ</td>\n",
       "      <td>Education</td>\n",
       "      <td>2016-10-03 00:00:00</td>\n",
       "      <td>3.190740e+05</td>\n",
       "      <td>0.000000e+00</td>\n",
       "      <td>3.960000e+03</td>\n",
       "      <td>0.000000</td>\n",
       "      <td>665</td>\n",
       "      <td>0</td>\n",
       "      <td>30</td>\n",
       "    </tr>\n",
       "    <tr>\n",
       "      <th>2491</th>\n",
       "      <td>UCltVEZ6GecWntoZ19FvaWhQ</td>\n",
       "      <td>Education</td>\n",
       "      <td>2016-10-10 00:00:00</td>\n",
       "      <td>3.472411e+05</td>\n",
       "      <td>2.816712e+04</td>\n",
       "      <td>4.383500e+03</td>\n",
       "      <td>423.500000</td>\n",
       "      <td>669</td>\n",
       "      <td>4</td>\n",
       "      <td>33</td>\n",
       "    </tr>\n",
       "    <tr>\n",
       "      <th>2492</th>\n",
       "      <td>UCltVEZ6GecWntoZ19FvaWhQ</td>\n",
       "      <td>Education</td>\n",
       "      <td>2016-10-17 00:00:00</td>\n",
       "      <td>3.817262e+05</td>\n",
       "      <td>3.448512e+04</td>\n",
       "      <td>4.953250e+03</td>\n",
       "      <td>569.750000</td>\n",
       "      <td>675</td>\n",
       "      <td>6</td>\n",
       "      <td>29</td>\n",
       "    </tr>\n",
       "    <tr>\n",
       "      <th>2493</th>\n",
       "      <td>UCltVEZ6GecWntoZ19FvaWhQ</td>\n",
       "      <td>Education</td>\n",
       "      <td>2016-10-24 00:00:00</td>\n",
       "      <td>4.469281e+05</td>\n",
       "      <td>6.520188e+04</td>\n",
       "      <td>5.601125e+03</td>\n",
       "      <td>647.875000</td>\n",
       "      <td>681</td>\n",
       "      <td>6</td>\n",
       "      <td>12</td>\n",
       "    </tr>\n",
       "    <tr>\n",
       "      <th>2494</th>\n",
       "      <td>UCltVEZ6GecWntoZ19FvaWhQ</td>\n",
       "      <td>Education</td>\n",
       "      <td>2016-10-30 23:00:00</td>\n",
       "      <td>5.109108e+05</td>\n",
       "      <td>6.398266e+04</td>\n",
       "      <td>6.306819e+03</td>\n",
       "      <td>705.693653</td>\n",
       "      <td>682</td>\n",
       "      <td>1</td>\n",
       "      <td>13</td>\n",
       "    </tr>\n",
       "    <tr>\n",
       "      <th>...</th>\n",
       "      <td>...</td>\n",
       "      <td>...</td>\n",
       "      <td>...</td>\n",
       "      <td>...</td>\n",
       "      <td>...</td>\n",
       "      <td>...</td>\n",
       "      <td>...</td>\n",
       "      <td>...</td>\n",
       "      <td>...</td>\n",
       "      <td>...</td>\n",
       "    </tr>\n",
       "    <tr>\n",
       "      <th>18871406</th>\n",
       "      <td>UCY6Ij8zOds0WJEeqCLOnqOQ</td>\n",
       "      <td>Entertainment</td>\n",
       "      <td>2019-09-02 00:00:00</td>\n",
       "      <td>1.519259e+08</td>\n",
       "      <td>4.517518e+06</td>\n",
       "      <td>1.535577e+06</td>\n",
       "      <td>31061.875000</td>\n",
       "      <td>164</td>\n",
       "      <td>1</td>\n",
       "      <td>2</td>\n",
       "    </tr>\n",
       "    <tr>\n",
       "      <th>18871407</th>\n",
       "      <td>UCY6Ij8zOds0WJEeqCLOnqOQ</td>\n",
       "      <td>Entertainment</td>\n",
       "      <td>2019-09-09 00:00:00</td>\n",
       "      <td>1.554422e+08</td>\n",
       "      <td>3.516317e+06</td>\n",
       "      <td>1.558057e+06</td>\n",
       "      <td>22479.625000</td>\n",
       "      <td>165</td>\n",
       "      <td>1</td>\n",
       "      <td>2</td>\n",
       "    </tr>\n",
       "    <tr>\n",
       "      <th>18871408</th>\n",
       "      <td>UCY6Ij8zOds0WJEeqCLOnqOQ</td>\n",
       "      <td>Entertainment</td>\n",
       "      <td>2019-09-16 00:00:00</td>\n",
       "      <td>1.582264e+08</td>\n",
       "      <td>2.784177e+06</td>\n",
       "      <td>1.568507e+06</td>\n",
       "      <td>10450.125000</td>\n",
       "      <td>166</td>\n",
       "      <td>1</td>\n",
       "      <td>2</td>\n",
       "    </tr>\n",
       "    <tr>\n",
       "      <th>18871409</th>\n",
       "      <td>UCY6Ij8zOds0WJEeqCLOnqOQ</td>\n",
       "      <td>Entertainment</td>\n",
       "      <td>2019-09-23 00:00:00</td>\n",
       "      <td>1.617288e+08</td>\n",
       "      <td>3.502370e+06</td>\n",
       "      <td>1.592500e+06</td>\n",
       "      <td>23992.875000</td>\n",
       "      <td>167</td>\n",
       "      <td>1</td>\n",
       "      <td>2</td>\n",
       "    </tr>\n",
       "    <tr>\n",
       "      <th>18871410</th>\n",
       "      <td>UCY6Ij8zOds0WJEeqCLOnqOQ</td>\n",
       "      <td>Entertainment</td>\n",
       "      <td>2019-09-30 00:00:00</td>\n",
       "      <td>1.668376e+08</td>\n",
       "      <td>5.108808e+06</td>\n",
       "      <td>1.642857e+06</td>\n",
       "      <td>50357.142857</td>\n",
       "      <td>168</td>\n",
       "      <td>1</td>\n",
       "      <td>2</td>\n",
       "    </tr>\n",
       "  </tbody>\n",
       "</table>\n",
       "<p>322424 rows × 10 columns</p>\n",
       "</div>"
      ],
      "text/plain": [
       "                           channel       category            datetime  \\\n",
       "2490      UCltVEZ6GecWntoZ19FvaWhQ      Education 2016-10-03 00:00:00   \n",
       "2491      UCltVEZ6GecWntoZ19FvaWhQ      Education 2016-10-10 00:00:00   \n",
       "2492      UCltVEZ6GecWntoZ19FvaWhQ      Education 2016-10-17 00:00:00   \n",
       "2493      UCltVEZ6GecWntoZ19FvaWhQ      Education 2016-10-24 00:00:00   \n",
       "2494      UCltVEZ6GecWntoZ19FvaWhQ      Education 2016-10-30 23:00:00   \n",
       "...                            ...            ...                 ...   \n",
       "18871406  UCY6Ij8zOds0WJEeqCLOnqOQ  Entertainment 2019-09-02 00:00:00   \n",
       "18871407  UCY6Ij8zOds0WJEeqCLOnqOQ  Entertainment 2019-09-09 00:00:00   \n",
       "18871408  UCY6Ij8zOds0WJEeqCLOnqOQ  Entertainment 2019-09-16 00:00:00   \n",
       "18871409  UCY6Ij8zOds0WJEeqCLOnqOQ  Entertainment 2019-09-23 00:00:00   \n",
       "18871410  UCY6Ij8zOds0WJEeqCLOnqOQ  Entertainment 2019-09-30 00:00:00   \n",
       "\n",
       "                 views   delta_views          subs    delta_subs  videos  \\\n",
       "2490      3.190740e+05  0.000000e+00  3.960000e+03      0.000000     665   \n",
       "2491      3.472411e+05  2.816712e+04  4.383500e+03    423.500000     669   \n",
       "2492      3.817262e+05  3.448512e+04  4.953250e+03    569.750000     675   \n",
       "2493      4.469281e+05  6.520188e+04  5.601125e+03    647.875000     681   \n",
       "2494      5.109108e+05  6.398266e+04  6.306819e+03    705.693653     682   \n",
       "...                ...           ...           ...           ...     ...   \n",
       "18871406  1.519259e+08  4.517518e+06  1.535577e+06  31061.875000     164   \n",
       "18871407  1.554422e+08  3.516317e+06  1.558057e+06  22479.625000     165   \n",
       "18871408  1.582264e+08  2.784177e+06  1.568507e+06  10450.125000     166   \n",
       "18871409  1.617288e+08  3.502370e+06  1.592500e+06  23992.875000     167   \n",
       "18871410  1.668376e+08  5.108808e+06  1.642857e+06  50357.142857     168   \n",
       "\n",
       "          delta_videos  activity  \n",
       "2490                 0        30  \n",
       "2491                 4        33  \n",
       "2492                 6        29  \n",
       "2493                 6        12  \n",
       "2494                 1        13  \n",
       "...                ...       ...  \n",
       "18871406             1         2  \n",
       "18871407             1         2  \n",
       "18871408             1         2  \n",
       "18871409             1         2  \n",
       "18871410             1         2  \n",
       "\n",
       "[322424 rows x 10 columns]"
      ]
     },
     "execution_count": 40,
     "metadata": {},
     "output_type": "execute_result"
    }
   ],
   "source": [
    "print(\"[YouTube Timeseries] Stats before and after filters:\")\n",
    "print()\n",
    "\n",
    "print(\"Filter 1 = \\\"keep only YouTube channels linked to a patron account\\\"\")\n",
    "print(\"Filter 2 = \\\"at least {:.1f} years ({} days) between first and last video\\\"\".format(pd.Timedelta(MIN_DAYS_DELTA).days/365, pd.Timedelta(MIN_DAYS_DELTA).days))\n",
    "print(\"Filter 3 = \\\"at least {:,} videos with patreon ids per channel\\\"\".format(NB_PATREON_VIDS))\n",
    "print(\"Filter 4 = \\\"at least {:,} subscribers at data crawling time\\\"\".format(NB_SUBS))\n",
    "print()\n",
    "\n",
    "print(\"Nb of channels of original dataset:              {:>10,}\".format(yt_ts_uniq_chan_cnt))\n",
    "print(\"Nb of channels after applying filter 1:          {:>10,} ({:5.1%} of original dataset)\".format(yt_ts_uniq_chan_filt1_cnt, yt_ts_uniq_chan_filt1_cnt/yt_ts_uniq_chan_cnt))\n",
    "print(\"Nb of channels after applying filter 1+2:        {:>10,} ({:5.1%} of original dataset, {:5.1%} of filter 1 channels)\".format(yt_ts_uniq_chan_filt2_cnt, yt_ts_uniq_chan_filt2_cnt/yt_ts_uniq_chan_cnt, yt_ts_uniq_chan_filt2_cnt/yt_ts_uniq_chan_filt1_cnt))\n",
    "print(\"Nb of channels after applying filter 1+2+3:      {:>10,} ({:5.1%} of original dataset, {:5.1%} of filter 2 channels)\".format(yt_ts_uniq_chan_filt3_cnt, yt_ts_uniq_chan_filt3_cnt/yt_ts_uniq_chan_cnt, yt_ts_uniq_chan_filt3_cnt/yt_ts_uniq_chan_filt2_cnt))\n",
    "print(\"Nb of channels after applying filter 1+2+3+4:    {:>10,} ({:5.1%} of original dataset, {:5.1%} of filter 3 channels)\".format(yt_ts_uniq_chan_filt4_cnt, yt_ts_uniq_chan_filt4_cnt/yt_ts_uniq_chan_cnt, yt_ts_uniq_chan_filt4_cnt/yt_ts_uniq_chan_filt3_cnt))\n",
    "print()\n",
    "\n",
    "print(\"Nb of rows of original dataset:                  {:>10,}\".format(len(df_yt_timeseries)))\n",
    "print(\"Nb of rows of after applying filter 1:           {:>10,} ({:5.1%} of original dataset)\".format(len(df_yt_timeseries_filt1), len(df_yt_timeseries_filt1)/len(df_yt_timeseries)))\n",
    "print(\"Nb of rows of after applying filter 1+2:         {:>10,} ({:5.1%} of original dataset, {:5.1%} of filter 1 dataset)\".format(len(df_yt_timeseries_filt2), len(df_yt_timeseries_filt2)/len(df_yt_timeseries), len(df_yt_timeseries_filt2)/len(df_yt_timeseries_filt1)))\n",
    "print(\"Nb of rows of after applying filter 1+2+3:       {:>10,} ({:5.1%} of original dataset, {:5.1%} of filter 2 dataset)\".format(len(df_yt_timeseries_filt3), len(df_yt_timeseries_filt3)/len(df_yt_timeseries), len(df_yt_timeseries_filt3)/len(df_yt_timeseries_filt2)))\n",
    "print(\"Nb of rows of after applying filter 1+2+3+4:     {:>10,} ({:5.1%} of original dataset, {:5.1%} of filter 3 dataset)\".format(len(df_yt_timeseries_filt4), len(df_yt_timeseries_filt4)/len(df_yt_timeseries), len(df_yt_timeseries_filt4)/len(df_yt_timeseries_filt3)))\n",
    "\n",
    "\n",
    "df_yt_timeseries_filt4\n"
   ]
  },
  {
   "cell_type": "markdown",
   "metadata": {
    "tags": []
   },
   "source": [
    "#### 2.2.2. Filter Graphtreon to keep only the ones matching patreon id"
   ]
  },
  {
   "cell_type": "code",
   "execution_count": null,
   "metadata": {},
   "outputs": [],
   "source": [
    "!ls -lh df_gt_timeseries_filtered.tsv.gz"
   ]
  },
  {
   "cell_type": "code",
   "execution_count": null,
   "metadata": {},
   "outputs": [],
   "source": [
    "df_gt_timeseries_filtered = pd.read_csv(\"df_gt_timeseries_filtered.tsv.gz\", sep=\"\\t\", compression='gzip')\n",
    "df_gt_timeseries_filtered"
   ]
  },
  {
   "cell_type": "code",
   "execution_count": null,
   "metadata": {},
   "outputs": [],
   "source": [
    "final_processed_file_ROWS = 232_269\n",
    "print(\"[Graphtreon Timeseries] Total number of patreon ids:                                              {:>9,}\".format(final_processed_file_ROWS))\n",
    "print(\"[Graphtreon Timeseries] Nb of patreon ids that exist in both GT Timeseries and YouTube metadata:  {:>9,} ({:.1%} of Graphtreon timeseries dataset)\".format(len(df_gt_timeseries_filtered), len(df_gt_timeseries_filtered)/final_processed_file_ROWS))\n"
   ]
  },
  {
   "cell_type": "code",
   "execution_count": null,
   "metadata": {},
   "outputs": [],
   "source": [
    "# get list of all unique patreon ids in df_gt_timeseries_filtered\n",
    "yt_gt_patreon_list = df_gt_timeseries_filtered.patreon.unique()\n",
    "print(yt_gt_patreon_list)\n",
    "print(len(yt_gt_patreon_list))"
   ]
  },
  {
   "cell_type": "code",
   "execution_count": null,
   "metadata": {},
   "outputs": [],
   "source": [
    "# filter youtube metadata which patreon id is in graphtreon id database\n",
    "df_yt_metadata_pt_filtered = df_yt_metadata_pt[df_yt_metadata_pt['patreon_id'].isin(yt_gt_patreon_list)]\n",
    "df_yt_metadata_pt_filtered.head()\n",
    "\n",
    "print(\"[YouTube metadata] Total number of videos:                                                                   {:>10,}\".format(DF_YT_METADATA_ROWS))\n",
    "print(\"[YouTube metadata] number of videos that contain a patreon link in description:                              {:>10,} ( {:.1%} of total dataset)\".format(len(df_yt_metadata_pt), len(df_yt_metadata_pt)/DF_YT_METADATA_ROWS))\n",
    "print(\"[YouTube metadata] number of videos that contain a patreon link in description that is also in GT dataset:   {:>10,} ({:.1%} of videos containing patreon links)\".format(len(df_yt_metadata_pt_filtered), len(df_yt_metadata_pt_filtered)/len(df_yt_metadata_pt)))\n"
   ]
  },
  {
   "cell_type": "code",
   "execution_count": null,
   "metadata": {},
   "outputs": [],
   "source": [
    "df_yt_metadata_pt_filtered.groupby('channel_id').sum().sort_values(by=['view_count'], ascending=False)\n"
   ]
  },
  {
   "cell_type": "code",
   "execution_count": null,
   "metadata": {},
   "outputs": [],
   "source": [
    "# sort by most popular channel (most aggregate views per channel)\n",
    "df_yt_metadata_pt_filtered.groupby('channel_id').agg(view_count_sum=('view_count', 'sum'),\n",
    "                                                     like_count_sum=('like_count', 'sum'),\n",
    "                                                     # dislike_count_sum=('dislike_count', 'sum'),\n",
    "                                                     # duration_sum=('duration', 'sum')\n",
    "                                                    ).sort_values(by=['view_count_sum'], ascending=False)"
   ]
  },
  {
   "cell_type": "markdown",
   "metadata": {},
   "source": [
    "Preprocess datetime fields"
   ]
  },
  {
   "cell_type": "code",
   "execution_count": null,
   "metadata": {},
   "outputs": [],
   "source": [
    "# remove na rows\n",
    "df_gt_timeseries_filtered_dropna = df_gt_timeseries_filtered.dropna()\n",
    "print(\"[Graphtreon Timeseries] Nb of patreon ids that exist in both GT Timeseries and YouTube metadata:   {:>9,} ( {:.1%} of Graphtreon timeseries dataset)\".format(len(df_gt_timeseries_filtered), len(df_gt_timeseries_filtered)/final_processed_file_ROWS))\n",
    "print(\"[Graphtreon Timeseries] Number of NaN rows dropped:                                                {:>9,}\".format(len(df_gt_timeseries_filtered) - len(df_gt_timeseries_filtered_dropna)))\n",
    "print(\"[Graphtreon Timeseries] Remainining non-NaN rows :                                                 {:>9,}\".format(len(df_gt_timeseries_filtered_dropna)))\n",
    "\n",
    "df_gt_timeseries_filtered_dropna.head(3)"
   ]
  },
  {
   "cell_type": "code",
   "execution_count": null,
   "metadata": {},
   "outputs": [],
   "source": [
    "df_gt_timeseries_filtered.columns"
   ]
  },
  {
   "cell_type": "code",
   "execution_count": null,
   "metadata": {},
   "outputs": [],
   "source": [
    "timeseries_cols = ['dailyGraph_patronSeriesData', 'dailyGraph_earningsSeriesData', 'monthlyGraph_patronSeriesData', 'monthlyGraph_earningsSeriesData','rankingHistoryGraph_seriesData', 'facebookSeriesData','twitterSeriesData','youtubeSeriesData']\n",
    "# timeseries_cols = ['monthlyGraph_patronSeriesData']\n",
    "timeseries_cols"
   ]
  },
  {
   "cell_type": "code",
   "execution_count": null,
   "metadata": {},
   "outputs": [],
   "source": [
    "# def eval(string):\n",
    "#     try:\n",
    "#         return ast.literal_eval(string)\n",
    "#     except:\n",
    "#         return string"
   ]
  },
  {
   "cell_type": "code",
   "execution_count": null,
   "metadata": {},
   "outputs": [],
   "source": [
    "\n",
    "# df_gt_timeseries_filtered.loc[:, timeseries_cols] = df_gt_timeseries_filtered.loc[:, timeseries_cols].apply(lambda x : ast.literal_eval(x))\n",
    "\n",
    "df_gt_timeseries_filtered_dropna.loc[:, 'monthlyGraph_earningsSeriesData'] = df_gt_timeseries_filtered_dropna.loc[:, 'monthlyGraph_earningsSeriesData'].apply(lambda x : ast.literal_eval(x))\n",
    "df_gt_timeseries_filtered_dropna.head()"
   ]
  },
  {
   "cell_type": "code",
   "execution_count": null,
   "metadata": {},
   "outputs": [],
   "source": [
    "idrlabs_df = df_gt_timeseries_filtered_dropna[df_gt_timeseries_filtered_dropna['patreon'] == 'patreon.com/idrlabs']\n",
    "idrlabs_df"
   ]
  },
  {
   "cell_type": "code",
   "execution_count": null,
   "metadata": {},
   "outputs": [],
   "source": [
    "idrlabs_df['monthlyGraph_earningsSeriesData'] = idrlabs_df['monthlyGraph_earningsSeriesData'].apply(lambda x: [[pd.to_datetime(el[0], unit='ms'), el[1]] for el in x])\n",
    "idrlabs_df"
   ]
  },
  {
   "cell_type": "code",
   "execution_count": null,
   "metadata": {},
   "outputs": [],
   "source": [
    "idrlabs_df = idrlabs_df.explode(['monthlyGraph_earningsSeriesData'])\n",
    "idrlabs_df"
   ]
  },
  {
   "cell_type": "code",
   "execution_count": null,
   "metadata": {},
   "outputs": [],
   "source": [
    "idrlabs_df[['monthlyGraph_earningsSeriesData_date','monthlyGraph_earningsSeriesData_earnings']] = pd.DataFrame(idrlabs_df.monthlyGraph_earningsSeriesData.tolist(), index=idrlabs_df.index)\n",
    "idrlabs_df.head(2)"
   ]
  },
  {
   "cell_type": "code",
   "execution_count": null,
   "metadata": {},
   "outputs": [],
   "source": [
    "# using pandas.Grouper\n",
    "# yt_ts_month_cnt_grouper = df_yt_timeseries.groupby(pd.Grouper(key='datetime', freq='M')).count().channel\n",
    "# yt_ts_month_cnt_grouper.head()\n",
    "\n",
    "# idrlabs_series = idrlabs_df[['monthlyGraph_earningsSeriesData_date', 'monthlyGraph_earningsSeriesData_earnings']].set_index('monthlyGraph_earningsSeriesData_date')\n",
    "idrlabs_series = idrlabs_df[['monthlyGraph_earningsSeriesData_date', 'monthlyGraph_earningsSeriesData_earnings']]\n",
    "idrlabs_series"
   ]
  },
  {
   "cell_type": "code",
   "execution_count": null,
   "metadata": {},
   "outputs": [],
   "source": [
    "# plot Patreon MonthlyGraph earningsSeriesData for IDRlabs\n",
    "fig, ax = plt.subplots(1, figsize=(7,3))\n",
    "\n",
    "years = mdates.YearLocator()\n",
    "months = mdates.MonthLocator()\n",
    "\n",
    "\n",
    "ax.plot(idrlabs_series['monthlyGraph_earningsSeriesData_date'], idrlabs_series['monthlyGraph_earningsSeriesData_earnings'])\n",
    "\n",
    "\n",
    "ax.set(title='Patreon MonthlyGraph earningsSeriesData for IDRlabs')\n",
    "ax.set_xlabel(\"Month\")\n",
    "ax.set_ylabel(\"Earnings\")\n",
    "\n",
    "ax.xaxis.set_major_locator(years)\n",
    "ax.xaxis.set_minor_locator(months)\n",
    "plt.show()\n"
   ]
  },
  {
   "cell_type": "code",
   "execution_count": null,
   "metadata": {},
   "outputs": [],
   "source": []
  },
  {
   "cell_type": "code",
   "execution_count": null,
   "metadata": {},
   "outputs": [],
   "source": []
  },
  {
   "cell_type": "code",
   "execution_count": null,
   "metadata": {},
   "outputs": [],
   "source": []
  },
  {
   "cell_type": "code",
   "execution_count": null,
   "metadata": {},
   "outputs": [],
   "source": []
  },
  {
   "cell_type": "code",
   "execution_count": null,
   "metadata": {},
   "outputs": [],
   "source": []
  },
  {
   "cell_type": "code",
   "execution_count": null,
   "metadata": {},
   "outputs": [],
   "source": []
  },
  {
   "cell_type": "code",
   "execution_count": null,
   "metadata": {},
   "outputs": [],
   "source": []
  },
  {
   "cell_type": "code",
   "execution_count": null,
   "metadata": {},
   "outputs": [],
   "source": [
    "df_gt_timeseries_filtered_exploded = df_gt_timeseries_filtered_dropna.explode(['monthlyGraph_earningsSeriesData']).head()\n",
    "df_gt_timeseries_filtered_exploded"
   ]
  },
  {
   "cell_type": "code",
   "execution_count": null,
   "metadata": {},
   "outputs": [],
   "source": [
    "df_gt_timeseries_filtered_exploded[['monthlyGraph_earningsSeriesData_date','monthlyGraph_earningsSeriesData_earning']] = pd.DataFrame(df_gt_timeseries_filtered_exploded.monthlyGraph_earningsSeriesData.tolist(), index= df_gt_timeseries_filtered_exploded.index)\n",
    "df_gt_timeseries_filtered_exploded.head(2)"
   ]
  },
  {
   "cell_type": "code",
   "execution_count": null,
   "metadata": {},
   "outputs": [],
   "source": [
    "df_gt_timeseries_filtered_exploded[\"monthlyGraph_earningsSeriesData_date\"] = pd.to_datetime(df_gt_timeseries_filtered_exploded[\"monthlyGraph_earningsSeriesData_date\"],unit='ms')\n",
    "df_gt_timeseries_filtered_exploded"
   ]
  },
  {
   "cell_type": "markdown",
   "metadata": {},
   "source": [
    "#### 2.2.3. Merge datasets"
   ]
  },
  {
   "cell_type": "code",
   "execution_count": null,
   "metadata": {},
   "outputs": [],
   "source": []
  },
  {
   "cell_type": "code",
   "execution_count": null,
   "metadata": {},
   "outputs": [],
   "source": []
  },
  {
   "cell_type": "code",
   "execution_count": null,
   "metadata": {},
   "outputs": [],
   "source": []
  }
 ],
 "metadata": {
  "kernelspec": {
   "display_name": "Python 3",
   "language": "python",
   "name": "python3"
  },
  "language_info": {
   "codemirror_mode": {
    "name": "ipython",
    "version": 3
   },
   "file_extension": ".py",
   "mimetype": "text/x-python",
   "name": "python",
   "nbconvert_exporter": "python",
   "pygments_lexer": "ipython3",
   "version": "3.8.12"
  }
 },
 "nbformat": 4,
 "nbformat_minor": 4
}
