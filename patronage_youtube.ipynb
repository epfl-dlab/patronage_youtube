{
 "cells": [
  {
   "cell_type": "markdown",
   "metadata": {
    "tags": []
   },
   "source": [
    "# Characterizing Patronage on YouTube\n",
    "\n",
    "## 0. Files and brief explanation of those\n",
    "\n",
    "All data is located in `/dlabdata1/youtube_large/`"
   ]
  },
  {
   "cell_type": "code",
   "execution_count": null,
   "metadata": {},
   "outputs": [],
   "source": [
    "DATA_FOLDER = \"/dlabdata1/youtube_large/\""
   ]
  },
  {
   "cell_type": "markdown",
   "metadata": {},
   "source": [
    "**YouNiverse dataset:**\n",
    "\n",
    "- `df_channels_en.tsv.gz`: channel metadata.\n",
    "- `df_timeseries_en.tsv.gz`: channel-level time-series.\n",
    "- `yt_metadata_en.jsonl.gz`: raw video metadata.\n",
    "- `youtube_comments.tsv.gz`: user-comment matrices.\n",
    "- `youtube_comments.ndjson.zst`: raw comments — this is a HUGE file.\n",
    "\n",
    "**Graphteon dataset:**\n",
    "- `creators.csv` list with all creator names.\n",
    "- `final_processed_file.jsonl.gz` all graphteon time-series.\n",
    "- `pages.zip` raw html of the pages in graphteon."
   ]
  },
  {
   "cell_type": "markdown",
   "metadata": {},
   "source": [
    "#### Libaries imports"
   ]
  },
  {
   "cell_type": "code",
   "execution_count": null,
   "metadata": {},
   "outputs": [],
   "source": [
    "# !conda list"
   ]
  },
  {
   "cell_type": "code",
   "execution_count": null,
   "metadata": {
    "tags": []
   },
   "outputs": [],
   "source": [
    "import os \n",
    "import io\n",
    "import pandas as pd\n",
    "import json\n",
    "import re\n",
    "import zstandard\n",
    "import matplotlib.pyplot as plt\n",
    "import matplotlib.dates as mdates\n",
    "import numpy as np\n",
    "import seaborn as sns\n",
    "import gzip\n",
    "from tqdm import tqdm\n",
    "import timeit\n",
    "import ast\n",
    "import math"
   ]
  },
  {
   "cell_type": "code",
   "execution_count": null,
   "metadata": {},
   "outputs": [],
   "source": [
    "# list all files in current directory\n",
    "!ls -lh"
   ]
  },
  {
   "cell_type": "code",
   "execution_count": null,
   "metadata": {
    "scrolled": true
   },
   "outputs": [],
   "source": [
    "# list all files in DATA_FOLDER\n",
    "!ls -lh /dlabdata1/youtube_large"
   ]
  },
  {
   "cell_type": "markdown",
   "metadata": {},
   "source": [
    "## 1. Exploratory Data Analysis (EDA)"
   ]
  },
  {
   "cell_type": "markdown",
   "metadata": {},
   "source": [
    "### 1.1. YouNiverse dataset"
   ]
  },
  {
   "cell_type": "markdown",
   "metadata": {},
   "source": [
    "#### 1.1.1 Channel metadata\n",
    "Metadata associated with the 136,470 channels: **channel ID**, **join date**, **country**, **number of subscribers**, **most frequent category**, and the **channel’s position** in socialblade.com’s subscriber ranking. \\\n",
    "The number of subscribers is provided both as obtained from channelcrawler.com (between 2019-09-12 and 2019-09-17) and as crawled from socialblade.com (2019-09-27). Additionally, we also provide a set of **weights** (derived from socialblade.com’s subscriber rankings) that can be used to partially correct sample biases in our dataset.\n",
    "\n",
    "- `category_cc`: category of the channel (majority based)\n",
    "- `join_date`: join date of the channel\n",
    "- `channel`: channel id\n",
    "- `name_cc`: name of the channel.\n",
    "- `subscribers_cc`: number of subscribers\n",
    "- `videos_cc`: number of videos\n",
    "- `subscriber_rank_sb`: rank in terms of number of subscribers (channel’s position in socialblade.com’s subscriber ranking)\n",
    "- `weights`: weights cal (Set of weights derived from socialblade.com’s subscriber rankings. Can be used to partially correct sample biases in our dataset. -> correction for representation)"
   ]
  },
  {
   "cell_type": "code",
   "execution_count": null,
   "metadata": {},
   "outputs": [],
   "source": [
    "# !ls -lh /dlabdata1/youtube_large/df_channels_en.tsv.gz"
   ]
  },
  {
   "cell_type": "code",
   "execution_count": null,
   "metadata": {},
   "outputs": [],
   "source": [
    "# channel metadata\n",
    "df_yt_channels = pd.read_csv(DATA_FOLDER+'df_channels_en.tsv.gz', sep=\"\\t\", compression='gzip')\n",
    "df_yt_channels"
   ]
  },
  {
   "cell_type": "markdown",
   "metadata": {},
   "source": [
    "Facts about this data (taken from [YouNiverse github page](https://github.com/epfl-dlab/YouNiverse)) \n",
    "\n",
    "- This dataframe has 136,470 rows, where each one corresponds to a different channel.\n",
    "- We obtained all channels with >10k subscribers and >10 videos from channelcrawler.com in the 27 October 2019.\n",
    "- Additionally we filtered all channels that were not in english given their video metadata (see `Raw Channels')."
   ]
  },
  {
   "cell_type": "markdown",
   "metadata": {
    "tags": []
   },
   "source": [
    "##### Summary statistics"
   ]
  },
  {
   "cell_type": "code",
   "execution_count": null,
   "metadata": {
    "tags": []
   },
   "outputs": [],
   "source": [
    "print('Number of unique categories:         {:,}'.format(df_yt_channels['category_cc'].nunique()))\n",
    "print('Number of unique channels:      {:,}'.format(df_yt_channels['channel'].nunique()))\n",
    "print('Number of unique channel names: {:,}'.format(df_yt_channels['name_cc'].nunique()))\n",
    "\n",
    "print('\\nNote: there are more unique channels than unique names, so some channels might have the same name!')"
   ]
  },
  {
   "cell_type": "markdown",
   "metadata": {},
   "source": [
    "##### Distribution of videos and subscribers per channel"
   ]
  },
  {
   "cell_type": "code",
   "execution_count": null,
   "metadata": {},
   "outputs": [],
   "source": [
    "selected_cols = ['videos_cc', 'subscribers_cc']\n",
    "\n",
    "# plot with linear scale for x axis and log scale for y axis\n",
    "fig, axs = plt.subplots(nrows=1, ncols=2, figsize=(10,5))\n",
    "\n",
    "for i,(col,ax) in enumerate(zip(selected_cols, axs.flatten())):\n",
    "    sns.histplot(data=df_yt_channels[col], ax=ax, bins=50, kde=False, color=f'C{i}')\n",
    "    ax.set(title=f'Distribution of {col}')\n",
    "    ax.set_ylabel(\"Count - number of channels (log scale)\")\n",
    "    ax.set(yscale=\"log\")\n",
    "    # ax.set(xscale=\"log\")\n",
    "plt.tight_layout()\n",
    "plt.show()\n",
    "\n",
    "\n",
    "# plot with log scale for x axis \n",
    "fig, axs = plt.subplots(nrows=1, ncols=2, figsize=(10,5))\n",
    "\n",
    "xlabels = [r'$\\log_{10}(videos)$', r'$\\log_{10}(subscribers)$']\n",
    "\n",
    "for i,(col,ax) in enumerate(zip(selected_cols, axs.flatten())):\n",
    "    sns.histplot(data=np.log10(df_yt_channels[col]), ax=ax, bins=50, kde=False, cumulative=False, color=f'C{i}')\n",
    "\n",
    "    ax.set(title=f'Distribution of {col} (log-log scale)')\n",
    "    ax.set_xlabel(xlabels[i])\n",
    "    ax.set_ylabel(\"Count - number of channels\")\n",
    "\n",
    "    # ax.set(yscale=\"log\")\n",
    "    # ax.set(xscale=\"log\")\n",
    "plt.tight_layout()\n",
    "plt.show()\n",
    "\n",
    "\n",
    "# plot with linear scale for both axes \n",
    "# fig, axs = plt.subplots(nrows=1, ncols=2, figsize=(10,5))\n",
    "\n",
    "# for i,(col,ax) in enumerate(zip(selected_cols, axs.flatten())):\n",
    "#     sns.histplot(data=df_yt_channels[col], ax=ax, bins=50, kde=False, color=f'C{i}')\n",
    "#     ax.set(title=f'Distribution of {col}')\n",
    "#     ax.set_ylabel(\"Count - number of channels\")\n",
    "#     # ax.set(yscale=\"log\")\n",
    "#     ax.set(xscale=\"log\")\n",
    "# plt.tight_layout()\n",
    "# plt.show()\n",
    "\n",
    "# # plot with log scale for x axis (distplot)\n",
    "# fig, axs = plt.subplots(nrows=1, ncols=2, figsize=(10,5))\n",
    "\n",
    "# for i,(col,ax) in enumerate(zip(selected_cols, axs.flatten())):\n",
    "#     sns.distplot(np.log10(df_yt_channels[col]), hist_kws=kwargs, kde=False, kde_kws=kwargs, ax=ax, norm_hist=True)\n",
    "\n",
    "#     ax.set(title=f'Distribution of {col} (log-log scale)')\n",
    "#     ax.set_ylabel(\"Count - number of channels\")\n",
    "#     # ax.set(yscale=\"log\")\n",
    "#     # ax.set(xscale=\"log\")\n",
    "# plt.tight_layout()\n",
    "# plt.show()\n",
    "\n",
    "\n",
    "# descriptive statistics table\n",
    "df_yt_channels[selected_cols].describe().T"
   ]
  },
  {
   "cell_type": "markdown",
   "metadata": {},
   "source": [
    "**Discussion:** \\\n",
    "From the above graphs and table, we can see that _videos_ and _subscribers_ distributions among YouTube channels follow a **power law**, meaning that most channels have a only a few videos and a few subscribers, but a few of them have a lot of videos and a lot of subscribers.\n",
    "\n",
    "More specifically:\n",
    "- 50% of the YouTube channels have less than 175 videos\n",
    "- 50% of the YouTube channels have less than 42,400 subscribers\n",
    "\n",
    "_Note: only channels with at least 10 videos and 10,000 subscribers were considered for this study._"
   ]
  },
  {
   "cell_type": "markdown",
   "metadata": {},
   "source": [
    "##### Group by categories"
   ]
  },
  {
   "cell_type": "code",
   "execution_count": null,
   "metadata": {},
   "outputs": [],
   "source": [
    "data_per_cat_chan = df_yt_channels.groupby(['category_cc', 'channel'])[['videos_cc', 'subscribers_cc']].agg(['max'])\n",
    "\n",
    "# set the columns to the top level of the multi-index\n",
    "data_per_cat_chan.columns = data_per_cat_chan.columns.get_level_values(0)\n",
    "data_per_cat_chan"
   ]
  },
  {
   "cell_type": "code",
   "execution_count": null,
   "metadata": {},
   "outputs": [],
   "source": [
    "data_per_cat_chan.reset_index(inplace=True)\n",
    "data_per_cat_chan"
   ]
  },
  {
   "cell_type": "markdown",
   "metadata": {},
   "source": [
    "##### Number of channels per category"
   ]
  },
  {
   "cell_type": "code",
   "execution_count": null,
   "metadata": {},
   "outputs": [],
   "source": [
    "chan_per_cat = data_per_cat_chan.groupby('category_cc')[['channel']].count().sort_values('channel', ascending=False)"
   ]
  },
  {
   "cell_type": "code",
   "execution_count": null,
   "metadata": {},
   "outputs": [],
   "source": [
    "chan_per_cat.plot(kind='bar')\n",
    "plt.title(\"Number of channels per category\")\n",
    "plt.xlabel(\"Categories\")\n",
    "plt.ylabel(\"Number of channels\")\n",
    "plt.show()\n",
    "chan_per_cat['channel']"
   ]
  },
  {
   "cell_type": "code",
   "execution_count": null,
   "metadata": {},
   "outputs": [],
   "source": [
    "# data_per_cat = data_per_cat_chan.groupby('category')['videos_cc','subscribers_cc'].agg(['min', 'max', 'count', 'sum'])\n",
    "data_per_cat = data_per_cat_chan.groupby('category_cc')[['videos_cc','subscribers_cc']].agg(['sum'])\n",
    "data_per_cat.columns = data_per_cat.columns.get_level_values(0)\n",
    "data_per_cat = data_per_cat.add_suffix('_sum')\n",
    "data_per_cat"
   ]
  },
  {
   "cell_type": "markdown",
   "metadata": {},
   "source": [
    "##### Number of videos per category"
   ]
  },
  {
   "cell_type": "code",
   "execution_count": null,
   "metadata": {},
   "outputs": [],
   "source": [
    "data_per_cat['videos_cc_sum'].sort_values(ascending=False).plot(kind='bar')\n",
    "plt.title(\"Number of videos per category\")\n",
    "plt.xlabel(\"Categories\")\n",
    "plt.ylabel(\"Number of videos\")\n",
    "plt.show()\n",
    "\n",
    "data_per_cat['videos_cc_sum'].sort_values(ascending=False)"
   ]
  },
  {
   "cell_type": "markdown",
   "metadata": {},
   "source": [
    "##### Number of subscribers per category"
   ]
  },
  {
   "cell_type": "code",
   "execution_count": null,
   "metadata": {},
   "outputs": [],
   "source": [
    "data_per_cat['subscribers_cc_sum'].sort_values(ascending=False).plot(kind='bar')\n",
    "plt.title(\"Number of subscribers per category\")\n",
    "plt.xlabel(\"Categories\")\n",
    "plt.ylabel(\"Number of videos\")\n",
    "plt.show()\n",
    "\n",
    "data_per_cat['subscribers_cc_sum'].sort_values(ascending=False)"
   ]
  },
  {
   "cell_type": "markdown",
   "metadata": {
    "tags": []
   },
   "source": [
    "#### 1.1.2 Channel time-series data\n",
    "Weekly number of viewers and subscribers. We have a data point for each channel and each week.\n",
    "\n",
    "Time series of channel activity at **weekly granularity**. The span of time series varies by channel depending on when socialblade.com started tracking the channel. On average, it contains **2.8 years of data per channel** for **133k channels** (notice that this means there are roughly 4k channels for which there is no time-series data). \\\n",
    "Each data point includes the **number of views** (`views`) and **subscribers** (`subs`) obtained in the given week, as well as the **number of videos** (`videos`) posted by the **channel** (`channel`). The number of videos is calculated using the video upload dates in our video metadata, such that videos that were unavailable at crawl time are not accounted for. \n",
    "\n",
    "---\n",
    "\n",
    "Time series related to each channel.\\\n",
    "These come from a mix of YouTube data and time series crawled from [socialblade.com](https://socialblade.com/):\n",
    "- From the former (YouTube data): derived weekly time series indicating **how many videos each channel had posted per week**. \n",
    "- From the latter (socialblade.com): crawled weekly statistics on the **number of viewers** `views` and **subscribers** `subs` per channel `channel`. This data was available for around 153k channels.\n",
    "\n",
    "    - `channel`: unique channel ID, which is the numbers and letters at the end of the URL.\n",
    "    - `category`: category of the channel as assigned by [socialblade.com](https://socialblade.com/) according to the last 10 videos at time of crawl (categories organize channels and videos on YouTube and help creators, advertisers, and channel managers identify with content and audiences they wish to associate with).\n",
    "    - `datetime`: First day of the week related to the data point\n",
    "    - `views`: Total number of views the channel had this week.\n",
    "    - `delta_views`: Delta views obtained this week (difference of nb of views between current and former week). (Interpolation)\n",
    "    - `subs`: Total number of subscribers the channel had this week.\n",
    "    - `delta_subs`: Delta subscribers obtained this week (difference of nb of subscribers between current and former week)\n",
    "    - `videos`: Number of videos posted by the channel up to date\n",
    "    - `delta_videos`:  Delta videos obtained this week (difference of number of videos posted by the channel between current and former week).\n",
    "    - `activity`: Number of videos published in the last 15 days.\n",
    "    \n",
    "    \n",
    "Note: Can view the channel by appending the channel id to the url, e.g.  https://www.youtube.com/channel/UCBJuEqXfXTdcPSbGO9qqn1g\n"
   ]
  },
  {
   "cell_type": "code",
   "execution_count": null,
   "metadata": {},
   "outputs": [],
   "source": [
    "!ls -lh /dlabdata1/youtube_large/df_timeseries_en.tsv.gz"
   ]
  },
  {
   "cell_type": "code",
   "execution_count": null,
   "metadata": {},
   "outputs": [],
   "source": [
    "# channel-level time-series.\n",
    "df_yt_timeseries = pd.read_csv(DATA_FOLDER+'df_timeseries_en.tsv.gz', sep=\"\\t\", compression='gzip', parse_dates=['datetime'])\n",
    "df_yt_timeseries"
   ]
  },
  {
   "cell_type": "markdown",
   "metadata": {},
   "source": [
    "##### Summary statistics"
   ]
  },
  {
   "cell_type": "code",
   "execution_count": null,
   "metadata": {},
   "outputs": [],
   "source": [
    "# df_yt_timeseries.describe().T"
   ]
  },
  {
   "cell_type": "code",
   "execution_count": null,
   "metadata": {},
   "outputs": [],
   "source": [
    "yt_ts_uniq_chan_cnt = df_yt_timeseries['channel'].nunique()\n",
    "\n",
    "print('Timeseries data was gathered between {} and {}'.format(df_yt_timeseries['datetime'].min().strftime('%B %d, %Y'),\n",
    "                                                         df_yt_timeseries['datetime'].max().strftime('%B %d, %Y')))\n",
    "print('Total number of datapoints accross all channels: {:>12,}'.format(len(df_yt_timeseries)))\n",
    "data_points_dist = df_yt_timeseries['channel'].value_counts()\n",
    "print('Average number of datapoints per channel:       {:>12.0f} weeks (≈{:,.1f} years)'.format(data_points_dist.mean(), data_points_dist.mean()/52))\n",
    "print('Number of unique categories:                     {:>12,}'.format(df_yt_timeseries['category'].nunique()))\n",
    "print('Number of unique channels:                       {:>12,}'.format(yt_ts_uniq_chan_cnt))"
   ]
  },
  {
   "cell_type": "markdown",
   "metadata": {},
   "source": [
    "##### Datetime points per channel"
   ]
  },
  {
   "cell_type": "markdown",
   "metadata": {},
   "source": [
    "Not all channels timeseries start and end at the same time, therefore we have a different amount of datapoints for each channel"
   ]
  },
  {
   "cell_type": "code",
   "execution_count": null,
   "metadata": {},
   "outputs": [],
   "source": [
    "datetime_data = df_yt_timeseries.groupby('channel')['datetime'].agg(['min', 'max'])\n",
    "datetime_data.head()"
   ]
  },
  {
   "cell_type": "code",
   "execution_count": null,
   "metadata": {},
   "outputs": [],
   "source": [
    "# datetime_data.describe().T"
   ]
  },
  {
   "cell_type": "markdown",
   "metadata": {},
   "source": [
    "##### Datetime points per year"
   ]
  },
  {
   "cell_type": "code",
   "execution_count": null,
   "metadata": {},
   "outputs": [],
   "source": [
    "yt_ts_year_cnt = df_yt_timeseries.groupby(df_yt_timeseries.datetime.dt.year).size()"
   ]
  },
  {
   "cell_type": "code",
   "execution_count": null,
   "metadata": {},
   "outputs": [],
   "source": [
    "print('Timeseries data was gathered between {} and {}'.format(df_yt_timeseries['datetime'].min().strftime('%B %d, %Y'),\n",
    "                                                         df_yt_timeseries['datetime'].max().strftime('%B %d, %Y')))\n",
    "yt_ts_year_cnt.plot(kind='bar')\n",
    "plt.title(\"Nb of datapoints per year accross all channels\")\n",
    "plt.xlabel(\"Year\")\n",
    "plt.ylabel(\"Count (datapoints)\")\n",
    "plt.show()\n",
    "\n",
    "yt_ts_year_cnt"
   ]
  },
  {
   "cell_type": "markdown",
   "metadata": {},
   "source": [
    "##### Datetime points per month"
   ]
  },
  {
   "cell_type": "code",
   "execution_count": null,
   "metadata": {},
   "outputs": [],
   "source": [
    "yt_ts_month_cnt = df_yt_timeseries.groupby([df_yt_timeseries.datetime.dt.year, df_yt_timeseries.datetime.dt.month]).size()\n",
    "yt_ts_month_cnt.head()"
   ]
  },
  {
   "cell_type": "code",
   "execution_count": null,
   "metadata": {},
   "outputs": [],
   "source": [
    "# using pandas.Grouper\n",
    "yt_ts_month_cnt_grouper = df_yt_timeseries.groupby(pd.Grouper(key='datetime', freq='M')).count().channel\n",
    "yt_ts_month_cnt_grouper.head()"
   ]
  },
  {
   "cell_type": "code",
   "execution_count": null,
   "metadata": {},
   "outputs": [],
   "source": [
    "# plot number of datapoints per month\n",
    "plt.figure(figsize=(15,2))\n",
    "yt_ts_month_cnt.plot(kind='bar')\n",
    "plt.title(\"Number of datapoints per month accross all channels (using regular group by method)\")\n",
    "plt.xlabel(\"Month\")\n",
    "plt.ylabel(\"Count (datapoints)\")\n",
    "plt.show()\n",
    "\n",
    "# plot number of datapoints per month using grouper\n",
    "plt.figure(figsize=(15,2))\n",
    "yt_ts_month_cnt_grouper.plot(kind='bar')\n",
    "plt.title(\"Number of datapoints per month accross all channels (using grouper)\")\n",
    "plt.xlabel(\"Month\")\n",
    "plt.ylabel(\"Count (datapoints)\")\n",
    "plt.show()"
   ]
  },
  {
   "cell_type": "code",
   "execution_count": null,
   "metadata": {},
   "outputs": [],
   "source": [
    "# only consider unique values per channel\n",
    "yt_ts_month_unique_cnt = df_yt_timeseries.groupby(pd.Grouper(key='datetime', freq='M')).agg({\"channel\": pd.Series.nunique})\n",
    "yt_ts_month_unique_cnt.head()"
   ]
  },
  {
   "cell_type": "code",
   "execution_count": null,
   "metadata": {},
   "outputs": [],
   "source": [
    "(df_yt_timeseries.groupby(['datetime', 'channel']).count() > 1).sum()"
   ]
  },
  {
   "cell_type": "code",
   "execution_count": null,
   "metadata": {},
   "outputs": [],
   "source": [
    "# Number of channels with timeseries (only consider unique values per channel) --> see https://stackoverflow.com/questions/38309729/count-unique-values-per-groups-with-pandas\n",
    "\n",
    "years = mdates.YearLocator()   # every year\n",
    "months = mdates.MonthLocator()  # every month\n",
    "\n",
    "fig, ax = plt.subplots(1, figsize=(7,3), sharey=True, sharex=True,\n",
    "                       gridspec_kw={\"wspace\": 0.05})\n",
    "\n",
    "ax.plot(yt_ts_month_unique_cnt)\n",
    "\n",
    "ax.set(title='Number of channels with timeseries')\n",
    "ax.set_xlabel(\"Month\")\n",
    "ax.set_ylabel(\"# channels\")\n",
    "ax.xaxis.set_major_locator(years)\n",
    "ax.xaxis.set_minor_locator(months)"
   ]
  },
  {
   "cell_type": "markdown",
   "metadata": {},
   "source": [
    "##### Datetime points accross channels"
   ]
  },
  {
   "cell_type": "code",
   "execution_count": null,
   "metadata": {},
   "outputs": [],
   "source": [
    "# Distribution of datapoints accross channels\n",
    "\n",
    "print('Total number of datapoints accross all channels: {:>12,}'.format(len(df_yt_timeseries)))\n",
    "data_points_dist = df_yt_timeseries['channel'].value_counts()\n",
    "print('Average number of datapoints per channel:        {:>12,.0f} weeks (≈{:,.1f} years)'.format(data_points_dist.mean(), data_points_dist.mean()/52))\n",
    "\n",
    "ax = sns.histplot(data=data_points_dist, bins=50, kde=False, color=f'C{1}')\n",
    "\n",
    "ax.set(title=f'Distribution of datapoints (weeks) accross channels')\n",
    "ax.set_xlabel('number of data points (weeks)')\n",
    "ax.set_ylabel('number of channels')\n",
    "\n",
    "# ax.set(yscale=\"log\")\n",
    "# plt.tight_layout()\n",
    "plt.show()"
   ]
  },
  {
   "cell_type": "code",
   "execution_count": null,
   "metadata": {},
   "outputs": [],
   "source": [
    "# Aggregates per channel\n",
    "sel_cols = ['datetime', 'views', 'delta_views', 'subs', 'delta_subs', 'videos', 'delta_videos', 'activity']\n",
    "data_per_channel = df_yt_timeseries.groupby('channel')[sel_cols].agg(['min', 'max', 'count', 'mean'])\n",
    "data_per_channel.head()"
   ]
  },
  {
   "cell_type": "markdown",
   "metadata": {},
   "source": [
    "#####  Views per channel"
   ]
  },
  {
   "cell_type": "code",
   "execution_count": null,
   "metadata": {},
   "outputs": [],
   "source": [
    "data_per_channel['views'].head()"
   ]
  },
  {
   "cell_type": "code",
   "execution_count": null,
   "metadata": {},
   "outputs": [],
   "source": [
    "# Distribution of total views per channel\n",
    "fig, axs = plt.subplots(nrows=2, ncols=1, figsize=(6,8))\n",
    "\n",
    "sns.histplot(data=data_per_channel['views']['max'], ax=axs[0], bins=20, kde=False, color=f'C{1}')\n",
    "axs[0].set(title=f'Distribution of total views per channel')\n",
    "axs[0].set_xlabel('number of views (in billions)')\n",
    "axs[0].set_ylabel('number of channels')\n",
    "axs[0].set(yscale=\"log\")\n",
    "xlabels1 = ['{:,.0f}'.format(x) + 'bn' for x in axs[0].get_xticks()/1_000_000_000]\n",
    "axs[0].set_xticklabels(xlabels1)\n",
    "\n",
    "# Distribution of total views per channel (log scale)\n",
    "sns.histplot(data=data_per_channel['views']['max'], ax=axs[1], bins=1000, kde=False, color=f'C{1}')\n",
    "axs[1].set(title=f'Distribution of total views per channel (log-log scale)')\n",
    "axs[1].set_xlabel('number of views (in millions)')\n",
    "axs[1].set_ylabel('number of channels')\n",
    "axs[1].set(yscale=\"log\")\n",
    "axs[1].set(xscale=\"log\")\n",
    "xlabels2 = ['{:,.0f}'.format(x) + 'M' for x in axs[1].get_xticks()/1_000_000]\n",
    "axs[1].set_xticklabels(xlabels2)\n",
    "\n",
    "plt.tight_layout()\n",
    "plt.show()\n",
    "\n",
    "data_per_channel['views'][['max']].describe().T"
   ]
  },
  {
   "cell_type": "code",
   "execution_count": null,
   "metadata": {},
   "outputs": [],
   "source": [
    "print(\"Top 10 channels with the most total views (in billions):\")\n",
    "\n",
    "for index, value in data_per_channel['views']['max'].sort_values(ascending=False)[:10].items():\n",
    "    print('https://www.youtube.com/channel/{} : {:,.1f} bn views'.format(index, value/1_000_000_000))"
   ]
  },
  {
   "cell_type": "markdown",
   "metadata": {},
   "source": [
    "##### Videos per channel"
   ]
  },
  {
   "cell_type": "code",
   "execution_count": null,
   "metadata": {},
   "outputs": [],
   "source": [
    "data_per_channel['videos'].head()"
   ]
  },
  {
   "cell_type": "code",
   "execution_count": null,
   "metadata": {},
   "outputs": [],
   "source": [
    "# Distribution of total videos per channel\n",
    "fig, axs = plt.subplots(nrows=2, ncols=1, figsize=(6,8))\n",
    "sns.histplot(data=data_per_channel['videos']['max'], ax=axs[0], bins=20, kde=False, color=f'C{1}')\n",
    "\n",
    "axs[0].set(title=f'Distribution of total videos per channel')\n",
    "axs[0].set_xlabel('number of videos')\n",
    "axs[0].set_ylabel('number of channels')\n",
    "axs[0].set(yscale=\"log\")\n",
    "\n",
    "# # Distribution of total views per channel (log scale)\n",
    "sns.histplot(data=data_per_channel['videos']['max'], ax=axs[1], bins=100, kde=False, color=f'C{1}')\n",
    "\n",
    "axs[1].set(title=f'Distribution of total videos per channel (log-log scale)')\n",
    "axs[1].set_xlabel('number of videos')\n",
    "axs[1].set_ylabel('number of channels')\n",
    "axs[1].set(yscale=\"log\")\n",
    "axs[1].set(xscale=\"log\")\n",
    "\n",
    "plt.tight_layout()\n",
    "plt.show()\n",
    "\n",
    "data_per_channel['videos'][['max']].describe().T"
   ]
  },
  {
   "cell_type": "code",
   "execution_count": null,
   "metadata": {},
   "outputs": [],
   "source": [
    "print(\"Top 10 channels with the most total videos:\")\n",
    "\n",
    "for index, value in data_per_channel['videos']['max'].sort_values(ascending=False)[:10].items():\n",
    "    print('https://www.youtube.com/channel/{} : {:,.0f} videos'.format(index, value))"
   ]
  },
  {
   "cell_type": "markdown",
   "metadata": {},
   "source": [
    "##### Subscribers per channel"
   ]
  },
  {
   "cell_type": "code",
   "execution_count": null,
   "metadata": {},
   "outputs": [],
   "source": [
    "data_per_channel['subs'].head()"
   ]
  },
  {
   "cell_type": "code",
   "execution_count": null,
   "metadata": {},
   "outputs": [],
   "source": [
    "# Distribution of total subscribers per channel\n",
    "fig, axs = plt.subplots(nrows=2, ncols=1, figsize=(6,8))\n",
    "sns.histplot(data=data_per_channel['subs']['max'], ax=axs[0], bins=20, kde=False, color=f'C{1}')\n",
    "\n",
    "axs[0].set(title=f'Distribution of total subscribers per channel')\n",
    "axs[0].set_xlabel('number of subscribers (in millions)')\n",
    "axs[0].set_ylabel('number of channels')\n",
    "axs[0].set(yscale=\"log\")\n",
    "xlabels0 = ['{:,.0f}'.format(x) + 'M' for x in axs[0].get_xticks()/1_000_000]\n",
    "axs[0].set_xticklabels(xlabels0)\n",
    "\n",
    "# # Distribution of total views per channel (log scale)\n",
    "sns.histplot(data=data_per_channel['subs']['max'], ax=axs[1], bins=500, kde=False, color=f'C{1}')\n",
    "\n",
    "axs[1].set(title=f'Distribution of total subscribers per channel (log-log scale)')\n",
    "axs[1].set_xlabel('number of subscribers')\n",
    "axs[1].set_ylabel('number of channels')\n",
    "axs[1].set(yscale=\"log\")\n",
    "axs[1].set(xscale=\"log\")\n",
    "\n",
    "plt.tight_layout()\n",
    "plt.show()\n",
    "\n",
    "data_per_channel['videos'][['max']].describe().T"
   ]
  },
  {
   "cell_type": "code",
   "execution_count": null,
   "metadata": {
    "tags": []
   },
   "outputs": [],
   "source": [
    "data_per_channel['subs']['max'].sort_values(ascending=False)[:10]"
   ]
  },
  {
   "cell_type": "code",
   "execution_count": null,
   "metadata": {},
   "outputs": [],
   "source": [
    "print(\"Top 10 channels with the most total subscribers:\")\n",
    "\n",
    "for index, value in data_per_channel['subs']['max'].sort_values(ascending=False)[:10].items():\n",
    "    print('https://www.youtube.com/channel/{} : {:,.1f}M subscribers'.format(index, value/1_000_000))"
   ]
  },
  {
   "cell_type": "code",
   "execution_count": null,
   "metadata": {},
   "outputs": [],
   "source": [
    "# set the columns to the top level of the multi-index\n",
    "# data_per_channel.columns = data_per_channel.columns.get_level_values(0)\n",
    "# data_per_channel"
   ]
  },
  {
   "cell_type": "markdown",
   "metadata": {},
   "source": [
    "#### 1.1.3 Raw video metadata\n",
    "The file `df_videos_raw.jsonl.gz` contains metadata data related to ~73M videos from ~137k channels. Below we show the data recorded for each of the video"
   ]
  },
  {
   "cell_type": "code",
   "execution_count": null,
   "metadata": {},
   "outputs": [],
   "source": [
    "!ls -lh /dlabdata1/youtube_large/yt_metadata_en.jsonl.gz"
   ]
  },
  {
   "cell_type": "code",
   "execution_count": null,
   "metadata": {},
   "outputs": [],
   "source": [
    "# ! zcat /dlabdata1/youtube_large/yt_metadata_en.jsonl.gz | head"
   ]
  },
  {
   "cell_type": "code",
   "execution_count": null,
   "metadata": {},
   "outputs": [],
   "source": [
    "df_yt_metadata = pd.read_json(DATA_FOLDER+'yt_metadata_en.jsonl.gz', compression='gzip', lines=True, nrows=2000)\n",
    "df_yt_metadata.head(2)"
   ]
  },
  {
   "cell_type": "markdown",
   "metadata": {},
   "source": [
    "#### 1.1.4 user-comment matrices"
   ]
  },
  {
   "cell_type": "code",
   "execution_count": null,
   "metadata": {},
   "outputs": [],
   "source": [
    "# !ls -lh /dlabdata1/youtube_large/youtube_comments.tsv.gz"
   ]
  },
  {
   "cell_type": "code",
   "execution_count": null,
   "metadata": {},
   "outputs": [],
   "source": [
    "# user-comment matrices\n",
    "df_yt_comments = pd.read_csv(DATA_FOLDER+'youtube_comments.tsv.gz', sep=\"\\t\", compression='gzip', nrows=100)\n",
    "df_yt_comments.head()"
   ]
  },
  {
   "cell_type": "markdown",
   "metadata": {},
   "source": [
    "#### 1.1.5 raw comments"
   ]
  },
  {
   "cell_type": "code",
   "execution_count": null,
   "metadata": {},
   "outputs": [],
   "source": [
    "# !ls -lh /dlabdata1/youtube_large/youtube_comments.ndjson.zst"
   ]
  },
  {
   "cell_type": "code",
   "execution_count": null,
   "metadata": {},
   "outputs": [],
   "source": [
    "def line_jsonify(line): \n",
    "    \"\"\"\n",
    "\n",
    "    :param line: string to parse and jsonify\n",
    "    :return: \n",
    "    \"\"\"    \n",
    "    \n",
    "    # add square brackets around line\n",
    "    line = \"[\" + line + \"]\"\n",
    "\n",
    "    # remove quotes before and after square brackets   \n",
    "    line = line.replace(\"\\\"[{\", \"[{\")\n",
    "    line = line.replace(\"}]\\\"\", \"}]\")    \n",
    "    \n",
    "    # replace double double-quotes with single double-quotes\n",
    "    line = line.replace(\"{\\\"\\\"\", \"{\\\"\")\n",
    "    line = line.replace(\"\\\"\\\"}\", \"\\\"}\")\n",
    "    line = line.replace(\"\\\"\\\":\\\"\\\"\", \"\\\":\\\"\")\n",
    "    line = line.replace(\":\\\"\\\"\", \":\\\"\")\n",
    "    line = line.replace(\"\\\"\\\":\", \"\\\":\")\n",
    "    \n",
    "    # line = line.replace(\"\\\"\\\":\", \"\\\":\")\n",
    "    line = line.replace(\"\\\"\\\",\\\"\\\"\", \"\\\",\\\"\")\n",
    "    line = line.replace(\"\\\"\\\",\\\"\\\"\", \"\\\",\\\"\")\n",
    "    line = line.replace(\"\\\\\\\"\\\"\", \"\\\\\\\"\")\n",
    "    line = line.replace(\"\\\\\\\",[\", \"\\\\\\\\ \\\",[\")\n",
    "    \n",
    "    line = re.sub(r',\\\"\\\"(?!\\,)', ',\\\"', line)\n",
    "\n",
    "    line = line.replace(\"true,\\\"\\\"\", \"true,\\\"\")\n",
    "    line = line.replace(\"false,\\\"\\\"\", \"false,\\\"\")\n",
    "    \n",
    "    return line"
   ]
  },
  {
   "cell_type": "code",
   "execution_count": null,
   "metadata": {},
   "outputs": [],
   "source": [
    "class Zreader:\n",
    "\n",
    "    def __init__(self, file, chunk_size=16384):\n",
    "        '''Init method'''\n",
    "        import codecs\n",
    "        self.fh = open(file,'rb')\n",
    "        print(f\"reading {file} in chunks ...\")\n",
    "        self.chunk_size = chunk_size\n",
    "        self.dctx = zstandard.ZstdDecompressor(max_window_size=2147483648)\n",
    "        self.reader = self.dctx.stream_reader(self.fh)\n",
    "        self.buffer = ''\n",
    "\n",
    "    def readlines(self):\n",
    "        '''Generator method that creates an iterator for each line of JSON'''\n",
    "        nb_chunk = 0\n",
    "        while True:\n",
    "            nb_chunk = nb_chunk + 1\n",
    "            if nb_chunk % 5000 == 0:\n",
    "                print(\"number of chunks read: \", nb_chunk)\n",
    "                \n",
    "            chunk = self.reader.read(self.chunk_size).decode(\"utf-8\", \"replace\")\n",
    "\n",
    "            if not chunk:\n",
    "                break\n",
    "            lines = (self.buffer + chunk).split(\"\\n\")\n",
    "\n",
    "            # print(\"lines per chunk: \", len(lines))\n",
    "            # print(lines)\n",
    "            \n",
    "            for line in lines[:-1]:\n",
    "                # print(line)\n",
    "                yield line\n",
    "\n",
    "            self.buffer = lines[-1]"
   ]
  },
  {
   "cell_type": "code",
   "execution_count": null,
   "metadata": {},
   "outputs": [],
   "source": [
    "NB_OF_LINES = 350000\n",
    "lines_json = []\n",
    "inp_file = DATA_FOLDER+\"youtube_comments.ndjson.zst\"\n",
    "reader = Zreader(inp_file, chunk_size=4092)\n",
    "\n",
    "for i, line in enumerate(reader.readlines()):\n",
    "    if i > NB_OF_LINES:\n",
    "        # print(line)\n",
    "        break\n",
    "    line_json = json.loads(line_jsonify(line))\n",
    "    lines_json.append(line_json)\n",
    "\n",
    "print(\"==> number of lines read:\", len(lines_json))\n",
    "\n",
    "df_yt_comments_raw = pd.DataFrame(data=lines_json[1:], columns=lines_json[0])\n",
    "df_yt_comments_raw.head()"
   ]
  },
  {
   "cell_type": "code",
   "execution_count": null,
   "metadata": {},
   "outputs": [],
   "source": []
  },
  {
   "cell_type": "markdown",
   "metadata": {},
   "source": [
    "### 1.2. Graphtreon dataset"
   ]
  },
  {
   "cell_type": "markdown",
   "metadata": {},
   "source": [
    "#### 1.2.1 List with all creator names."
   ]
  },
  {
   "cell_type": "code",
   "execution_count": null,
   "metadata": {},
   "outputs": [],
   "source": [
    "# !ls -lh /dlabdata1/youtube_large/creators.csv"
   ]
  },
  {
   "cell_type": "code",
   "execution_count": null,
   "metadata": {},
   "outputs": [],
   "source": [
    "# list with all creator names.\n",
    "df_gt_creators = pd.read_csv(DATA_FOLDER+'creators.csv')\n",
    "df_gt_creators.head()"
   ]
  },
  {
   "cell_type": "markdown",
   "metadata": {},
   "source": [
    "#### 1.2.2 All graphtreon time-series"
   ]
  },
  {
   "cell_type": "code",
   "execution_count": null,
   "metadata": {},
   "outputs": [],
   "source": [
    "!ls -lh /dlabdata1/youtube_large/final_processed_file.jsonl.gz"
   ]
  },
  {
   "cell_type": "code",
   "execution_count": null,
   "metadata": {},
   "outputs": [],
   "source": [
    "# final_processed_file.jsonl.gz all graphteon time-series.\n",
    "df_gt_timeseries = pd.read_json(DATA_FOLDER+'final_processed_file.jsonl.gz', compression='gzip', lines=True, nrows=10)\n",
    "df_gt_timeseries.head()\n",
    "\n",
    "# df_gt_timeseries = pd.read_json(DATA_FOLDER+'final_processed_file.jsonl.gz', compression='gzip', lines=True)\n",
    "\n",
    "# get only id and match them first\n",
    "# "
   ]
  },
  {
   "cell_type": "code",
   "execution_count": null,
   "metadata": {},
   "outputs": [],
   "source": []
  },
  {
   "cell_type": "markdown",
   "metadata": {
    "tags": []
   },
   "source": [
    "##### Summary statistics"
   ]
  },
  {
   "cell_type": "code",
   "execution_count": null,
   "metadata": {},
   "outputs": [],
   "source": [
    "df_gt_timeseries['startDate'] = pd.to_datetime(df_gt_timeseries['startDate'])\n",
    "df_gt_timeseries.head()"
   ]
  },
  {
   "cell_type": "code",
   "execution_count": null,
   "metadata": {
    "tags": []
   },
   "outputs": [],
   "source": [
    "print('Number of unique creators:         {:,}'.format(df_gt_timeseries['creatorName'].nunique()))\n",
    "print('Number of unique patreon ids:         {:,}'.format(df_gt_timeseries['patreon'].nunique()))\n",
    "\n",
    "print('Timeseries data was gathered between {} and {}'.format(df_gt_timeseries['startDate'].min().strftime('%B %d, %Y'),\n",
    "                                                         df_gt_timeseries['startDate'].max().strftime('%B %d, %Y')))\n",
    "print('Total number of datapoints accross all channels: {:>12,}'.format(len(df_gt_timeseries)))"
   ]
  },
  {
   "cell_type": "markdown",
   "metadata": {},
   "source": [
    "#### 1.2.3 Raw html of the pages in graphteon."
   ]
  },
  {
   "cell_type": "code",
   "execution_count": null,
   "metadata": {},
   "outputs": [],
   "source": [
    "!ls -lh /dlabdata1/youtube_large/pages.zip"
   ]
  },
  {
   "cell_type": "code",
   "execution_count": null,
   "metadata": {},
   "outputs": [],
   "source": [
    "# pages.zip raw html of the pages in graphteon."
   ]
  },
  {
   "cell_type": "markdown",
   "metadata": {},
   "source": [
    "## 2. Match data"
   ]
  },
  {
   "cell_type": "markdown",
   "metadata": {},
   "source": [
    "### 2.1. Merge channels data with YouTube timeseries"
   ]
  },
  {
   "cell_type": "code",
   "execution_count": null,
   "metadata": {},
   "outputs": [],
   "source": [
    "display(df_yt_timeseries.head(1))\n",
    "display(df_yt_channels.head(1))"
   ]
  },
  {
   "cell_type": "code",
   "execution_count": null,
   "metadata": {},
   "outputs": [],
   "source": []
  },
  {
   "cell_type": "code",
   "execution_count": null,
   "metadata": {},
   "outputs": [],
   "source": [
    "df_yt_timeseries_merged = df_yt_timeseries.merge(df_yt_channels, how='inner', on='channel')\n",
    "\n",
    "# remove duplicate columns\n",
    "# df_yt_timeseries_merged.drop('category_cc', axis='columns', inplace=True)\n",
    "\n",
    "df_yt_timeseries_merged"
   ]
  },
  {
   "cell_type": "markdown",
   "metadata": {},
   "source": [
    "### 2.2. Match YouTube timeseries and Graphtreon timeseries"
   ]
  },
  {
   "cell_type": "markdown",
   "metadata": {
    "tags": []
   },
   "source": [
    "#### 2.2.1. Filter YouTube metadata containing patreon id"
   ]
  },
  {
   "cell_type": "markdown",
   "metadata": {},
   "source": [
    "YT_metadata_filter_results_032622.jpg _(filter script in script/scripts.ipynb)_\n",
    "<div>\n",
    "    <img src=\"img/YT_metadata_filter_results_032622.jpg\" alt=\"YT_metadata_filter_results_032622.jpg\" />\n",
    "</div>"
   ]
  },
  {
   "cell_type": "code",
   "execution_count": null,
   "metadata": {},
   "outputs": [],
   "source": [
    "# declare global variable for size of original YT dataset\n",
    "DF_YT_METADATA_ROWS = 72_924_794"
   ]
  },
  {
   "cell_type": "code",
   "execution_count": null,
   "metadata": {},
   "outputs": [],
   "source": [
    "!ls -lh \"yt_metadata_en_pt.tsv.gz\""
   ]
  },
  {
   "cell_type": "code",
   "execution_count": null,
   "metadata": {},
   "outputs": [],
   "source": [
    "# read filtered youtube metadata file (takes about 2 mins)\n",
    "df_yt_metadata_pt = pd.read_csv(\"yt_metadata_en_pt.tsv.gz\", sep=\"\\t\", lineterminator='\\n', compression='gzip') \n",
    "df_yt_metadata_pt.head(3)"
   ]
  },
  {
   "cell_type": "code",
   "execution_count": null,
   "metadata": {},
   "outputs": [],
   "source": [
    "print(\"[YouTube metadata] Total number of videos:                                           {:>10,}\".format(DF_YT_METADATA_ROWS))\n",
    "print(\"[YouTube metadata] number of videos that contain a patreon link in description:      {:>10,} ({:.1%} of total dataset)\".format(len(df_yt_metadata_pt), len(df_yt_metadata_pt)/DF_YT_METADATA_ROWS))"
   ]
  },
  {
   "cell_type": "code",
   "execution_count": null,
   "metadata": {},
   "outputs": [],
   "source": [
    "# get list of all unique patreon ids in df_yt_metadata_pt\n",
    "yt_patreon_list = df_yt_metadata_pt.patreon_id.unique()\n",
    "yt_pt_channel_list = df_yt_metadata_pt['channel_id'].unique()\n",
    "print(\"[Filtered YouTube metadata] total number of unique patreon ids:                       {:>9,}\".format(len(yt_patreon_list)))\n",
    "print(\"[Filtered YouTube metadata] number of unique channels that contain a patreon account: {:>9,}\".format(len(yt_pt_channel_list)))"
   ]
  },
  {
   "cell_type": "markdown",
   "metadata": {},
   "source": [
    "**Observation:** \\\n",
    "We can see that we have _**more patreon ids than channels**_ (almost twice). Let's investigate further:"
   ]
  },
  {
   "cell_type": "markdown",
   "metadata": {},
   "source": [
    "##### Number of patreon ids per youtube channel"
   ]
  },
  {
   "cell_type": "code",
   "execution_count": null,
   "metadata": {},
   "outputs": [],
   "source": [
    "# group by channel_id AND patreon_id and count the number of unique vieos (display_ids)\n",
    "df_yt_metadata_pt_grp_chan = df_yt_metadata_pt.groupby(['channel_id','patreon_id']).agg(display_id_cnt=(\"display_id\", pd.Series.nunique))\n",
    "df_yt_metadata_pt_grp_chan.head(4)"
   ]
  },
  {
   "cell_type": "code",
   "execution_count": null,
   "metadata": {},
   "outputs": [],
   "source": [
    "# reset index\n",
    "df_yt_metadata_pt_grp_chan = df_yt_metadata_pt_grp_chan.reset_index()\n",
    "df_yt_metadata_pt_grp_chan.head(4)"
   ]
  },
  {
   "cell_type": "code",
   "execution_count": null,
   "metadata": {},
   "outputs": [],
   "source": [
    "# count the number of patreon_ids per channel\n",
    "pt_id_cnt_pr_chan = df_yt_metadata_pt_grp_chan.groupby('channel_id').count()['patreon_id'].sort_values(ascending=False)\n",
    "pt_id_cnt_pr_chan = pt_id_cnt_pr_chan.to_frame(name='patreon_id_cnt')\n",
    "pt_id_cnt_pr_chan"
   ]
  },
  {
   "cell_type": "code",
   "execution_count": null,
   "metadata": {},
   "outputs": [],
   "source": [
    "# plot with linear scale for both axes\n",
    "fig, axs = plt.subplots(nrows=2, ncols=1, figsize=(6,8))\n",
    "\n",
    "sns.histplot(data=pt_id_cnt_pr_chan, ax=axs[0], bins=50, kde=False, legend=False, color=f'C{0}')\n",
    "axs[0].set(title=f'Distribution of patreon ids per channel')\n",
    "axs[0].set_xlabel(\"Number of patreon ids\")\n",
    "axs[0].set_ylabel(\"Count of channels\")\n",
    "\n",
    "# plot with linear scale for x axis and log scale for y axis\n",
    "sns.histplot(data=pt_id_cnt_pr_chan, ax=axs[1], bins=50, kde=False, legend=False, color=f'C{0}')\n",
    "axs[1].set(title=f'Distribution of patreon ids per channel (log scale)')\n",
    "axs[1].set_xlabel(\"Number of patreon ids\")\n",
    "axs[1].set_ylabel(\"Count of channels (log scale)\")\n",
    "axs[1].set(yscale=\"log\")\n",
    "\n",
    "plt.tight_layout()\n",
    "plt.show()\n",
    "\n",
    "# descriptive statistics table\n",
    "pt_id_cnt_pr_chan.describe().T"
   ]
  },
  {
   "cell_type": "markdown",
   "metadata": {},
   "source": [
    "**Discussion:** \\\n",
    "As we observed earlier, some channels use more than 1 patreon id, and use different patreon urls (typically of the form _patreon.com/posts/postid_) for different videos. For example:\n",
    "- [JuliDG](https://www.youtube.com/channel/UCqQbeJvP8rsrJYF83PDPkWQ) uses 689 different patreon ids.\n",
    "- [Marco Cirillo](https://www.youtube.com/channel/UC4T9oHvffAyPsBUDmqE3HYA) uses 299 different patreon ids."
   ]
  },
  {
   "cell_type": "code",
   "execution_count": null,
   "metadata": {},
   "outputs": [],
   "source": [
    "df_yt_metadata_pt_grp_chan[df_yt_metadata_pt_grp_chan['channel_id'] == 'UCqQbeJvP8rsrJYF83PDPkWQ'].head()"
   ]
  },
  {
   "cell_type": "code",
   "execution_count": null,
   "metadata": {},
   "outputs": [],
   "source": [
    "df_yt_metadata_pt_grp_chan[df_yt_metadata_pt_grp_chan['channel_id'] == 'UC4T9oHvffAyPsBUDmqE3HYA'].head()"
   ]
  },
  {
   "cell_type": "markdown",
   "metadata": {},
   "source": [
    "_Optional: Keep only most used patreon_id per channel (patreon_id with most videos for each channel)_"
   ]
  },
  {
   "cell_type": "code",
   "execution_count": null,
   "metadata": {},
   "outputs": [],
   "source": [
    "# # sort metadata df by diplay_id_cnt within each channel_id group\n",
    "# df_yt_metadata_pt_grp_chan = df_yt_metadata_pt_grp_chan.sort_values(['channel_id','display_id_cnt'], ascending=[True, False])\n",
    "# df_yt_metadata_pt_grp_chan.head(5)"
   ]
  },
  {
   "cell_type": "code",
   "execution_count": null,
   "metadata": {},
   "outputs": [],
   "source": [
    "# # calculate the number of duplicate of rows with same channel id but different patreon ids\n",
    "# dup_chan_id = df_yt_metadata_pt_grp_chan[df_yt_metadata_pt_grp_chan.duplicated(subset=['channel_id'], keep='first')]\n",
    "# print(\"Number of duplicate rows (same channel id with multiple patreon_ids): {:,}\".format(len(dup_chan_id)))"
   ]
  },
  {
   "cell_type": "code",
   "execution_count": null,
   "metadata": {},
   "outputs": [],
   "source": [
    "# # drop duplicate rows, keep the patreon ids with the most videos\n",
    "# df_yt_metadata_unique_pt = df_yt_metadata_pt_grp_chan.drop_duplicates(subset='channel_id', keep='first')\n",
    "# print('Removed {:,} rows'.format(len(df_yt_metadata_pt_grp_chan) - len(df_yt_metadata_unique_pt)))\n",
    "# df_yt_metadata_unique_pt"
   ]
  },
  {
   "cell_type": "markdown",
   "metadata": {},
   "source": [
    "**Further Observation:** \\\n",
    "When grouping YouTube metadata by `channel_id` and `patreon_id`, we also notice that we have more rows (44,859) than the total number of unique patreon ids (40,216). \\\n",
    "This is because some `patreon_id` are used on multiple channels. "
   ]
  },
  {
   "cell_type": "code",
   "execution_count": null,
   "metadata": {},
   "outputs": [],
   "source": [
    "print(\"total rows:                        {:,}\".format(len(df_yt_metadata_pt_grp_chan)))\n",
    "print(\"total number of unique patreon ids {:,}\".format(df_yt_metadata_pt.patreon_id.nunique()))"
   ]
  },
  {
   "cell_type": "code",
   "execution_count": null,
   "metadata": {},
   "outputs": [],
   "source": [
    "# show patreon_id that are used on multiple channels.\n",
    "df_yt_metadata_pt_grp_chan[df_yt_metadata_pt_grp_chan.duplicated(subset=['patreon_id'], keep=False)].sort_values(by='patreon_id')"
   ]
  },
  {
   "cell_type": "code",
   "execution_count": null,
   "metadata": {},
   "outputs": [],
   "source": [
    "print(\"[Filtered YouTube metadata] number of channels per patreon id:\")\n",
    "\n",
    "chan_cnt_per_patreon_id = df_yt_metadata_pt.groupby('patreon_id')\\\n",
    "                                            .agg(channel_id_count=('channel_id', 'count'))\\\n",
    "                                            .sort_values(by=['channel_id_count'], ascending=False)\n",
    "chan_cnt_per_patreon_id\n",
    "# chan_cnt_per_patreon_id.reset_index()"
   ]
  },
  {
   "cell_type": "markdown",
   "metadata": {},
   "source": [
    "##### Number of videos per patreon id"
   ]
  },
  {
   "cell_type": "code",
   "execution_count": null,
   "metadata": {},
   "outputs": [],
   "source": [
    "# group by patreon_id and count the number of unique display_ids\n",
    "vids_cnt_per_patreon_id = df_yt_metadata_pt.groupby('patreon_id').agg({\"display_id\": pd.Series.nunique}).sort_values(by='display_id', ascending=False)\n",
    "vids_cnt_per_patreon_id.rename(columns={'display_id':'display_id_cnt'}, inplace=True)\n",
    "\n",
    "print(\"[Filtered YouTube metadata] number of videos per patreon id:\")\n",
    "vids_cnt_per_patreon_id"
   ]
  },
  {
   "cell_type": "code",
   "execution_count": null,
   "metadata": {},
   "outputs": [],
   "source": [
    "# plot with linear scale for both axes\n",
    "fig, axs = plt.subplots(nrows=2, ncols=1, figsize=(6,8))\n",
    "\n",
    "sns.histplot(data=vids_cnt_per_patreon_id, ax=axs[0], bins=50, kde=False, color=f'C{0}')\n",
    "axs[0].set(title=f'Distribution of videos per patreon id')\n",
    "axs[0].set_xlabel(\"Number of videos\")\n",
    "axs[0].set_ylabel(\"# patreon ids\")\n",
    "\n",
    "# plot with linear scale for x axis and log scale for y axis\n",
    "sns.histplot(data=vids_cnt_per_patreon_id, ax=axs[1], bins=50, kde=False, color=f'C{0}')\n",
    "axs[1].set(title=f'Distribution of videos per patreon id (log scale)')\n",
    "axs[1].set_xlabel(\"Number of videos\")\n",
    "axs[1].set_ylabel(\"# patreon ids (log scale)\")\n",
    "axs[1].set(yscale=\"log\")\n",
    "\n",
    "plt.tight_layout()\n",
    "plt.show()\n",
    "\n",
    "# descriptive statistics table\n",
    "vids_cnt_per_patreon_id.describe().T"
   ]
  },
  {
   "cell_type": "markdown",
   "metadata": {},
   "source": [
    "**Discussion:** \\\n",
    "From the above graphs and table, we can see that the _videos_ distributions among patreon ids follows a **power law**, meaning that most patreon accounts have a only a few videos, but a few of them have a lot of videos.\n",
    "\n",
    "More specifically:\n",
    "- 25% of the Patreon accounts have 1 video\n",
    "- 50% of the Patreon accounts have less than 4 videos"
   ]
  },
  {
   "cell_type": "markdown",
   "metadata": {},
   "source": [
    "___"
   ]
  },
  {
   "cell_type": "markdown",
   "metadata": {},
   "source": [
    "#### 2.2.2 Filter YouTube timeseries - Restrict YouTube channels (more filters)\n",
    "Restrict YouTube channels according to the following criteria (filters are applied sequentially):\n",
    "- Filter 1: Keep only YouTube channels that are in YouTube Timeseries dataset AND linked to a patreon account \n",
    "- Filter 2: At least 2 year between first and last video\n",
    "- Filter 3: At least 20 videos with patreon ids\n",
    "- Filter 4: At least 250k subscribers at data crawling time"
   ]
  },
  {
   "cell_type": "code",
   "execution_count": null,
   "metadata": {},
   "outputs": [],
   "source": [
    "# Define global values for filters\n",
    "MIN_DAYS_DELTA = \"730 day\"    # filter 2\n",
    "NB_PATREON_VIDS = 20          # filter 3\n",
    "NB_SUBS = 250_000             # filter 4"
   ]
  },
  {
   "cell_type": "code",
   "execution_count": null,
   "metadata": {},
   "outputs": [],
   "source": [
    "# Nb of channels of original YT timeseries dataset (need to first load df_yt_timeseries in 1.1.2)\n",
    "yt_ts_uniq_chan_cnt = df_yt_timeseries['channel'].nunique()"
   ]
  },
  {
   "cell_type": "markdown",
   "metadata": {},
   "source": [
    "---\n",
    "**• Filter 1:** Keep only YouTube channels that are in YouTube Timeseries dataset AND linked to a patreon account"
   ]
  },
  {
   "cell_type": "code",
   "execution_count": null,
   "metadata": {},
   "outputs": [],
   "source": [
    "# Apply filter 1: retain only the YT channels that exist in the filtered YT metadata dataset (need to first load df_yt_metadata_pt and yt_pt_channel_list in 2.2.1)\n",
    "df_yt_timeseries_filt1 = df_yt_timeseries[df_yt_timeseries['channel'].isin(yt_pt_channel_list)]\n",
    "yt_ts_uniq_chan_filt1_cnt = df_yt_timeseries_filt1['channel'].nunique()\n",
    "\n",
    "# df_yt_timeseries_filt1.head()"
   ]
  },
  {
   "cell_type": "markdown",
   "metadata": {},
   "source": [
    "---\n",
    "**• Filter 2:** At least 2 year between first and last video"
   ]
  },
  {
   "cell_type": "code",
   "execution_count": null,
   "metadata": {},
   "outputs": [],
   "source": [
    "# among filter1 channels, calculate time difference between the first and the last video for each channel\n",
    "datetime_data = df_yt_timeseries_filt1.groupby('channel').agg(datetime_min=('datetime', 'min'),\n",
    "                                                              datetime_max=('datetime', 'max'))\n",
    "datetime_data['delta_datetime'] = datetime_data['datetime_max'] - datetime_data['datetime_min']\n",
    "\n",
    "# filter channels that we have data for at least MIN_TIME_DELTA days\n",
    "datetime_data_filt2 = datetime_data[datetime_data['delta_datetime'] > pd.Timedelta(MIN_DAYS_DELTA)]\n",
    "\n",
    "# Apply filter on YT Timeseries dataset: retain only those channels that have data for at least MIN_TIME_DELTA days\n",
    "df_yt_timeseries_filt2 = df_yt_timeseries_filt1[df_yt_timeseries_filt1['channel'].isin(datetime_data_filt2.index)]\n",
    "yt_ts_uniq_chan_filt2_cnt = df_yt_timeseries_filt2['channel'].nunique()\n",
    "\n",
    "# df_yt_timeseries_filt2.head()"
   ]
  },
  {
   "cell_type": "markdown",
   "metadata": {},
   "source": [
    "___"
   ]
  },
  {
   "cell_type": "markdown",
   "metadata": {},
   "source": [
    "**• Filter 3:** At least 20 videos with patreon ids per channel "
   ]
  },
  {
   "cell_type": "code",
   "execution_count": null,
   "metadata": {},
   "outputs": [],
   "source": [
    "# group by channel_id AND patreon_id and count the number of unique videos (=display_ids). (need to load df_yt_metadata_pt_grp_chan from point 2.2.1)\n",
    "# Then filter rows that have at least 20 videos (display_ids) \n",
    "df_yt_metadata_pt_grp_chan_filt3 = df_yt_metadata_pt_grp_chan[df_yt_metadata_pt_grp_chan['display_id_cnt'] > NB_PATREON_VIDS]\n",
    "df_yt_metadata_pt_grp_chan_filt3\n",
    "\n",
    "# get list of unique channels satisfying filter 3\n",
    "chan_list_filt_3 = df_yt_metadata_pt_grp_chan_filt3['channel_id'].unique()\n",
    "\n",
    "# Apply filter on YT Timeseries dataset: retain only those channels from filt 2 that are in the chan_list_filt_3\n",
    "df_yt_timeseries_filt3 = df_yt_timeseries_filt2[df_yt_timeseries_filt2['channel'].isin(chan_list_filt_3)]\n",
    "yt_ts_uniq_chan_filt3_cnt = df_yt_timeseries_filt3['channel'].nunique()\n",
    "\n",
    "# df_yt_timeseries_filt3.head()"
   ]
  },
  {
   "cell_type": "markdown",
   "metadata": {},
   "source": [
    "---\n",
    "- **Filter 4:** At least 250k subscribers at data crawling time"
   ]
  },
  {
   "cell_type": "code",
   "execution_count": null,
   "metadata": {},
   "outputs": [],
   "source": [
    "# Need to first load data_per_channel (aggregates per channel in 1.1.2 'Datetime points accross channels' section)\n",
    "subs_per_channel = data_per_channel['subs'][['min', 'max']].reset_index()\n",
    "\n",
    "subs_per_channel_filt4 = subs_per_channel[subs_per_channel['max'] > NB_SUBS]\n",
    "\n",
    "# get list of unique channels satisfying filter 4\n",
    "chan_list_filt_4 = subs_per_channel_filt4['channel'].unique()\n",
    "\n",
    "# # Apply filter on YT Timeseries dataset: retain only those channels from filt_3 that are in the chan_list_filt_4\n",
    "df_yt_timeseries_filt4 = df_yt_timeseries_filt3[df_yt_timeseries_filt3['channel'].isin(chan_list_filt_4)]\n",
    "yt_ts_uniq_chan_filt4_cnt = df_yt_timeseries_filt4['channel'].nunique()\n",
    "\n",
    "# df_yt_timeseries_filt4.head()"
   ]
  },
  {
   "cell_type": "markdown",
   "metadata": {},
   "source": [
    "___\n",
    "___\n",
    "**• Filters summary**"
   ]
  },
  {
   "cell_type": "code",
   "execution_count": null,
   "metadata": {},
   "outputs": [],
   "source": [
    "print(\"[YouTube Timeseries] Stats before and after filters:\")\n",
    "print()\n",
    "\n",
    "print(\"Filter 1 = \\\"keep only YouTube channels that are in YouTube Timeseries dataset AND linked to a patreon account\\\"\")\n",
    "print(\"Filter 2 = \\\"at least {:.1f} years ({} days) between first and last video\\\"\".format(pd.Timedelta(MIN_DAYS_DELTA).days/365, pd.Timedelta(MIN_DAYS_DELTA).days))\n",
    "print(\"Filter 3 = \\\"at least {:,} videos with patreon ids per channel\\\"\".format(NB_PATREON_VIDS))\n",
    "print(\"Filter 4 = \\\"at least {:,} subscribers at data crawling time\\\"\".format(NB_SUBS))\n",
    "print()\n",
    "\n",
    "print(\"[YouTube Timeseries] Nb of rows of original dataset:                  {:>10,}\".format(len(df_yt_timeseries)))\n",
    "print(\"[YouTube Timeseries] Nb of rows of after applying filter 1:           {:>10,} ({:5.1%} of original dataset)\".format(len(df_yt_timeseries_filt1), len(df_yt_timeseries_filt1)/len(df_yt_timeseries)))\n",
    "print(\"[YouTube Timeseries] Nb of rows of after applying filter 1+2:         {:>10,} ({:5.1%} of original dataset, {:5.1%} of filter 1 dataset)\".format(len(df_yt_timeseries_filt2), len(df_yt_timeseries_filt2)/len(df_yt_timeseries), len(df_yt_timeseries_filt2)/len(df_yt_timeseries_filt1)))\n",
    "print(\"[YouTube Timeseries] Nb of rows of after applying filter 1+2+3:       {:>10,} ({:5.1%} of original dataset, {:5.1%} of filter 2 dataset)\".format(len(df_yt_timeseries_filt3), len(df_yt_timeseries_filt3)/len(df_yt_timeseries), len(df_yt_timeseries_filt3)/len(df_yt_timeseries_filt2)))\n",
    "print(\"[YouTube Timeseries] Nb of rows of after applying filter 1+2+3+4:     {:>10,} ({:5.1%} of original dataset, {:5.1%} of filter 3 dataset)\".format(len(df_yt_timeseries_filt4), len(df_yt_timeseries_filt4)/len(df_yt_timeseries), len(df_yt_timeseries_filt4)/len(df_yt_timeseries_filt3)))\n",
    "print()\n",
    "\n",
    "print(\"[YouTube Timeseries] Nb of channels of original dataset:              {:>10,}\".format(yt_ts_uniq_chan_cnt))\n",
    "print(\"[YouTube Timeseries] Nb of channels after applying filter 1:          {:>10,} ({:5.1%} of original dataset)\".format(yt_ts_uniq_chan_filt1_cnt, yt_ts_uniq_chan_filt1_cnt/yt_ts_uniq_chan_cnt))\n",
    "print(\"[YouTube Timeseries] Nb of channels after applying filter 1+2:        {:>10,} ({:5.1%} of original dataset, {:5.1%} of filter 1 channels)\".format(yt_ts_uniq_chan_filt2_cnt, yt_ts_uniq_chan_filt2_cnt/yt_ts_uniq_chan_cnt, yt_ts_uniq_chan_filt2_cnt/yt_ts_uniq_chan_filt1_cnt))\n",
    "print(\"[YouTube Timeseries] Nb of channels after applying filter 1+2+3:      {:>10,} ({:5.1%} of original dataset, {:5.1%} of filter 2 channels)\".format(yt_ts_uniq_chan_filt3_cnt, yt_ts_uniq_chan_filt3_cnt/yt_ts_uniq_chan_cnt, yt_ts_uniq_chan_filt3_cnt/yt_ts_uniq_chan_filt2_cnt))\n",
    "print(\"[YouTube Timeseries] Nb of channels after applying filter 1+2+3+4:    {:>10,} ({:5.1%} of original dataset, {:5.1%} of filter 3 channels)\".format(yt_ts_uniq_chan_filt4_cnt, yt_ts_uniq_chan_filt4_cnt/yt_ts_uniq_chan_cnt, yt_ts_uniq_chan_filt4_cnt/yt_ts_uniq_chan_filt3_cnt))\n",
    "print()\n",
    "\n",
    "display(df_yt_timeseries_filt4.head())\n",
    "\n",
    "timeseries_restricted_channels = df_yt_timeseries_filt4.channel.unique()\n",
    "print(\"restricted list of channels ({:,})\".format(len(timeseries_restricted_channels)))\n",
    "print(timeseries_restricted_channels)"
   ]
  },
  {
   "cell_type": "markdown",
   "metadata": {
    "tags": []
   },
   "source": [
    "#### 2.2.3. Filter Graphtreon to keep only the ones matching patreon id"
   ]
  },
  {
   "cell_type": "markdown",
   "metadata": {},
   "source": [
    "GT_timeseries_filter_results_032622.jpg _(filter script in scripts/scripts.ipynb)_\n",
    "<div>\n",
    "    <img src=\"img/GT_timeseries_filter_results_032622.jpg\" alt=\"GT_timeseries_filter_results_032622.jpg\" />\n",
    "</div>"
   ]
  },
  {
   "cell_type": "code",
   "execution_count": null,
   "metadata": {},
   "outputs": [],
   "source": [
    "# declare global variable for size of original GT dataset\n",
    "GT_final_processed_file_ROWS = 232_269"
   ]
  },
  {
   "cell_type": "code",
   "execution_count": null,
   "metadata": {},
   "outputs": [],
   "source": [
    "!ls -lh df_gt_timeseries_filtered.tsv.gz"
   ]
  },
  {
   "cell_type": "code",
   "execution_count": null,
   "metadata": {},
   "outputs": [],
   "source": [
    "df_gt_timeseries_filtered = pd.read_csv(\"df_gt_timeseries_filtered.tsv.gz\", sep=\"\\t\", compression='gzip')\n",
    "df_gt_timeseries_filtered.head(3)"
   ]
  },
  {
   "cell_type": "code",
   "execution_count": null,
   "metadata": {},
   "outputs": [],
   "source": [
    "print(\"Statistics of loaded pre-filtered Graphtreon Timeseries file:\")\n",
    "print(\"[Graphtreon Timeseries] Total number of patreon ids:                                                   {:>9,}\".format(GT_final_processed_file_ROWS))\n",
    "print(\"[Graphtreon Timeseries] Nb of patreon ids that exist in both GT Timeseries and YT metadata:            {:>9,} ({:.1%} of GT timeseries dataset)\".format(len(df_gt_timeseries_filtered), len(df_gt_timeseries_filtered)/GT_final_processed_file_ROWS))\n"
   ]
  },
  {
   "cell_type": "markdown",
   "metadata": {
    "tags": []
   },
   "source": [
    "##### 2.2.3.1. Filter/Restrict YouTube metadata further\n",
    "We now want to reduce the Graphtreon dataset to match the channels in the `restricted list of channels`. \\\n",
    "Since `channel_id` is not given in the patreon dataset, we first need find the `patreon_id`s corresponding to the restricted list of channels in the _YouTube metadata file_, and create a `restricted list of patreon ids`, which we can use to filter the Graphtreon dataset."
   ]
  },
  {
   "cell_type": "code",
   "execution_count": null,
   "metadata": {},
   "outputs": [],
   "source": [
    "# patreon ids corresponding to the restricted list of channels\n",
    "# Filter GT Timeseries and keep only YT channels appearing in restricted YT channel list (chan_list_filt_4)"
   ]
  },
  {
   "cell_type": "code",
   "execution_count": null,
   "metadata": {},
   "outputs": [],
   "source": [
    "# get patreon_ids in df_yt_timeseries_filt4\n",
    "\n",
    "# filter YT metadata dataset by list of restricted channels from timeseries\n",
    "df_yt_metadata_pt_restr = df_yt_metadata_pt[df_yt_metadata_pt['channel_id'].isin(timeseries_restricted_channels)]\n",
    "\n",
    "# get unique channels for youtube metadata (original and restricted)\n",
    "yt_metadata_uniq_chan = df_yt_metadata_pt['channel_id'].unique()\n",
    "yt_metadata_uniq_chan_restr = df_yt_metadata_pt_restr['channel_id'].unique()\n",
    "\n",
    "# get unique patreon ids for youtube metadata (original and restricted)\n",
    "yt_metadata_uniq_pat = df_yt_metadata_pt['patreon_id'].unique()\n",
    "yt_metadata_uniq_pat_restr = df_yt_metadata_pt_restr['patreon_id'].unique()\n",
    "\n",
    "print(\"[YouTube Metadata]:\")\n",
    "print()\n",
    "print(\"Restriction = \\\"keep only YouTube channels that are in YouTube Timeseries restricted (4x filters) dataset\\\"\")\n",
    "print()\n",
    "# print(\"[YouTube Metadata] Nb of videos in original dataset:                                {:>10,}\".format(DF_YT_METADATA_ROWS))\n",
    "# print(\"[YouTube Metadata] Nb of videos in pre-filtered dataset:                            {:>10,}\".format(len(df_yt_metadata_pt)))\n",
    "# print(\"[YouTube Metadata] Nb of videos after filtering by restricted channels:             {:>10,} ({:5.1%} of original dataset)\".format(len(df_yt_metadata_pt_restr), len(df_yt_metadata_pt_restr)/len(df_yt_metadata_pt)))\n",
    "# print()\n",
    "print(\"[YouTube Metadata] Nb of channels in pre-filtered dataset:                          {:>10,}\".format(len(yt_metadata_uniq_chan)))\n",
    "print(\"[YouTube Metadata] Nb of channels after filtering by restricted channels:           {:>10,} ({:5.1%} of original dataset)\".format(len(yt_metadata_uniq_chan_restr), len(yt_metadata_uniq_chan_restr)/len(yt_metadata_uniq_chan)))\n",
    "print()\n",
    "print(\"[YouTube Metadata] Nb of patreon ids in pre-filtered dataset:                       {:>10,}\".format(len(yt_metadata_uniq_pat)))\n",
    "print(\"[YouTube Metadata] Nb of patreon ids after filtering by restricted channels:        {:>10,} ({:5.1%} of original dataset)\".format(len(yt_metadata_uniq_pat_restr), len(yt_metadata_uniq_pat_restr)/len(yt_metadata_uniq_pat)))\n",
    "\n",
    "# df_yt_metadata_pt_restr.head(2)\n"
   ]
  },
  {
   "cell_type": "code",
   "execution_count": null,
   "metadata": {},
   "outputs": [],
   "source": [
    "# filter Graphtreon dataset by keeping only patreon_ids in restricted metadata (yt_metadata_uniq_pat_restr)\n",
    "df_gt_timeseries_restricted = df_gt_timeseries_filtered[df_gt_timeseries_filtered['patreon'].isin(yt_metadata_uniq_pat_restr)]\n",
    "\n",
    "print(\"[Graphtreon Timeseries] Total number of patreon ids:                                                   {:>9,}\".format(GT_final_processed_file_ROWS))\n",
    "print(\"[Graphtreon Timeseries] Nb of patreon ids that exist in both GT Timeseries and YT metadata:            {:>9,} ({:.1%} of GT timeseries dataset)\".format(len(df_gt_timeseries_filtered), len(df_gt_timeseries_filtered)/GT_final_processed_file_ROWS))\n",
    "print(\"[Graphtreon Timeseries] Nb of patreon ids that exist in both GT Timeseries and YT metadata restricted  {:>9,} ({:.1%} of GT timeseries dataset)\".format(len(df_gt_timeseries_restricted), len(df_gt_timeseries_restricted)/GT_final_processed_file_ROWS))\n"
   ]
  },
  {
   "cell_type": "markdown",
   "metadata": {},
   "source": [
    "##### 2.2.3.2 Extract the date and earnings per patreon account"
   ]
  },
  {
   "cell_type": "code",
   "execution_count": null,
   "metadata": {},
   "outputs": [],
   "source": [
    "# get list of all unique patreon ids in df_gt_timeseries_restricted\n",
    "yt_gt_patreon_list_restricted = df_gt_timeseries_restricted.patreon.unique()\n",
    "print(\"list of restricted patreon ids\", yt_gt_patreon_list_restricted)\n",
    "print(\"number of restricted patreon ids\", len(yt_gt_patreon_list_restricted))"
   ]
  },
  {
   "cell_type": "code",
   "execution_count": null,
   "metadata": {},
   "outputs": [],
   "source": [
    "df_gt_timeseries_restricted.head(1)"
   ]
  },
  {
   "cell_type": "code",
   "execution_count": null,
   "metadata": {},
   "outputs": [],
   "source": [
    "def json_escape(str):\n",
    "    \"\"\"\n",
    "    replace new line special character by a space\n",
    "    \"\"\"\n",
    "    return str.replace(\"\\\\n\", \" \")"
   ]
  },
  {
   "cell_type": "code",
   "execution_count": null,
   "metadata": {},
   "outputs": [],
   "source": [
    "# example of NaN value\n",
    "# df_gt_timeseries_sample[df_gt_timeseries_sample['creatorName'] == 'Comedy Trap House']"
   ]
  },
  {
   "cell_type": "code",
   "execution_count": null,
   "metadata": {},
   "outputs": [],
   "source": [
    "# From the Graphtreon dataset, for each channel, extract the date and earnings from “dailyGraph_earningsSeriesData”\n",
    "input_file_path = DATA_FOLDER+\"/final_processed_file.jsonl.gz\"\n",
    "\n",
    "# MAX_ITER = 1000\n",
    "\n",
    "nb_rows_read = 0\n",
    "valid_predicate_count = 0\n",
    "JSONDecodeErrors_cnt = 0 \n",
    "dailyEarningsError_cnt = 0 \n",
    "lines_json = []    \n",
    "\n",
    "compressed_file_size = os.stat(input_file_path).st_size\n",
    "print(\"Compressed file size is :                 {:>8,.2f} GB\".format(compressed_file_size / 2**30))\n",
    "\n",
    "uncompressed_file_size = 13_310_000_000\n",
    "print(\"Estimated Uncompressed file size is :     {:>8,.2f} GB\".format(uncompressed_file_size / 2**30))\n",
    "\n",
    "start = timeit.default_timer()\n",
    "\n",
    "# Load tqdm with size counter instead of file counter\n",
    "with tqdm(total=uncompressed_file_size, unit='B', unit_scale=True, unit_divisor=1024) as pbar:\n",
    "    with gzip.open(input_file_path, \"r\") as f:\n",
    "        for i, line in enumerate(f): \n",
    "\n",
    "            read_bytes = len(line)\n",
    "            if read_bytes:\n",
    "                pbar.set_postfix(file=input_file_path[len(DATA_FOLDER)+1:], refresh=False)\n",
    "                pbar.update(read_bytes)\n",
    "\n",
    "            nb_rows_read += 1\n",
    "            \n",
    "            # set a maximum iteration for tests\n",
    "#             if nb_rows_read >= MAX_ITER:\n",
    "#                 break\n",
    "    \n",
    "            try:\n",
    "                line_json = json.loads(line)\n",
    "            except Exception as e:\n",
    "                JSONDecodeErrors_cnt += 1\n",
    "                continue\n",
    "                \n",
    "            # add line if patreon id is exists in df_yt_metadata_pt\n",
    "            if line_json['patreon'] in yt_gt_patreon_list_restricted:\n",
    "                valid_predicate_count += 1\n",
    "                \n",
    "                # Use ast.literal_eval to convert string of lists, to list of list\n",
    "                dailyGraph_earningsSeriesData = line_json.get('dailyGraph_earningsSeriesData')\n",
    "                \n",
    "                if dailyGraph_earningsSeriesData:\n",
    "                    daily_earnings = ast.literal_eval(dailyGraph_earningsSeriesData)\n",
    "                else:\n",
    "                    daily_earnings = [[np.nan, np.nan]]\n",
    "                                            \n",
    "                for daily_earning in daily_earnings:\n",
    "                    # case where there are multiple tuples per row\n",
    "                    if isinstance(daily_earning, list):\n",
    "                        date = daily_earning[0]\n",
    "                        earning = daily_earning[1]\n",
    "                        lines_json.append({\n",
    "                            'creatorName':   line_json.get('creatorName'), \n",
    "                            'creatorRange':  line_json.get('creatorRange'), \n",
    "                            'startDate':     line_json.get('startDate'),\n",
    "                            'categoryTitle': line_json.get('categoryTitle'),\n",
    "                            'patreon':       line_json.get('patreon'),\n",
    "                            'date':          date,\n",
    "                            'earning':       earning\n",
    "                        })\n",
    "                    else:\n",
    "                        dailyEarningsError_cnt += 1\n",
    "                        print(\">>>> dailyEarningsError - skipped line value: \")\n",
    "                        print(line_json.get('creatorName'), \n",
    "                            line_json.get('creatorRange'), \n",
    "                            line_json.get('startDate'),\n",
    "                            line_json.get('categoryTitle'),\n",
    "                            line_json.get('patreon'),\n",
    "                            daily_earnings\n",
    "                        )\n",
    "\n",
    "stop = timeit.default_timer()\n",
    "time_diff = stop - start\n",
    "\n",
    "print()\n",
    "print(\"==> total time to read and filter graphtreon time series:                      {:>10.0f} min. ({:.0f}s.)\".format(time_diff/60, time_diff)) \n",
    "print(\"==> number of rows read:                                                       {:>10,}\".format(nb_rows_read))\n",
    "print(\"==> number of patreon ids that exist in both GTts and restricted YT metadata:  {:>10,} ({:.2%})\".format(valid_predicate_count, valid_predicate_count/nb_rows_read ))\n",
    "print(\"==> number of skipped rows (JSONDecodeErrors):                                 {:>10,}\".format(JSONDecodeErrors_cnt))\n",
    "print(\"==> number of skipped rows (dailyEarningsError):                               {:>10,}\".format(dailyEarningsError_cnt))\n",
    "\n",
    "# create new dataframe with the filtered lines\n",
    "df_dailyGraph_earningsSeries = pd.DataFrame(data=lines_json)\n",
    "df_dailyGraph_earningsSeries"
   ]
  },
  {
   "cell_type": "markdown",
   "metadata": {},
   "source": [
    "img\n",
    "<!-- GT_timeseries_filter_results_040122.jpg _(filter script below)_\n",
    "<div>\n",
    "    <img src=\"img/GT_timeseries_filter_results_040122.jpg\" alt=\"YT_metadata_filter_results_032622.jpg\" />\n",
    "</div> -->"
   ]
  },
  {
   "cell_type": "code",
   "execution_count": null,
   "metadata": {},
   "outputs": [],
   "source": [
    "# check for NaN values\n",
    "# df_dailyGraph_earningsSeries[df_dailyGraph_earningsSeries.isna().any(axis=1)]"
   ]
  },
  {
   "cell_type": "code",
   "execution_count": null,
   "metadata": {},
   "outputs": [],
   "source": [
    "# save filtered data to LOCAL SCRATCH FOLDER as a compressed tsv (11Mb)\n",
    "# output_file_path = \"dailyGraph_earningsSeries.tsv.gz\"\n",
    "# df_dailyGraph_earningsSeries.to_csv(output_file_path, index=False, sep='\\t', compression='gzip')"
   ]
  },
  {
   "cell_type": "markdown",
   "metadata": {},
   "source": [
    "##### 2.2.3.3. Plot Patreon Time Series"
   ]
  },
  {
   "cell_type": "code",
   "execution_count": 1,
   "metadata": {},
   "outputs": [
    {
     "name": "stdout",
     "output_type": "stream",
     "text": [
      "-rw-r--r-- 1 fmurray IN-MA4_StudU 11M Apr  2 13:24 dailyGraph_earningsSeries.tsv.gz\n"
     ]
    }
   ],
   "source": [
    "!ls -lh dailyGraph_earningsSeries.tsv.gz"
   ]
  },
  {
   "cell_type": "code",
   "execution_count": 2,
   "metadata": {},
   "outputs": [
    {
     "ename": "NameError",
     "evalue": "name 'pd' is not defined",
     "output_type": "error",
     "traceback": [
      "\u001b[0;31m---------------------------------------------------------------------------\u001b[0m",
      "\u001b[0;31mNameError\u001b[0m                                 Traceback (most recent call last)",
      "Input \u001b[0;32mIn [2]\u001b[0m, in \u001b[0;36m<module>\u001b[0;34m\u001b[0m\n\u001b[1;32m      1\u001b[0m \u001b[38;5;66;03m# read file from disk\u001b[39;00m\n\u001b[0;32m----> 2\u001b[0m df_dailyGraph_earningsSeries \u001b[38;5;241m=\u001b[39m \u001b[43mpd\u001b[49m\u001b[38;5;241m.\u001b[39mread_csv(\u001b[38;5;124m\"\u001b[39m\u001b[38;5;124mdailyGraph_earningsSeries.tsv.gz\u001b[39m\u001b[38;5;124m\"\u001b[39m, sep\u001b[38;5;241m=\u001b[39m\u001b[38;5;124m\"\u001b[39m\u001b[38;5;130;01m\\t\u001b[39;00m\u001b[38;5;124m\"\u001b[39m, compression\u001b[38;5;241m=\u001b[39m\u001b[38;5;124m'\u001b[39m\u001b[38;5;124mgzip\u001b[39m\u001b[38;5;124m'\u001b[39m)\n\u001b[1;32m      3\u001b[0m df_dailyGraph_earningsSeries\u001b[38;5;241m.\u001b[39mdate \u001b[38;5;241m=\u001b[39m pd\u001b[38;5;241m.\u001b[39mto_datetime(df_dailyGraph_earningsSeries\u001b[38;5;241m.\u001b[39mdate, unit\u001b[38;5;241m=\u001b[39m\u001b[38;5;124m'\u001b[39m\u001b[38;5;124mms\u001b[39m\u001b[38;5;124m'\u001b[39m)\n\u001b[1;32m      4\u001b[0m df_dailyGraph_earningsSeries\n",
      "\u001b[0;31mNameError\u001b[0m: name 'pd' is not defined"
     ]
    }
   ],
   "source": [
    "# read file from disk\n",
    "df_dailyGraph_earningsSeries = pd.read_csv(\"dailyGraph_earningsSeries.tsv.gz\", sep=\"\\t\", compression='gzip')\n",
    "df_dailyGraph_earningsSeries.date = pd.to_datetime(df_dailyGraph_earningsSeries.date, unit='ms')\n",
    "df_dailyGraph_earningsSeries"
   ]
  },
  {
   "cell_type": "code",
   "execution_count": null,
   "metadata": {},
   "outputs": [],
   "source": [
    "TOP_CNT = 20\n",
    "# group by patreon account\n",
    "dailyGraph_grp_patreon = df_dailyGraph_earningsSeries.groupby('patreon')\\\n",
    "                                                     .agg(date_cnt=('date', 'count'),\n",
    "                                                          earliest_date=('date', 'min'),\n",
    "                                                          lastest_date=('date', 'max'),\n",
    "                                                          daily_earning_mean=('earning', 'mean'),\n",
    "                                                          daily_earning_max=('earning', 'max'))\\\n",
    "                                                     .sort_values(by=['daily_earning_max'], ascending=False)\\\n",
    "                                                     .reset_index()\\\n",
    "                                                     .round(2)\n",
    "\n",
    "# remove hours from dates\n",
    "dailyGraph_grp_patreon.earliest_date = dailyGraph_grp_patreon.earliest_date.dt.date\n",
    "dailyGraph_grp_patreon.lastest_date = dailyGraph_grp_patreon.lastest_date.dt.date\n",
    "\n",
    "dailyGraph_grp_patreon\n",
    "\n",
    "# extract the top 10 most profitable patreon accounts\n",
    "top_patreons = dailyGraph_grp_patreon[:TOP_CNT]['patreon']\n",
    "\n",
    "print(\"[Graphtreon Timeseries] Total number of patreon ids (original file):            {:>9,}\".format(GT_final_processed_file_ROWS))\n",
    "print(\"[Graphtreon Timeseries] Nb of patreon ids in dailyGraph earnings time series:   {:>9,} ({:.1%} of original dataset)\".format(len(dailyGraph_grp_patreon), len(dailyGraph_grp_patreon)/GT_final_processed_file_ROWS))\n",
    "\n",
    "print()\n",
    "\n",
    "dailyGraph_grp_patreon[:TOP_CNT].style.set_caption(f\"Top {TOP_CNT} highest-earning Patreon accounts (sorted by max daily earnings)\")\n",
    "\n"
   ]
  },
  {
   "cell_type": "code",
   "execution_count": null,
   "metadata": {},
   "outputs": [],
   "source": [
    "df_top_pt_daily_earnings = df_dailyGraph_earningsSeries[df_dailyGraph_earningsSeries['patreon'].isin(top_patreons)]"
   ]
  },
  {
   "cell_type": "code",
   "execution_count": null,
   "metadata": {},
   "outputs": [],
   "source": [
    "# plot Patreon daily earningsSeriesData for top patreon accounts\n",
    "import matplotlib.dates as mdates\n",
    "years = mdates.YearLocator()\n",
    "months = mdates.MonthLocator()\n",
    "years_fmt = mdates.DateFormatter('%Y')\n",
    "\n",
    "fig, axs = plt.subplots(int(TOP_CNT/2), 2, figsize=(12, TOP_CNT*1.2), sharey=False, sharex=False)\n",
    "for idx, patreon in enumerate(top_patreons):\n",
    "    row = math.floor(idx/2)\n",
    "    col = idx % 2\n",
    "    sbplt = axs[row, col]\n",
    "\n",
    "    tmp_df = df_top_pt_daily_earnings[df_top_pt_daily_earnings['patreon'] == patreon]\n",
    "\n",
    "    sbplt.plot(tmp_df['date'], tmp_df['earning'])\n",
    "    sbplt.set(title=patreon)\n",
    "    sbplt.xaxis.set_major_locator(years)\n",
    "    sbplt.xaxis.set_major_formatter(years_fmt)\n",
    "    sbplt.xaxis.set_minor_locator(months)\n",
    "    \n",
    "    \n",
    "fig.suptitle(f'Timeseries of the top {TOP_CNT} highest-earning Patreon accounts \\n (earnings per day in dollars)', fontweight=\"bold\")\n",
    "fig.text(0.5,0, 'Day')\n",
    "fig.text(0,0.5, 'Earnings per day ($)', rotation = 90)\n",
    "fig.tight_layout(pad=3, w_pad=5, h_pad=2)"
   ]
  },
  {
   "cell_type": "markdown",
   "metadata": {},
   "source": [
    "**Obvseration:**\n",
    "We can see a drop of income at the beginning of each month. \n",
    "Could this be due to people unsubscribing?"
   ]
  },
  {
   "cell_type": "code",
   "execution_count": null,
   "metadata": {},
   "outputs": [],
   "source": [
    "# analyse 1 account in detail\n",
    "# patreon_account = 'patreon.com/pentatonix'\n",
    "\n",
    "# with pd.option_context('display.max_rows', 90, 'display.min_rows', 90):\n",
    "#     display(df_top_pt_daily_earnings[(df_top_pt_daily_earnings['patreon'] == patreon_account) \n",
    "#                                      # & (df_top_pt_daily_earnings['date'] > pd.Timestamp('2021-01-01'))\n",
    "#                                     ].head(90))\n",
    "        \n",
    "# df_top_pt_daily_earnings.dtypes\n",
    "\n",
    "# check for NaN values\n",
    "# df_top_pt_daily_earnings[df_top_pt_daily_earnings.isna().any(axis=1)]"
   ]
  },
  {
   "cell_type": "code",
   "execution_count": null,
   "metadata": {},
   "outputs": [],
   "source": []
  },
  {
   "cell_type": "code",
   "execution_count": null,
   "metadata": {},
   "outputs": [],
   "source": []
  },
  {
   "cell_type": "code",
   "execution_count": null,
   "metadata": {},
   "outputs": [],
   "source": []
  },
  {
   "cell_type": "code",
   "execution_count": null,
   "metadata": {},
   "outputs": [],
   "source": [
    "# filter youtube metadata (already filtered with restrictions) for which patreon id is in graphtreon id database\n",
    "df_yt_metadata_pt_filtered = df_yt_metadata_pt[df_yt_metadata_pt['patreon_id'].isin(yt_gt_patreon_list)]\n",
    "df_yt_metadata_pt_filtered.head()\n",
    "\n",
    "print(\"[YouTube metadata] Total number of videos:                                                                   {:>10,}\".format(DF_YT_METADATA_ROWS))\n",
    "print(\"[YouTube metadata] number of videos that contain a patreon link in description:                              {:>10,} ( {:.1%} of total dataset)\".format(len(df_yt_metadata_pt), len(df_yt_metadata_pt)/DF_YT_METADATA_ROWS))\n",
    "print(\"[YouTube metadata] number of videos that contain a patreon link in description that is also in GT dataset:   {:>10,} ({:.1%} of videos containing patreon links)\".format(len(df_yt_metadata_pt_filtered), len(df_yt_metadata_pt_filtered)/len(df_yt_metadata_pt)))\n",
    "\n",
    "print(len(df_yt_metadata_pt_filtered))\n",
    "print(len(df_yt_metadata_pt_restr))\n"
   ]
  },
  {
   "cell_type": "code",
   "execution_count": null,
   "metadata": {},
   "outputs": [],
   "source": [
    "df_yt_metadata_pt_filtered.groupby('channel_id').sum().sort_values(by=['view_count'], ascending=False)"
   ]
  },
  {
   "cell_type": "code",
   "execution_count": null,
   "metadata": {},
   "outputs": [],
   "source": [
    "# sort by most popular channel (most aggregate views per channel)\n",
    "df_yt_metadata_pt_filtered.groupby('channel_id').agg(view_count_sum=('view_count', 'sum'),\n",
    "                                                     like_count_sum=('like_count', 'sum'),\n",
    "                                                     # dislike_count_sum=('dislike_count', 'sum'),\n",
    "                                                     # duration_sum=('duration', 'sum')\n",
    "                                                    ).sort_values(by=['view_count_sum'], ascending=False)"
   ]
  },
  {
   "cell_type": "markdown",
   "metadata": {},
   "source": [
    "Preprocess datetime fields"
   ]
  },
  {
   "cell_type": "code",
   "execution_count": null,
   "metadata": {},
   "outputs": [],
   "source": [
    "# # remove na rows\n",
    "# df_gt_timeseries_filtered_dropna = df_gt_timeseries_filtered.dropna()\n",
    "# print(\"[Graphtreon Timeseries] Nb of patreon ids that exist in both GT Timeseries and YouTube metadata:   {:>9,} ( {:.1%} of Graphtreon timeseries dataset)\".format(len(df_gt_timeseries_filtered), len(df_gt_timeseries_filtered)/GT_final_processed_file_ROWS))\n",
    "# print(\"[Graphtreon Timeseries] Number of NaN rows dropped:                                                {:>9,}\".format(len(df_gt_timeseries_filtered) - len(df_gt_timeseries_filtered_dropna)))\n",
    "# print(\"[Graphtreon Timeseries] Remainining non-NaN rows :                                                 {:>9,}\".format(len(df_gt_timeseries_filtered_dropna)))\n",
    "\n",
    "# df_gt_timeseries_filtered_dropna.head(3)"
   ]
  },
  {
   "cell_type": "code",
   "execution_count": null,
   "metadata": {},
   "outputs": [],
   "source": [
    "df_gt_timeseries_filtered.columns"
   ]
  },
  {
   "cell_type": "code",
   "execution_count": null,
   "metadata": {},
   "outputs": [],
   "source": [
    "timeseries_cols = ['dailyGraph_patronSeriesData', 'dailyGraph_earningsSeriesData', 'monthlyGraph_patronSeriesData', 'monthlyGraph_earningsSeriesData','rankingHistoryGraph_seriesData', 'facebookSeriesData','twitterSeriesData','youtubeSeriesData']\n",
    "# timeseries_cols = ['monthlyGraph_patronSeriesData']\n",
    "timeseries_cols"
   ]
  },
  {
   "cell_type": "code",
   "execution_count": null,
   "metadata": {},
   "outputs": [],
   "source": [
    "# def eval(string):\n",
    "#     try:\n",
    "#         return ast.literal_eval(string)\n",
    "#     except:\n",
    "#         return string"
   ]
  },
  {
   "cell_type": "code",
   "execution_count": null,
   "metadata": {},
   "outputs": [],
   "source": [
    "\n",
    "# df_gt_timeseries_filtered.loc[:, timeseries_cols] = df_gt_timeseries_filtered.loc[:, timeseries_cols].apply(lambda x : ast.literal_eval(x))\n",
    "\n",
    "df_gt_timeseries_filtered_dropna.loc[:, 'monthlyGraph_earningsSeriesData'] = df_gt_timeseries_filtered_dropna.loc[:, 'monthlyGraph_earningsSeriesData'].apply(lambda x : ast.literal_eval(x))\n",
    "df_gt_timeseries_filtered_dropna.head()"
   ]
  },
  {
   "cell_type": "code",
   "execution_count": null,
   "metadata": {},
   "outputs": [],
   "source": [
    "idrlabs_df = df_gt_timeseries_filtered_dropna[df_gt_timeseries_filtered_dropna['patreon'] == 'patreon.com/idrlabs']\n",
    "idrlabs_df"
   ]
  },
  {
   "cell_type": "code",
   "execution_count": null,
   "metadata": {},
   "outputs": [],
   "source": [
    "idrlabs_df['monthlyGraph_earningsSeriesData'] = idrlabs_df['monthlyGraph_earningsSeriesData'].apply(lambda x: [[pd.to_datetime(el[0], unit='ms'), el[1]] for el in x])\n",
    "idrlabs_df"
   ]
  },
  {
   "cell_type": "code",
   "execution_count": null,
   "metadata": {},
   "outputs": [],
   "source": [
    "idrlabs_df = idrlabs_df.explode(['monthlyGraph_earningsSeriesData'])\n",
    "idrlabs_df"
   ]
  },
  {
   "cell_type": "code",
   "execution_count": null,
   "metadata": {},
   "outputs": [],
   "source": [
    "idrlabs_df[['monthlyGraph_earningsSeriesData_date','monthlyGraph_earningsSeriesData_earnings']] = pd.DataFrame(idrlabs_df.monthlyGraph_earningsSeriesData.tolist(), index=idrlabs_df.index)\n",
    "idrlabs_df.head(2)"
   ]
  },
  {
   "cell_type": "code",
   "execution_count": null,
   "metadata": {},
   "outputs": [],
   "source": [
    "# using pandas.Grouper\n",
    "# yt_ts_month_cnt_grouper = df_yt_timeseries.groupby(pd.Grouper(key='datetime', freq='M')).count().channel\n",
    "# yt_ts_month_cnt_grouper.head()\n",
    "\n",
    "# idrlabs_series = idrlabs_df[['monthlyGraph_earningsSeriesData_date', 'monthlyGraph_earningsSeriesData_earnings']].set_index('monthlyGraph_earningsSeriesData_date')\n",
    "idrlabs_series = idrlabs_df[['monthlyGraph_earningsSeriesData_date', 'monthlyGraph_earningsSeriesData_earnings']]\n",
    "idrlabs_series"
   ]
  },
  {
   "cell_type": "code",
   "execution_count": null,
   "metadata": {},
   "outputs": [],
   "source": [
    "# plot Patreon MonthlyGraph earningsSeriesData for IDRlabs\n",
    "fig, ax = plt.subplots(1, figsize=(7,3))\n",
    "\n",
    "years = mdates.YearLocator()\n",
    "months = mdates.MonthLocator()\n",
    "\n",
    "\n",
    "ax.plot(idrlabs_series['monthlyGraph_earningsSeriesData_date'], idrlabs_series['monthlyGraph_earningsSeriesData_earnings'])\n",
    "\n",
    "\n",
    "ax.set(title='Patreon MonthlyGraph earningsSeriesData for IDRlabs')\n",
    "ax.set_xlabel(\"Month\")\n",
    "ax.set_ylabel(\"Earnings\")\n",
    "\n",
    "ax.xaxis.set_major_locator(years)\n",
    "ax.xaxis.set_minor_locator(months)\n",
    "plt.show()\n"
   ]
  },
  {
   "cell_type": "code",
   "execution_count": null,
   "metadata": {},
   "outputs": [],
   "source": []
  },
  {
   "cell_type": "code",
   "execution_count": null,
   "metadata": {},
   "outputs": [],
   "source": [
    "df_gt_timeseries_filtered_exploded = df_gt_timeseries_filtered_dropna.explode(['monthlyGraph_earningsSeriesData']).head()\n",
    "df_gt_timeseries_filtered_exploded"
   ]
  },
  {
   "cell_type": "code",
   "execution_count": null,
   "metadata": {},
   "outputs": [],
   "source": [
    "df_gt_timeseries_filtered_exploded[['monthlyGraph_earningsSeriesData_date','monthlyGraph_earningsSeriesData_earning']] = pd.DataFrame(df_gt_timeseries_filtered_exploded.monthlyGraph_earningsSeriesData.tolist(), index= df_gt_timeseries_filtered_exploded.index)\n",
    "df_gt_timeseries_filtered_exploded.head(2)"
   ]
  },
  {
   "cell_type": "code",
   "execution_count": null,
   "metadata": {},
   "outputs": [],
   "source": [
    "df_gt_timeseries_filtered_exploded[\"monthlyGraph_earningsSeriesData_date\"] = pd.to_datetime(df_gt_timeseries_filtered_exploded[\"monthlyGraph_earningsSeriesData_date\"],unit='ms')\n",
    "df_gt_timeseries_filtered_exploded"
   ]
  },
  {
   "cell_type": "markdown",
   "metadata": {},
   "source": [
    "#### 2.2.3. Merge datasets"
   ]
  },
  {
   "cell_type": "code",
   "execution_count": null,
   "metadata": {},
   "outputs": [],
   "source": []
  },
  {
   "cell_type": "code",
   "execution_count": null,
   "metadata": {},
   "outputs": [],
   "source": []
  },
  {
   "cell_type": "code",
   "execution_count": null,
   "metadata": {},
   "outputs": [],
   "source": []
  }
 ],
 "metadata": {
  "kernelspec": {
   "display_name": "Python 3",
   "language": "python",
   "name": "python3"
  },
  "language_info": {
   "codemirror_mode": {
    "name": "ipython",
    "version": 3
   },
   "file_extension": ".py",
   "mimetype": "text/x-python",
   "name": "python",
   "nbconvert_exporter": "python",
   "pygments_lexer": "ipython3",
   "version": "3.8.12"
  }
 },
 "nbformat": 4,
 "nbformat_minor": 4
}
